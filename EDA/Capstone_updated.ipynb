{
  "nbformat": 4,
  "nbformat_minor": 0,
  "metadata": {
    "colab": {
      "name": "Capstone.ipynb",
      "provenance": [],
      "authorship_tag": "ABX9TyMzdeBiQJZBIdWuOlaXyQ31",
      "include_colab_link": true
    },
    "kernelspec": {
      "name": "python3",
      "display_name": "Python 3"
    },
    "language_info": {
      "name": "python"
    }
  },
  "cells": [
    {
      "cell_type": "markdown",
      "metadata": {
        "id": "view-in-github",
        "colab_type": "text"
      },
      "source": [
        "<a href=\"https://colab.research.google.com/github/Eskarteek/Eskarteek_DATA606/blob/main/EDA/Capstone_updated.ipynb\" target=\"_parent\"><img src=\"https://colab.research.google.com/assets/colab-badge.svg\" alt=\"Open In Colab\"/></a>"
      ]
    },
    {
      "cell_type": "markdown",
      "source": [
        "# Welcome to my Notebook"
      ],
      "metadata": {
        "id": "lvcDK8fkgQ0O"
      }
    },
    {
      "cell_type": "markdown",
      "source": [
        "### importing libraries and packages\n"
      ],
      "metadata": {
        "id": "mzxTke9-Ibyq"
      }
    },
    {
      "cell_type": "code",
      "source": [
        "# pip install nltk"
      ],
      "metadata": {
        "id": "I60UYkc0IQ63"
      },
      "execution_count": 70,
      "outputs": []
    },
    {
      "cell_type": "code",
      "source": [
        "# pip install snscrape"
      ],
      "metadata": {
        "id": "suo_UJitbAWr"
      },
      "execution_count": 72,
      "outputs": []
    },
    {
      "cell_type": "code",
      "source": [
        "# pip install yfinance"
      ],
      "metadata": {
        "id": "FsCL8lipFyVB"
      },
      "execution_count": 74,
      "outputs": []
    },
    {
      "cell_type": "code",
      "source": [
        "# nltk.download('vader_lexicon')"
      ],
      "metadata": {
        "id": "HxBy6MpYGw7u"
      },
      "execution_count": 76,
      "outputs": []
    },
    {
      "cell_type": "code",
      "source": [
        "# nltk.download('stopwords')\n",
        "# nltk.download('wordnet')"
      ],
      "metadata": {
        "id": "WlkfacmdGxIJ"
      },
      "execution_count": 78,
      "outputs": []
    },
    {
      "cell_type": "code",
      "source": [
        "# pip install drive"
      ],
      "metadata": {
        "id": "Tb7Rdb6hMEJZ"
      },
      "execution_count": 85,
      "outputs": []
    },
    {
      "cell_type": "code",
      "source": [
        "import pandas as pd\n",
        "import matplotlib.pyplot as plt\n",
        "from os import path\n",
        "from PIL import Image\n",
        "from wordcloud import WordCloud, ImageColorGenerator\n",
        "import nltk\n",
        "import numpy as np\n",
        "from bs4 import BeautifulSoup\n",
        "import requests\n",
        "import snscrape.modules.twitter as sntwitter\n",
        "import datetime"
      ],
      "metadata": {
        "id": "qvYu7-AIGxKe"
      },
      "execution_count": 157,
      "outputs": []
    },
    {
      "cell_type": "code",
      "source": [
        "from google.colab import drive\n",
        "drive.mount('/content/gdrive')"
      ],
      "metadata": {
        "colab": {
          "base_uri": "https://localhost:8080/"
        },
        "id": "1tQAPw2qMBbN",
        "outputId": "00cd50a9-26ce-4f52-9597-08a0f3ba99ec"
      },
      "execution_count": 89,
      "outputs": [
        {
          "output_type": "stream",
          "name": "stdout",
          "text": [
            "Drive already mounted at /content/gdrive; to attempt to forcibly remount, call drive.mount(\"/content/gdrive\", force_remount=True).\n"
          ]
        }
      ]
    },
    {
      "cell_type": "code",
      "source": [
        "#picking stock symbol\n",
        "data = pd.read_csv('/content/gdrive/MyDrive/nasdaq_screener_1645401938081.csv')\n",
        "def User_inputs():\n",
        "  symbol = input(\"Enter the stock symbol: \").upper()\n",
        "  while True:\n",
        "    if symbol not in data['Symbol'].to_list():\n",
        "      print('Symbol not available in our database or you have entered it wrong')\n",
        "      symbol = input(\"Enter the stock symbol: \").upper()\n",
        "    else:\n",
        "      return symbol"
      ],
      "metadata": {
        "id": "1NOcvdE3i1iU"
      },
      "execution_count": 178,
      "outputs": []
    },
    {
      "cell_type": "code",
      "source": [
        "#Reading NASDAQ data\n",
        "symbol = User_inputs()"
      ],
      "metadata": {
        "id": "dMmgSdGzoUI0",
        "colab": {
          "base_uri": "https://localhost:8080/"
        },
        "outputId": "94d4d78b-e4ad-4896-869b-ae34fd9d0694"
      },
      "execution_count": 179,
      "outputs": [
        {
          "name": "stdout",
          "output_type": "stream",
          "text": [
            "Enter the stock symbol: AMZN\n"
          ]
        }
      ]
    },
    {
      "cell_type": "code",
      "source": [
        "symbol"
      ],
      "metadata": {
        "colab": {
          "base_uri": "https://localhost:8080/",
          "height": 34
        },
        "id": "OqBTSkaCQWKX",
        "outputId": "ea790f76-40eb-4fa0-9858-463cc763e682"
      },
      "execution_count": 180,
      "outputs": [
        {
          "output_type": "execute_result",
          "data": {
            "application/vnd.google.colaboratory.intrinsic+json": {
              "type": "string"
            },
            "text/plain": [
              "'AMZN'"
            ]
          },
          "metadata": {},
          "execution_count": 180
        }
      ]
    },
    {
      "cell_type": "code",
      "source": [
        "data_dict = {}"
      ],
      "metadata": {
        "id": "DyxE_2IUqznI"
      },
      "execution_count": 144,
      "outputs": []
    },
    {
      "cell_type": "code",
      "source": [
        "for i in range(len(data)):\n",
        "  data_dict[data.iloc[i][0]] = [data.iloc[i][1], data.iloc[i][2]]"
      ],
      "metadata": {
        "id": "HzOiUhXXoULM"
      },
      "execution_count": 147,
      "outputs": []
    },
    {
      "cell_type": "code",
      "source": [
        "data['Name'][6].split('.')"
      ],
      "metadata": {
        "colab": {
          "base_uri": "https://localhost:8080/"
        },
        "id": "4qqJ4YUPut8S",
        "outputId": "434bacf2-5818-4c58-be9f-fe3e684c83ca"
      },
      "execution_count": 262,
      "outputs": [
        {
          "output_type": "execute_result",
          "data": {
            "text/plain": [
              "['Applied Optoelectronics Inc', ' Common Stock']"
            ]
          },
          "metadata": {},
          "execution_count": 262
        }
      ]
    },
    {
      "cell_type": "code",
      "source": [
        "#Stock symbol and company name data.\n",
        "# data_dict"
      ],
      "metadata": {
        "id": "6BMj9LM9lzj9"
      },
      "execution_count": 114,
      "outputs": []
    },
    {
      "cell_type": "code",
      "source": [
        "import yfinance as yf"
      ],
      "metadata": {
        "id": "aYOF35JSlKRN"
      },
      "execution_count": 115,
      "outputs": []
    },
    {
      "cell_type": "code",
      "source": [
        "#Scrapes all the news articles from yfinance website\n",
        "inp = yf.Ticker(symbol)"
      ],
      "metadata": {
        "id": "GmU1MjYqsQ_h"
      },
      "execution_count": 116,
      "outputs": []
    },
    {
      "cell_type": "code",
      "source": [
        "inp.news"
      ],
      "metadata": {
        "colab": {
          "base_uri": "https://localhost:8080/",
          "height": 158
        },
        "id": "y_fNgHQFQPm8",
        "outputId": "dd467cb3-87bd-4d47-ab64-67b9b4eeed0b"
      },
      "execution_count": 1,
      "outputs": [
        {
          "output_type": "error",
          "ename": "NameError",
          "evalue": "ignored",
          "traceback": [
            "\u001b[0;31m---------------------------------------------------------------------------\u001b[0m",
            "\u001b[0;31mNameError\u001b[0m                                 Traceback (most recent call last)",
            "\u001b[0;32m<ipython-input-1-078e7b7375ac>\u001b[0m in \u001b[0;36m<module>\u001b[0;34m()\u001b[0m\n\u001b[0;32m----> 1\u001b[0;31m \u001b[0minp\u001b[0m\u001b[0;34m.\u001b[0m\u001b[0mnews\u001b[0m\u001b[0;34m\u001b[0m\u001b[0;34m\u001b[0m\u001b[0m\n\u001b[0m",
            "\u001b[0;31mNameError\u001b[0m: name 'inp' is not defined"
          ]
        }
      ]
    },
    {
      "cell_type": "code",
      "source": [
        "#Scraping text from news articles and titles using beautiful soup\n",
        "df = pd.DataFrame()\n",
        "title = []\n",
        "newslist = []\n",
        "for i in range(len(inp.news)):\n",
        "  site = inp.news[i]['link']\n",
        "  r = requests.get(site)\n",
        "  soup = BeautifulSoup(r.text)\n",
        "  try:\n",
        "    newslist.append(soup.find('div', attrs={'class': 'caas-body'}).text)\n",
        "    title.append(inp.news[i]['title'])\n",
        "  except:\n",
        "    pass\n",
        "  "
      ],
      "metadata": {
        "id": "tLKRVkwdKJNJ"
      },
      "execution_count": 118,
      "outputs": []
    },
    {
      "cell_type": "code",
      "source": [
        "df['Title'] = title"
      ],
      "metadata": {
        "id": "z1nC-2atvt1g"
      },
      "execution_count": 119,
      "outputs": []
    },
    {
      "cell_type": "code",
      "source": [
        "df['News'] = newslist"
      ],
      "metadata": {
        "id": "KcsmCAo6KJPs"
      },
      "execution_count": 120,
      "outputs": []
    },
    {
      "cell_type": "code",
      "source": [
        "df"
      ],
      "metadata": {
        "id": "IuOuPD68wHzt",
        "outputId": "4a701732-e570-4d56-b221-b5d808d54fd5",
        "colab": {
          "base_uri": "https://localhost:8080/",
          "height": 201
        }
      },
      "execution_count": 121,
      "outputs": [
        {
          "output_type": "execute_result",
          "data": {
            "text/html": [
              "\n",
              "  <div id=\"df-b70e640b-6857-462c-ba1d-c1e15f6ce396\">\n",
              "    <div class=\"colab-df-container\">\n",
              "      <div>\n",
              "<style scoped>\n",
              "    .dataframe tbody tr th:only-of-type {\n",
              "        vertical-align: middle;\n",
              "    }\n",
              "\n",
              "    .dataframe tbody tr th {\n",
              "        vertical-align: top;\n",
              "    }\n",
              "\n",
              "    .dataframe thead th {\n",
              "        text-align: right;\n",
              "    }\n",
              "</style>\n",
              "<table border=\"1\" class=\"dataframe\">\n",
              "  <thead>\n",
              "    <tr style=\"text-align: right;\">\n",
              "      <th></th>\n",
              "      <th>Title</th>\n",
              "      <th>News</th>\n",
              "    </tr>\n",
              "  </thead>\n",
              "  <tbody>\n",
              "    <tr>\n",
              "      <th>0</th>\n",
              "      <td>Millennial And Gen Z Stock Picks From Tesla To...</td>\n",
              "      <td>Millennials and Gen Z are investing earlier th...</td>\n",
              "    </tr>\n",
              "    <tr>\n",
              "      <th>1</th>\n",
              "      <td>Is Lucid Motors Stock A Buy Right Now After Q4...</td>\n",
              "      <td>Lucid Motors stock debuted in late July, surgi...</td>\n",
              "    </tr>\n",
              "    <tr>\n",
              "      <th>2</th>\n",
              "      <td>Berkshire Hathaway’s Market Cap Climbs. It Cou...</td>\n",
              "      <td>Value stocks are getting more love than growth...</td>\n",
              "    </tr>\n",
              "    <tr>\n",
              "      <th>3</th>\n",
              "      <td>Biden elevates Ford, GM, and now Siemens — but...</td>\n",
              "      <td>When President Joe Biden wanted to talk about ...</td>\n",
              "    </tr>\n",
              "    <tr>\n",
              "      <th>4</th>\n",
              "      <td>These Are The 5 Best EV Stocks To Buy And Watc...</td>\n",
              "      <td>EV stocks have multiplied in Tesla’s wake and ...</td>\n",
              "    </tr>\n",
              "  </tbody>\n",
              "</table>\n",
              "</div>\n",
              "      <button class=\"colab-df-convert\" onclick=\"convertToInteractive('df-b70e640b-6857-462c-ba1d-c1e15f6ce396')\"\n",
              "              title=\"Convert this dataframe to an interactive table.\"\n",
              "              style=\"display:none;\">\n",
              "        \n",
              "  <svg xmlns=\"http://www.w3.org/2000/svg\" height=\"24px\"viewBox=\"0 0 24 24\"\n",
              "       width=\"24px\">\n",
              "    <path d=\"M0 0h24v24H0V0z\" fill=\"none\"/>\n",
              "    <path d=\"M18.56 5.44l.94 2.06.94-2.06 2.06-.94-2.06-.94-.94-2.06-.94 2.06-2.06.94zm-11 1L8.5 8.5l.94-2.06 2.06-.94-2.06-.94L8.5 2.5l-.94 2.06-2.06.94zm10 10l.94 2.06.94-2.06 2.06-.94-2.06-.94-.94-2.06-.94 2.06-2.06.94z\"/><path d=\"M17.41 7.96l-1.37-1.37c-.4-.4-.92-.59-1.43-.59-.52 0-1.04.2-1.43.59L10.3 9.45l-7.72 7.72c-.78.78-.78 2.05 0 2.83L4 21.41c.39.39.9.59 1.41.59.51 0 1.02-.2 1.41-.59l7.78-7.78 2.81-2.81c.8-.78.8-2.07 0-2.86zM5.41 20L4 18.59l7.72-7.72 1.47 1.35L5.41 20z\"/>\n",
              "  </svg>\n",
              "      </button>\n",
              "      \n",
              "  <style>\n",
              "    .colab-df-container {\n",
              "      display:flex;\n",
              "      flex-wrap:wrap;\n",
              "      gap: 12px;\n",
              "    }\n",
              "\n",
              "    .colab-df-convert {\n",
              "      background-color: #E8F0FE;\n",
              "      border: none;\n",
              "      border-radius: 50%;\n",
              "      cursor: pointer;\n",
              "      display: none;\n",
              "      fill: #1967D2;\n",
              "      height: 32px;\n",
              "      padding: 0 0 0 0;\n",
              "      width: 32px;\n",
              "    }\n",
              "\n",
              "    .colab-df-convert:hover {\n",
              "      background-color: #E2EBFA;\n",
              "      box-shadow: 0px 1px 2px rgba(60, 64, 67, 0.3), 0px 1px 3px 1px rgba(60, 64, 67, 0.15);\n",
              "      fill: #174EA6;\n",
              "    }\n",
              "\n",
              "    [theme=dark] .colab-df-convert {\n",
              "      background-color: #3B4455;\n",
              "      fill: #D2E3FC;\n",
              "    }\n",
              "\n",
              "    [theme=dark] .colab-df-convert:hover {\n",
              "      background-color: #434B5C;\n",
              "      box-shadow: 0px 1px 3px 1px rgba(0, 0, 0, 0.15);\n",
              "      filter: drop-shadow(0px 1px 2px rgba(0, 0, 0, 0.3));\n",
              "      fill: #FFFFFF;\n",
              "    }\n",
              "  </style>\n",
              "\n",
              "      <script>\n",
              "        const buttonEl =\n",
              "          document.querySelector('#df-b70e640b-6857-462c-ba1d-c1e15f6ce396 button.colab-df-convert');\n",
              "        buttonEl.style.display =\n",
              "          google.colab.kernel.accessAllowed ? 'block' : 'none';\n",
              "\n",
              "        async function convertToInteractive(key) {\n",
              "          const element = document.querySelector('#df-b70e640b-6857-462c-ba1d-c1e15f6ce396');\n",
              "          const dataTable =\n",
              "            await google.colab.kernel.invokeFunction('convertToInteractive',\n",
              "                                                     [key], {});\n",
              "          if (!dataTable) return;\n",
              "\n",
              "          const docLinkHtml = 'Like what you see? Visit the ' +\n",
              "            '<a target=\"_blank\" href=https://colab.research.google.com/notebooks/data_table.ipynb>data table notebook</a>'\n",
              "            + ' to learn more about interactive tables.';\n",
              "          element.innerHTML = '';\n",
              "          dataTable['output_type'] = 'display_data';\n",
              "          await google.colab.output.renderOutput(dataTable, element);\n",
              "          const docLink = document.createElement('div');\n",
              "          docLink.innerHTML = docLinkHtml;\n",
              "          element.appendChild(docLink);\n",
              "        }\n",
              "      </script>\n",
              "    </div>\n",
              "  </div>\n",
              "  "
            ],
            "text/plain": [
              "                                               Title  \\\n",
              "0  Millennial And Gen Z Stock Picks From Tesla To...   \n",
              "1  Is Lucid Motors Stock A Buy Right Now After Q4...   \n",
              "2  Berkshire Hathaway’s Market Cap Climbs. It Cou...   \n",
              "3  Biden elevates Ford, GM, and now Siemens — but...   \n",
              "4  These Are The 5 Best EV Stocks To Buy And Watc...   \n",
              "\n",
              "                                                News  \n",
              "0  Millennials and Gen Z are investing earlier th...  \n",
              "1  Lucid Motors stock debuted in late July, surgi...  \n",
              "2  Value stocks are getting more love than growth...  \n",
              "3  When President Joe Biden wanted to talk about ...  \n",
              "4  EV stocks have multiplied in Tesla’s wake and ...  "
            ]
          },
          "metadata": {},
          "execution_count": 121
        }
      ]
    },
    {
      "cell_type": "code",
      "source": [
        "# Using VADAR sentiment analyzer to detected sentiment scores in the text\n",
        "from nltk.sentiment.vader import SentimentIntensityAnalyzer"
      ],
      "metadata": {
        "id": "TbAdg2v0v-Rq"
      },
      "execution_count": 122,
      "outputs": []
    },
    {
      "cell_type": "code",
      "source": [
        "vader = SentimentIntensityAnalyzer()\n",
        "scores = df['News'].apply(vader.polarity_scores).tolist()\n",
        "df['Score'] = scores\n",
        "#Adding these scores to the dataset"
      ],
      "metadata": {
        "id": "8XR8VPawsjVy"
      },
      "execution_count": 123,
      "outputs": []
    },
    {
      "cell_type": "code",
      "source": [
        "df"
      ],
      "metadata": {
        "id": "7ftqbFhVtbTI",
        "outputId": "c792af78-5cdd-43eb-928e-433a9e77d0d9",
        "colab": {
          "base_uri": "https://localhost:8080/",
          "height": 201
        }
      },
      "execution_count": 124,
      "outputs": [
        {
          "output_type": "execute_result",
          "data": {
            "text/html": [
              "\n",
              "  <div id=\"df-012bf94b-4561-4047-aae9-0e67381f553b\">\n",
              "    <div class=\"colab-df-container\">\n",
              "      <div>\n",
              "<style scoped>\n",
              "    .dataframe tbody tr th:only-of-type {\n",
              "        vertical-align: middle;\n",
              "    }\n",
              "\n",
              "    .dataframe tbody tr th {\n",
              "        vertical-align: top;\n",
              "    }\n",
              "\n",
              "    .dataframe thead th {\n",
              "        text-align: right;\n",
              "    }\n",
              "</style>\n",
              "<table border=\"1\" class=\"dataframe\">\n",
              "  <thead>\n",
              "    <tr style=\"text-align: right;\">\n",
              "      <th></th>\n",
              "      <th>Title</th>\n",
              "      <th>News</th>\n",
              "      <th>Score</th>\n",
              "    </tr>\n",
              "  </thead>\n",
              "  <tbody>\n",
              "    <tr>\n",
              "      <th>0</th>\n",
              "      <td>Millennial And Gen Z Stock Picks From Tesla To...</td>\n",
              "      <td>Millennials and Gen Z are investing earlier th...</td>\n",
              "      <td>{'neg': 0.0, 'neu': 0.903, 'pos': 0.097, 'comp...</td>\n",
              "    </tr>\n",
              "    <tr>\n",
              "      <th>1</th>\n",
              "      <td>Is Lucid Motors Stock A Buy Right Now After Q4...</td>\n",
              "      <td>Lucid Motors stock debuted in late July, surgi...</td>\n",
              "      <td>{'neg': 0.0, 'neu': 1.0, 'pos': 0.0, 'compound...</td>\n",
              "    </tr>\n",
              "    <tr>\n",
              "      <th>2</th>\n",
              "      <td>Berkshire Hathaway’s Market Cap Climbs. It Cou...</td>\n",
              "      <td>Value stocks are getting more love than growth...</td>\n",
              "      <td>{'neg': 0.0, 'neu': 0.693, 'pos': 0.307, 'comp...</td>\n",
              "    </tr>\n",
              "    <tr>\n",
              "      <th>3</th>\n",
              "      <td>Biden elevates Ford, GM, and now Siemens — but...</td>\n",
              "      <td>When President Joe Biden wanted to talk about ...</td>\n",
              "      <td>{'neg': 0.01, 'neu': 0.937, 'pos': 0.054, 'com...</td>\n",
              "    </tr>\n",
              "    <tr>\n",
              "      <th>4</th>\n",
              "      <td>These Are The 5 Best EV Stocks To Buy And Watc...</td>\n",
              "      <td>EV stocks have multiplied in Tesla’s wake and ...</td>\n",
              "      <td>{'neg': 0.0, 'neu': 1.0, 'pos': 0.0, 'compound...</td>\n",
              "    </tr>\n",
              "  </tbody>\n",
              "</table>\n",
              "</div>\n",
              "      <button class=\"colab-df-convert\" onclick=\"convertToInteractive('df-012bf94b-4561-4047-aae9-0e67381f553b')\"\n",
              "              title=\"Convert this dataframe to an interactive table.\"\n",
              "              style=\"display:none;\">\n",
              "        \n",
              "  <svg xmlns=\"http://www.w3.org/2000/svg\" height=\"24px\"viewBox=\"0 0 24 24\"\n",
              "       width=\"24px\">\n",
              "    <path d=\"M0 0h24v24H0V0z\" fill=\"none\"/>\n",
              "    <path d=\"M18.56 5.44l.94 2.06.94-2.06 2.06-.94-2.06-.94-.94-2.06-.94 2.06-2.06.94zm-11 1L8.5 8.5l.94-2.06 2.06-.94-2.06-.94L8.5 2.5l-.94 2.06-2.06.94zm10 10l.94 2.06.94-2.06 2.06-.94-2.06-.94-.94-2.06-.94 2.06-2.06.94z\"/><path d=\"M17.41 7.96l-1.37-1.37c-.4-.4-.92-.59-1.43-.59-.52 0-1.04.2-1.43.59L10.3 9.45l-7.72 7.72c-.78.78-.78 2.05 0 2.83L4 21.41c.39.39.9.59 1.41.59.51 0 1.02-.2 1.41-.59l7.78-7.78 2.81-2.81c.8-.78.8-2.07 0-2.86zM5.41 20L4 18.59l7.72-7.72 1.47 1.35L5.41 20z\"/>\n",
              "  </svg>\n",
              "      </button>\n",
              "      \n",
              "  <style>\n",
              "    .colab-df-container {\n",
              "      display:flex;\n",
              "      flex-wrap:wrap;\n",
              "      gap: 12px;\n",
              "    }\n",
              "\n",
              "    .colab-df-convert {\n",
              "      background-color: #E8F0FE;\n",
              "      border: none;\n",
              "      border-radius: 50%;\n",
              "      cursor: pointer;\n",
              "      display: none;\n",
              "      fill: #1967D2;\n",
              "      height: 32px;\n",
              "      padding: 0 0 0 0;\n",
              "      width: 32px;\n",
              "    }\n",
              "\n",
              "    .colab-df-convert:hover {\n",
              "      background-color: #E2EBFA;\n",
              "      box-shadow: 0px 1px 2px rgba(60, 64, 67, 0.3), 0px 1px 3px 1px rgba(60, 64, 67, 0.15);\n",
              "      fill: #174EA6;\n",
              "    }\n",
              "\n",
              "    [theme=dark] .colab-df-convert {\n",
              "      background-color: #3B4455;\n",
              "      fill: #D2E3FC;\n",
              "    }\n",
              "\n",
              "    [theme=dark] .colab-df-convert:hover {\n",
              "      background-color: #434B5C;\n",
              "      box-shadow: 0px 1px 3px 1px rgba(0, 0, 0, 0.15);\n",
              "      filter: drop-shadow(0px 1px 2px rgba(0, 0, 0, 0.3));\n",
              "      fill: #FFFFFF;\n",
              "    }\n",
              "  </style>\n",
              "\n",
              "      <script>\n",
              "        const buttonEl =\n",
              "          document.querySelector('#df-012bf94b-4561-4047-aae9-0e67381f553b button.colab-df-convert');\n",
              "        buttonEl.style.display =\n",
              "          google.colab.kernel.accessAllowed ? 'block' : 'none';\n",
              "\n",
              "        async function convertToInteractive(key) {\n",
              "          const element = document.querySelector('#df-012bf94b-4561-4047-aae9-0e67381f553b');\n",
              "          const dataTable =\n",
              "            await google.colab.kernel.invokeFunction('convertToInteractive',\n",
              "                                                     [key], {});\n",
              "          if (!dataTable) return;\n",
              "\n",
              "          const docLinkHtml = 'Like what you see? Visit the ' +\n",
              "            '<a target=\"_blank\" href=https://colab.research.google.com/notebooks/data_table.ipynb>data table notebook</a>'\n",
              "            + ' to learn more about interactive tables.';\n",
              "          element.innerHTML = '';\n",
              "          dataTable['output_type'] = 'display_data';\n",
              "          await google.colab.output.renderOutput(dataTable, element);\n",
              "          const docLink = document.createElement('div');\n",
              "          docLink.innerHTML = docLinkHtml;\n",
              "          element.appendChild(docLink);\n",
              "        }\n",
              "      </script>\n",
              "    </div>\n",
              "  </div>\n",
              "  "
            ],
            "text/plain": [
              "                                               Title  \\\n",
              "0  Millennial And Gen Z Stock Picks From Tesla To...   \n",
              "1  Is Lucid Motors Stock A Buy Right Now After Q4...   \n",
              "2  Berkshire Hathaway’s Market Cap Climbs. It Cou...   \n",
              "3  Biden elevates Ford, GM, and now Siemens — but...   \n",
              "4  These Are The 5 Best EV Stocks To Buy And Watc...   \n",
              "\n",
              "                                                News  \\\n",
              "0  Millennials and Gen Z are investing earlier th...   \n",
              "1  Lucid Motors stock debuted in late July, surgi...   \n",
              "2  Value stocks are getting more love than growth...   \n",
              "3  When President Joe Biden wanted to talk about ...   \n",
              "4  EV stocks have multiplied in Tesla’s wake and ...   \n",
              "\n",
              "                                               Score  \n",
              "0  {'neg': 0.0, 'neu': 0.903, 'pos': 0.097, 'comp...  \n",
              "1  {'neg': 0.0, 'neu': 1.0, 'pos': 0.0, 'compound...  \n",
              "2  {'neg': 0.0, 'neu': 0.693, 'pos': 0.307, 'comp...  \n",
              "3  {'neg': 0.01, 'neu': 0.937, 'pos': 0.054, 'com...  \n",
              "4  {'neg': 0.0, 'neu': 1.0, 'pos': 0.0, 'compound...  "
            ]
          },
          "metadata": {},
          "execution_count": 124
        }
      ]
    },
    {
      "cell_type": "code",
      "source": [
        "#Predicting Polarity (0: Neutal , Positive: 1,Negative: -1)\n",
        "pn = []\n",
        "for i in df['Score']:\n",
        "    if i['compound'] > 0:    \n",
        "        pn.append(1)\n",
        "    elif i['compound'] < 0:\n",
        "        pn.append(-1)\n",
        "    else:\n",
        "      pn.append(0)"
      ],
      "metadata": {
        "id": "tAj1ua27ufBE"
      },
      "execution_count": 125,
      "outputs": []
    },
    {
      "cell_type": "code",
      "source": [
        "#Appending them to the dataset\n",
        "df['Sentiment Poles'] = pn"
      ],
      "metadata": {
        "id": "jxuEWJqQufDb"
      },
      "execution_count": 126,
      "outputs": []
    },
    {
      "cell_type": "code",
      "source": [
        "df"
      ],
      "metadata": {
        "id": "1BgBKoG4ufFr",
        "outputId": "24c1ee76-bf8d-4136-a1d7-165749d31c8d",
        "colab": {
          "base_uri": "https://localhost:8080/",
          "height": 201
        }
      },
      "execution_count": 127,
      "outputs": [
        {
          "output_type": "execute_result",
          "data": {
            "text/html": [
              "\n",
              "  <div id=\"df-376a1463-d46f-4ffa-a6db-295f2b23be87\">\n",
              "    <div class=\"colab-df-container\">\n",
              "      <div>\n",
              "<style scoped>\n",
              "    .dataframe tbody tr th:only-of-type {\n",
              "        vertical-align: middle;\n",
              "    }\n",
              "\n",
              "    .dataframe tbody tr th {\n",
              "        vertical-align: top;\n",
              "    }\n",
              "\n",
              "    .dataframe thead th {\n",
              "        text-align: right;\n",
              "    }\n",
              "</style>\n",
              "<table border=\"1\" class=\"dataframe\">\n",
              "  <thead>\n",
              "    <tr style=\"text-align: right;\">\n",
              "      <th></th>\n",
              "      <th>Title</th>\n",
              "      <th>News</th>\n",
              "      <th>Score</th>\n",
              "      <th>Sentiment Poles</th>\n",
              "    </tr>\n",
              "  </thead>\n",
              "  <tbody>\n",
              "    <tr>\n",
              "      <th>0</th>\n",
              "      <td>Millennial And Gen Z Stock Picks From Tesla To...</td>\n",
              "      <td>Millennials and Gen Z are investing earlier th...</td>\n",
              "      <td>{'neg': 0.0, 'neu': 0.903, 'pos': 0.097, 'comp...</td>\n",
              "      <td>1</td>\n",
              "    </tr>\n",
              "    <tr>\n",
              "      <th>1</th>\n",
              "      <td>Is Lucid Motors Stock A Buy Right Now After Q4...</td>\n",
              "      <td>Lucid Motors stock debuted in late July, surgi...</td>\n",
              "      <td>{'neg': 0.0, 'neu': 1.0, 'pos': 0.0, 'compound...</td>\n",
              "      <td>0</td>\n",
              "    </tr>\n",
              "    <tr>\n",
              "      <th>2</th>\n",
              "      <td>Berkshire Hathaway’s Market Cap Climbs. It Cou...</td>\n",
              "      <td>Value stocks are getting more love than growth...</td>\n",
              "      <td>{'neg': 0.0, 'neu': 0.693, 'pos': 0.307, 'comp...</td>\n",
              "      <td>1</td>\n",
              "    </tr>\n",
              "    <tr>\n",
              "      <th>3</th>\n",
              "      <td>Biden elevates Ford, GM, and now Siemens — but...</td>\n",
              "      <td>When President Joe Biden wanted to talk about ...</td>\n",
              "      <td>{'neg': 0.01, 'neu': 0.937, 'pos': 0.054, 'com...</td>\n",
              "      <td>1</td>\n",
              "    </tr>\n",
              "    <tr>\n",
              "      <th>4</th>\n",
              "      <td>These Are The 5 Best EV Stocks To Buy And Watc...</td>\n",
              "      <td>EV stocks have multiplied in Tesla’s wake and ...</td>\n",
              "      <td>{'neg': 0.0, 'neu': 1.0, 'pos': 0.0, 'compound...</td>\n",
              "      <td>0</td>\n",
              "    </tr>\n",
              "  </tbody>\n",
              "</table>\n",
              "</div>\n",
              "      <button class=\"colab-df-convert\" onclick=\"convertToInteractive('df-376a1463-d46f-4ffa-a6db-295f2b23be87')\"\n",
              "              title=\"Convert this dataframe to an interactive table.\"\n",
              "              style=\"display:none;\">\n",
              "        \n",
              "  <svg xmlns=\"http://www.w3.org/2000/svg\" height=\"24px\"viewBox=\"0 0 24 24\"\n",
              "       width=\"24px\">\n",
              "    <path d=\"M0 0h24v24H0V0z\" fill=\"none\"/>\n",
              "    <path d=\"M18.56 5.44l.94 2.06.94-2.06 2.06-.94-2.06-.94-.94-2.06-.94 2.06-2.06.94zm-11 1L8.5 8.5l.94-2.06 2.06-.94-2.06-.94L8.5 2.5l-.94 2.06-2.06.94zm10 10l.94 2.06.94-2.06 2.06-.94-2.06-.94-.94-2.06-.94 2.06-2.06.94z\"/><path d=\"M17.41 7.96l-1.37-1.37c-.4-.4-.92-.59-1.43-.59-.52 0-1.04.2-1.43.59L10.3 9.45l-7.72 7.72c-.78.78-.78 2.05 0 2.83L4 21.41c.39.39.9.59 1.41.59.51 0 1.02-.2 1.41-.59l7.78-7.78 2.81-2.81c.8-.78.8-2.07 0-2.86zM5.41 20L4 18.59l7.72-7.72 1.47 1.35L5.41 20z\"/>\n",
              "  </svg>\n",
              "      </button>\n",
              "      \n",
              "  <style>\n",
              "    .colab-df-container {\n",
              "      display:flex;\n",
              "      flex-wrap:wrap;\n",
              "      gap: 12px;\n",
              "    }\n",
              "\n",
              "    .colab-df-convert {\n",
              "      background-color: #E8F0FE;\n",
              "      border: none;\n",
              "      border-radius: 50%;\n",
              "      cursor: pointer;\n",
              "      display: none;\n",
              "      fill: #1967D2;\n",
              "      height: 32px;\n",
              "      padding: 0 0 0 0;\n",
              "      width: 32px;\n",
              "    }\n",
              "\n",
              "    .colab-df-convert:hover {\n",
              "      background-color: #E2EBFA;\n",
              "      box-shadow: 0px 1px 2px rgba(60, 64, 67, 0.3), 0px 1px 3px 1px rgba(60, 64, 67, 0.15);\n",
              "      fill: #174EA6;\n",
              "    }\n",
              "\n",
              "    [theme=dark] .colab-df-convert {\n",
              "      background-color: #3B4455;\n",
              "      fill: #D2E3FC;\n",
              "    }\n",
              "\n",
              "    [theme=dark] .colab-df-convert:hover {\n",
              "      background-color: #434B5C;\n",
              "      box-shadow: 0px 1px 3px 1px rgba(0, 0, 0, 0.15);\n",
              "      filter: drop-shadow(0px 1px 2px rgba(0, 0, 0, 0.3));\n",
              "      fill: #FFFFFF;\n",
              "    }\n",
              "  </style>\n",
              "\n",
              "      <script>\n",
              "        const buttonEl =\n",
              "          document.querySelector('#df-376a1463-d46f-4ffa-a6db-295f2b23be87 button.colab-df-convert');\n",
              "        buttonEl.style.display =\n",
              "          google.colab.kernel.accessAllowed ? 'block' : 'none';\n",
              "\n",
              "        async function convertToInteractive(key) {\n",
              "          const element = document.querySelector('#df-376a1463-d46f-4ffa-a6db-295f2b23be87');\n",
              "          const dataTable =\n",
              "            await google.colab.kernel.invokeFunction('convertToInteractive',\n",
              "                                                     [key], {});\n",
              "          if (!dataTable) return;\n",
              "\n",
              "          const docLinkHtml = 'Like what you see? Visit the ' +\n",
              "            '<a target=\"_blank\" href=https://colab.research.google.com/notebooks/data_table.ipynb>data table notebook</a>'\n",
              "            + ' to learn more about interactive tables.';\n",
              "          element.innerHTML = '';\n",
              "          dataTable['output_type'] = 'display_data';\n",
              "          await google.colab.output.renderOutput(dataTable, element);\n",
              "          const docLink = document.createElement('div');\n",
              "          docLink.innerHTML = docLinkHtml;\n",
              "          element.appendChild(docLink);\n",
              "        }\n",
              "      </script>\n",
              "    </div>\n",
              "  </div>\n",
              "  "
            ],
            "text/plain": [
              "                                               Title  \\\n",
              "0  Millennial And Gen Z Stock Picks From Tesla To...   \n",
              "1  Is Lucid Motors Stock A Buy Right Now After Q4...   \n",
              "2  Berkshire Hathaway’s Market Cap Climbs. It Cou...   \n",
              "3  Biden elevates Ford, GM, and now Siemens — but...   \n",
              "4  These Are The 5 Best EV Stocks To Buy And Watc...   \n",
              "\n",
              "                                                News  \\\n",
              "0  Millennials and Gen Z are investing earlier th...   \n",
              "1  Lucid Motors stock debuted in late July, surgi...   \n",
              "2  Value stocks are getting more love than growth...   \n",
              "3  When President Joe Biden wanted to talk about ...   \n",
              "4  EV stocks have multiplied in Tesla’s wake and ...   \n",
              "\n",
              "                                               Score  Sentiment Poles  \n",
              "0  {'neg': 0.0, 'neu': 0.903, 'pos': 0.097, 'comp...                1  \n",
              "1  {'neg': 0.0, 'neu': 1.0, 'pos': 0.0, 'compound...                0  \n",
              "2  {'neg': 0.0, 'neu': 0.693, 'pos': 0.307, 'comp...                1  \n",
              "3  {'neg': 0.01, 'neu': 0.937, 'pos': 0.054, 'com...                1  \n",
              "4  {'neg': 0.0, 'neu': 1.0, 'pos': 0.0, 'compound...                0  "
            ]
          },
          "metadata": {},
          "execution_count": 127
        }
      ]
    },
    {
      "cell_type": "code",
      "source": [
        "# Data cleaning\n",
        "sw = nltk.corpus.stopwords.words(\"english\")\n",
        "lemma = nltk.stem.wordnet.WordNetLemmatizer()"
      ],
      "metadata": {
        "id": "cEDTFaTqufIE"
      },
      "execution_count": 128,
      "outputs": []
    },
    {
      "cell_type": "code",
      "source": [
        "# #Visualizing using wordcloud and finding key words in the text\n",
        "# for text in df['News']:\n",
        "#   print(text)\n",
        "#   words = text.split(' ')\n",
        "#   words = [word for word in words if word not in sw]\n",
        "#   words = [lemma.lemmatize(word) for word in words]\n",
        "#   fdist1 = nltk.FreqDist(words)\n",
        "#   plt.figure(figsize = (10,6))\n",
        "#   wordcloud = WordCloud().generate(text)\n",
        "#   plt.imshow(wordcloud, interpolation='bilinear')\n",
        "#   plt.axis(\"off\")\n",
        "#   plt.show()\n",
        "#   print (fdist1.most_common(20))"
      ],
      "metadata": {
        "id": "U4Z_QC0SufKc"
      },
      "execution_count": 43,
      "outputs": []
    },
    {
      "cell_type": "code",
      "source": [
        "# pip install streamlit"
      ],
      "metadata": {
        "id": "piLwv2IcbBGd"
      },
      "execution_count": 40,
      "outputs": []
    },
    {
      "cell_type": "code",
      "source": [
        "# import streamlit as st"
      ],
      "metadata": {
        "id": "ijf4dBA9mDWx"
      },
      "execution_count": 41,
      "outputs": []
    },
    {
      "cell_type": "code",
      "source": [
        "# st.write(\"\"\" # My First App \n",
        "#             Hello *world!* \"\"\" )"
      ],
      "metadata": {
        "id": "g7JpUuBarMHn"
      },
      "execution_count": 42,
      "outputs": []
    },
    {
      "cell_type": "code",
      "source": [
        "today = datetime.date.today()\n",
        "yesterday = today - datetime.timedelta(days=100)"
      ],
      "metadata": {
        "id": "eSjeogNoT6oy"
      },
      "execution_count": 245,
      "outputs": []
    },
    {
      "cell_type": "code",
      "source": [
        "t_day = str(today.year)+'-'+str(today.month)+'-'+str(today.day)"
      ],
      "metadata": {
        "id": "eC1L2ioDT8kA"
      },
      "execution_count": 246,
      "outputs": []
    },
    {
      "cell_type": "code",
      "source": [
        "y_day = str(yesterday.year)+'-'+str(yesterday.month)+'-'+str(yesterday.day)"
      ],
      "metadata": {
        "id": "zerIgilkVR4O"
      },
      "execution_count": 247,
      "outputs": []
    },
    {
      "cell_type": "code",
      "source": [
        "string = f'{data_dict[symbol][0]} since:{y_day} until:{t_day}'"
      ],
      "metadata": {
        "id": "kDDAYMLvWu3G"
      },
      "execution_count": 248,
      "outputs": []
    },
    {
      "cell_type": "code",
      "source": [
        "string"
      ],
      "metadata": {
        "colab": {
          "base_uri": "https://localhost:8080/",
          "height": 34
        },
        "id": "VXOHOCCotK_3",
        "outputId": "e92d4a05-817e-4fe2-bf2c-ce949a2579fd"
      },
      "execution_count": 249,
      "outputs": [
        {
          "output_type": "execute_result",
          "data": {
            "application/vnd.google.colaboratory.intrinsic+json": {
              "type": "string"
            },
            "text/plain": [
              "'Amazon.com Inc. Common Stock since:2021-11-27 until:2022-3-7'"
            ]
          },
          "metadata": {},
          "execution_count": 249
        }
      ]
    },
    {
      "cell_type": "code",
      "source": [
        ""
      ],
      "metadata": {
        "id": "PBbdv0upuq0l"
      },
      "execution_count": null,
      "outputs": []
    },
    {
      "cell_type": "code",
      "source": [
        "import snscrape"
      ],
      "metadata": {
        "id": "W3qbMVG7D6LT"
      },
      "execution_count": 250,
      "outputs": []
    },
    {
      "cell_type": "code",
      "source": [
        "import snscrape.modules.twitter as sntwitter\n",
        "import pandas\n",
        "\n",
        "# Creating list to append tweet data to\n",
        "tweets_list2 = []\n",
        "\n",
        "# Using TwitterSearchScraper to scrape data and append tweets to list\n",
        "for i,tweet in enumerate(sntwitter.TwitterSearchScraper(string).get_items()):\n",
        "    if i>5000:\n",
        "        break\n",
        "    tweets_list2.append([tweet.date, tweet.id, tweet.content, tweet.username])\n",
        "    \n",
        "# Creating a dataframe from the tweets list above\n",
        "tweets_df2 = pd.DataFrame(tweets_list2, columns=['Datetime', 'Tweet Id', 'Text', 'Username'])\n"
      ],
      "metadata": {
        "id": "t0t1ov3eD-nP"
      },
      "execution_count": 251,
      "outputs": []
    },
    {
      "cell_type": "code",
      "source": [
        "print(tweets_df2['Text'])"
      ],
      "metadata": {
        "colab": {
          "base_uri": "https://localhost:8080/"
        },
        "id": "t-_yQ_g4EzMU",
        "outputId": "e3798902-6f53-43ce-b3fd-05caba3eaadf"
      },
      "execution_count": 252,
      "outputs": [
        {
          "output_type": "stream",
          "name": "stdout",
          "text": [
            "0    $VLDR $AMZN - Velodyne Lidar, Inc.  and Amazon...\n",
            "1    ですよね。\\n&gt;Fourth quarter 2021 net income incl...\n",
            "2    (12/23) SEATTLE, WA (May 14, 1997) - https://t...\n",
            "3    #AMZN https://t.co/WtuoBmDK2k, Inc. #Common #S...\n",
            "Name: Text, dtype: object\n"
          ]
        }
      ]
    },
    {
      "cell_type": "code",
      "source": [
        "print(f'{data_dict[symbol][0]}:{y_day} until:{t_day}')"
      ],
      "metadata": {
        "colab": {
          "base_uri": "https://localhost:8080/"
        },
        "id": "92Uvi-EmFROY",
        "outputId": "8314f578-12fa-4cc1-874d-538901b0cedb"
      },
      "execution_count": 253,
      "outputs": [
        {
          "output_type": "stream",
          "name": "stdout",
          "text": [
            "Amazon.com Inc. Common Stock:2021-11-27 until:2022-3-7\n"
          ]
        }
      ]
    },
    {
      "cell_type": "code",
      "source": [
        "tweets_df2"
      ],
      "metadata": {
        "colab": {
          "base_uri": "https://localhost:8080/",
          "height": 170
        },
        "id": "JAEBZNgGV3hO",
        "outputId": "18d23029-939e-408a-82c2-cbcf4732c253"
      },
      "execution_count": 254,
      "outputs": [
        {
          "output_type": "execute_result",
          "data": {
            "text/html": [
              "\n",
              "  <div id=\"df-38ad1cdc-e8c0-4624-8063-ce1b3dc29a86\">\n",
              "    <div class=\"colab-df-container\">\n",
              "      <div>\n",
              "<style scoped>\n",
              "    .dataframe tbody tr th:only-of-type {\n",
              "        vertical-align: middle;\n",
              "    }\n",
              "\n",
              "    .dataframe tbody tr th {\n",
              "        vertical-align: top;\n",
              "    }\n",
              "\n",
              "    .dataframe thead th {\n",
              "        text-align: right;\n",
              "    }\n",
              "</style>\n",
              "<table border=\"1\" class=\"dataframe\">\n",
              "  <thead>\n",
              "    <tr style=\"text-align: right;\">\n",
              "      <th></th>\n",
              "      <th>Datetime</th>\n",
              "      <th>Tweet Id</th>\n",
              "      <th>Text</th>\n",
              "      <th>Username</th>\n",
              "    </tr>\n",
              "  </thead>\n",
              "  <tbody>\n",
              "    <tr>\n",
              "      <th>0</th>\n",
              "      <td>2022-02-07 21:46:09+00:00</td>\n",
              "      <td>1490804099239002120</td>\n",
              "      <td>$VLDR $AMZN - Velodyne Lidar, Inc.  and Amazon...</td>\n",
              "      <td>HammerstoneMar3</td>\n",
              "    </tr>\n",
              "    <tr>\n",
              "      <th>1</th>\n",
              "      <td>2022-02-03 21:37:06+00:00</td>\n",
              "      <td>1489352267526389762</td>\n",
              "      <td>ですよね。\\n&amp;gt;Fourth quarter 2021 net income incl...</td>\n",
              "      <td>nagataka</td>\n",
              "    </tr>\n",
              "    <tr>\n",
              "      <th>2</th>\n",
              "      <td>2022-01-12 16:04:51+00:00</td>\n",
              "      <td>1481296124648505347</td>\n",
              "      <td>(12/23) SEATTLE, WA (May 14, 1997) - https://t...</td>\n",
              "      <td>finsily</td>\n",
              "    </tr>\n",
              "    <tr>\n",
              "      <th>3</th>\n",
              "      <td>2021-12-14 20:35:03+00:00</td>\n",
              "      <td>1470854874837524486</td>\n",
              "      <td>#AMZN https://t.co/WtuoBmDK2k, Inc. #Common #S...</td>\n",
              "      <td>prudent_charly</td>\n",
              "    </tr>\n",
              "  </tbody>\n",
              "</table>\n",
              "</div>\n",
              "      <button class=\"colab-df-convert\" onclick=\"convertToInteractive('df-38ad1cdc-e8c0-4624-8063-ce1b3dc29a86')\"\n",
              "              title=\"Convert this dataframe to an interactive table.\"\n",
              "              style=\"display:none;\">\n",
              "        \n",
              "  <svg xmlns=\"http://www.w3.org/2000/svg\" height=\"24px\"viewBox=\"0 0 24 24\"\n",
              "       width=\"24px\">\n",
              "    <path d=\"M0 0h24v24H0V0z\" fill=\"none\"/>\n",
              "    <path d=\"M18.56 5.44l.94 2.06.94-2.06 2.06-.94-2.06-.94-.94-2.06-.94 2.06-2.06.94zm-11 1L8.5 8.5l.94-2.06 2.06-.94-2.06-.94L8.5 2.5l-.94 2.06-2.06.94zm10 10l.94 2.06.94-2.06 2.06-.94-2.06-.94-.94-2.06-.94 2.06-2.06.94z\"/><path d=\"M17.41 7.96l-1.37-1.37c-.4-.4-.92-.59-1.43-.59-.52 0-1.04.2-1.43.59L10.3 9.45l-7.72 7.72c-.78.78-.78 2.05 0 2.83L4 21.41c.39.39.9.59 1.41.59.51 0 1.02-.2 1.41-.59l7.78-7.78 2.81-2.81c.8-.78.8-2.07 0-2.86zM5.41 20L4 18.59l7.72-7.72 1.47 1.35L5.41 20z\"/>\n",
              "  </svg>\n",
              "      </button>\n",
              "      \n",
              "  <style>\n",
              "    .colab-df-container {\n",
              "      display:flex;\n",
              "      flex-wrap:wrap;\n",
              "      gap: 12px;\n",
              "    }\n",
              "\n",
              "    .colab-df-convert {\n",
              "      background-color: #E8F0FE;\n",
              "      border: none;\n",
              "      border-radius: 50%;\n",
              "      cursor: pointer;\n",
              "      display: none;\n",
              "      fill: #1967D2;\n",
              "      height: 32px;\n",
              "      padding: 0 0 0 0;\n",
              "      width: 32px;\n",
              "    }\n",
              "\n",
              "    .colab-df-convert:hover {\n",
              "      background-color: #E2EBFA;\n",
              "      box-shadow: 0px 1px 2px rgba(60, 64, 67, 0.3), 0px 1px 3px 1px rgba(60, 64, 67, 0.15);\n",
              "      fill: #174EA6;\n",
              "    }\n",
              "\n",
              "    [theme=dark] .colab-df-convert {\n",
              "      background-color: #3B4455;\n",
              "      fill: #D2E3FC;\n",
              "    }\n",
              "\n",
              "    [theme=dark] .colab-df-convert:hover {\n",
              "      background-color: #434B5C;\n",
              "      box-shadow: 0px 1px 3px 1px rgba(0, 0, 0, 0.15);\n",
              "      filter: drop-shadow(0px 1px 2px rgba(0, 0, 0, 0.3));\n",
              "      fill: #FFFFFF;\n",
              "    }\n",
              "  </style>\n",
              "\n",
              "      <script>\n",
              "        const buttonEl =\n",
              "          document.querySelector('#df-38ad1cdc-e8c0-4624-8063-ce1b3dc29a86 button.colab-df-convert');\n",
              "        buttonEl.style.display =\n",
              "          google.colab.kernel.accessAllowed ? 'block' : 'none';\n",
              "\n",
              "        async function convertToInteractive(key) {\n",
              "          const element = document.querySelector('#df-38ad1cdc-e8c0-4624-8063-ce1b3dc29a86');\n",
              "          const dataTable =\n",
              "            await google.colab.kernel.invokeFunction('convertToInteractive',\n",
              "                                                     [key], {});\n",
              "          if (!dataTable) return;\n",
              "\n",
              "          const docLinkHtml = 'Like what you see? Visit the ' +\n",
              "            '<a target=\"_blank\" href=https://colab.research.google.com/notebooks/data_table.ipynb>data table notebook</a>'\n",
              "            + ' to learn more about interactive tables.';\n",
              "          element.innerHTML = '';\n",
              "          dataTable['output_type'] = 'display_data';\n",
              "          await google.colab.output.renderOutput(dataTable, element);\n",
              "          const docLink = document.createElement('div');\n",
              "          docLink.innerHTML = docLinkHtml;\n",
              "          element.appendChild(docLink);\n",
              "        }\n",
              "      </script>\n",
              "    </div>\n",
              "  </div>\n",
              "  "
            ],
            "text/plain": [
              "                   Datetime             Tweet Id  \\\n",
              "0 2022-02-07 21:46:09+00:00  1490804099239002120   \n",
              "1 2022-02-03 21:37:06+00:00  1489352267526389762   \n",
              "2 2022-01-12 16:04:51+00:00  1481296124648505347   \n",
              "3 2021-12-14 20:35:03+00:00  1470854874837524486   \n",
              "\n",
              "                                                Text         Username  \n",
              "0  $VLDR $AMZN - Velodyne Lidar, Inc.  and Amazon...  HammerstoneMar3  \n",
              "1  ですよね。\\n&gt;Fourth quarter 2021 net income incl...         nagataka  \n",
              "2  (12/23) SEATTLE, WA (May 14, 1997) - https://t...          finsily  \n",
              "3  #AMZN https://t.co/WtuoBmDK2k, Inc. #Common #S...   prudent_charly  "
            ]
          },
          "metadata": {},
          "execution_count": 254
        }
      ]
    },
    {
      "cell_type": "code",
      "source": [
        ""
      ],
      "metadata": {
        "id": "WWm3S1cbk0an"
      },
      "execution_count": null,
      "outputs": []
    }
  ]
}