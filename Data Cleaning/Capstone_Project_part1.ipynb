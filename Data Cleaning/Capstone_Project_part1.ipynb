{
 "cells": [
  {
   "cell_type": "markdown",
   "metadata": {},
   "source": [
    "#Importing Libraries and reading data"
   ]
  },
  {
   "cell_type": "code",
   "execution_count": 167,
   "metadata": {},
   "outputs": [],
   "source": [
    "import pandas as pd\n",
    "import os\n",
    "import pandas as pd\n",
    "import matplotlib.pyplot as plt\n",
    "%matplotlib inline\n",
    "from nltk.sentiment.vader import SentimentIntensityAnalyzer\n",
    "from datetime import datetime\n",
    "from nltk import sent_tokenize\n",
    "from nltk.tokenize import word_tokenize\n",
    "from nltk.corpus import stopwords\n",
    "from pandas_datareader._utils import RemoteDataError\n",
    "import pandas as pd\n",
    "from datetime import datetime, timedelta\n",
    "import pandas_datareader.data as web\n",
    "import warnings\n",
    "warnings.filterwarnings(\"ignore\")\n",
    "import seaborn as sns\n",
    "from sklearn.preprocessing import LabelEncoder\n",
    "from sklearn.linear_model import LogisticRegression\n",
    "from sklearn.tree import DecisionTreeClassifier\n",
    "from sklearn.ensemble import RandomForestClassifier\n",
    "from sklearn.naive_bayes import GaussianNB\n",
    "from sklearn.neighbors import KNeighborsClassifier\n",
    "from sklearn import svm\n",
    "from datetime import datetime\n",
    "import plotly.express as px\n",
    "from nltk import sent_tokenize\n",
    "from nltk.tokenize import word_tokenize\n",
    "from nltk.corpus import stopwords\n",
    "from pandas_datareader._utils import RemoteDataError\n",
    "import pandas as pd\n",
    "from datetime import datetime, timedelta\n",
    "import pandas_datareader.data as web\n",
    "from datetime import datetime as dt"
   ]
  },
  {
   "cell_type": "markdown",
   "metadata": {},
   "source": [
    "#data source\n",
    "\n",
    "\n",
    "\n",
    "\n",
    "#https://www.kaggle.com/gennadiyr/us-equities-news-data"
   ]
  },
  {
   "cell_type": "code",
   "execution_count": 2,
   "metadata": {},
   "outputs": [],
   "source": [
    "data = pd.read_csv('/Users/karteekedumudi/Desktop/Capstone/us_equities_news_dataset.csv')"
   ]
  },
  {
   "cell_type": "markdown",
   "metadata": {},
   "source": [
    "#Basic data cleaning"
   ]
  },
  {
   "cell_type": "code",
   "execution_count": 4,
   "metadata": {},
   "outputs": [],
   "source": [
    "data['release_date'] = pd.to_datetime(data['release_date'])"
   ]
  },
  {
   "cell_type": "code",
   "execution_count": 5,
   "metadata": {},
   "outputs": [
    {
     "data": {
      "text/plain": [
       "2019    58003\n",
       "2018    42606\n",
       "2017    41634\n",
       "2016    28551\n",
       "2015    12661\n",
       "2020     9347\n",
       "2013     8313\n",
       "2012     7009\n",
       "2014     5958\n",
       "2009     4514\n",
       "2011     2220\n",
       "2008      479\n",
       "2010      218\n",
       "Name: release_date, dtype: int64"
      ]
     },
     "execution_count": 5,
     "metadata": {},
     "output_type": "execute_result"
    }
   ],
   "source": [
    "data['release_date'].dt.year.value_counts()"
   ]
  },
  {
   "cell_type": "code",
   "execution_count": 6,
   "metadata": {},
   "outputs": [
    {
     "data": {
      "text/plain": [
       "AAPL     20231\n",
       "MSFT      8110\n",
       "BAC       7409\n",
       "AMZN      6330\n",
       "NWSA      5914\n",
       "BA        5879\n",
       "GOOGL     5171\n",
       "GS        4513\n",
       "TSLA      4283\n",
       "NFLX      3806\n",
       "TGT       3689\n",
       "INTC      3188\n",
       "DIS       2875\n",
       "XOM       2831\n",
       "JPM       2600\n",
       "MS        2498\n",
       "GM        2089\n",
       "C         2082\n",
       "GE        2045\n",
       "MU        1927\n",
       "Name: ticker, dtype: int64"
      ]
     },
     "execution_count": 6,
     "metadata": {},
     "output_type": "execute_result"
    }
   ],
   "source": [
    "data['ticker'].value_counts().head(20)"
   ]
  },
  {
   "cell_type": "code",
   "execution_count": 7,
   "metadata": {},
   "outputs": [],
   "source": [
    "data = data.drop(columns = ['url','article_id'], index = 1)"
   ]
  },
  {
   "cell_type": "code",
   "execution_count": 8,
   "metadata": {},
   "outputs": [
    {
     "data": {
      "text/plain": [
       "opinion    125935\n",
       "news        95577\n",
       "Name: category, dtype: int64"
      ]
     },
     "execution_count": 8,
     "metadata": {},
     "output_type": "execute_result"
    }
   ],
   "source": [
    "data['category'].value_counts()"
   ]
  },
  {
   "cell_type": "code",
   "execution_count": 9,
   "metadata": {},
   "outputs": [],
   "source": [
    "data.dropna(inplace = True)"
   ]
  },
  {
   "cell_type": "markdown",
   "metadata": {},
   "source": [
    "#Cleaning text data and tokenizing and adding data to the data frame"
   ]
  },
  {
   "cell_type": "code",
   "execution_count": 10,
   "metadata": {},
   "outputs": [
    {
     "data": {
      "text/html": [
       "<div>\n",
       "<style scoped>\n",
       "    .dataframe tbody tr th:only-of-type {\n",
       "        vertical-align: middle;\n",
       "    }\n",
       "\n",
       "    .dataframe tbody tr th {\n",
       "        vertical-align: top;\n",
       "    }\n",
       "\n",
       "    .dataframe thead th {\n",
       "        text-align: right;\n",
       "    }\n",
       "</style>\n",
       "<table border=\"1\" class=\"dataframe\">\n",
       "  <thead>\n",
       "    <tr style=\"text-align: right;\">\n",
       "      <th></th>\n",
       "      <th>id</th>\n",
       "      <th>ticker</th>\n",
       "      <th>title</th>\n",
       "      <th>category</th>\n",
       "      <th>content</th>\n",
       "      <th>release_date</th>\n",
       "      <th>provider</th>\n",
       "      <th>words</th>\n",
       "    </tr>\n",
       "  </thead>\n",
       "  <tbody>\n",
       "    <tr>\n",
       "      <th>0</th>\n",
       "      <td>221515</td>\n",
       "      <td>NIO</td>\n",
       "      <td>Why Shares of Chinese Electric Car Maker NIO A...</td>\n",
       "      <td>news</td>\n",
       "      <td>What s happening\\nShares of Chinese electric c...</td>\n",
       "      <td>2020-01-15</td>\n",
       "      <td>The Motley Fool</td>\n",
       "      <td>What happening Shares Chinese electric car mak...</td>\n",
       "    </tr>\n",
       "    <tr>\n",
       "      <th>2</th>\n",
       "      <td>221517</td>\n",
       "      <td>NIO</td>\n",
       "      <td>NIO leads consumer gainers  Beyond Meat and Ma...</td>\n",
       "      <td>news</td>\n",
       "      <td>Gainers  NIO  NYSE NIO   14   Village Farms In...</td>\n",
       "      <td>2020-01-15</td>\n",
       "      <td>Seeking Alpha</td>\n",
       "      <td>Gainers NIO NYSE NIO Village Farms Internation...</td>\n",
       "    </tr>\n",
       "    <tr>\n",
       "      <th>3</th>\n",
       "      <td>221518</td>\n",
       "      <td>NIO</td>\n",
       "      <td>NIO  NVAX among premarket gainers</td>\n",
       "      <td>news</td>\n",
       "      <td>Cemtrex  NASDAQ CETX   85  after FY results \\n...</td>\n",
       "      <td>2020-01-15</td>\n",
       "      <td>Seeking Alpha</td>\n",
       "      <td>Cemtrex NASDAQ CETX FY results Fluent NASDAQ F...</td>\n",
       "    </tr>\n",
       "    <tr>\n",
       "      <th>4</th>\n",
       "      <td>221519</td>\n",
       "      <td>NIO</td>\n",
       "      <td>PLUG  NIO among premarket gainers</td>\n",
       "      <td>news</td>\n",
       "      <td>aTyr Pharma  NASDAQ LIFE   63  on Kyorin Pharm...</td>\n",
       "      <td>2020-01-06</td>\n",
       "      <td>Seeking Alpha</td>\n",
       "      <td>aTyr Pharma NASDAQ LIFE Kyorin Pharma deal Tow...</td>\n",
       "    </tr>\n",
       "    <tr>\n",
       "      <th>5</th>\n",
       "      <td>221520</td>\n",
       "      <td>NIO</td>\n",
       "      <td>NIO leads consumer gainers  Origin Agritech on...</td>\n",
       "      <td>news</td>\n",
       "      <td>Gainers  NIO  NYSE NIO   14   Meritor  NYSE MT...</td>\n",
       "      <td>2019-12-31</td>\n",
       "      <td>Seeking Alpha</td>\n",
       "      <td>Gainers NIO NYSE NIO Meritor NYSE MTOR Eastman...</td>\n",
       "    </tr>\n",
       "    <tr>\n",
       "      <th>...</th>\n",
       "      <td>...</td>\n",
       "      <td>...</td>\n",
       "      <td>...</td>\n",
       "      <td>...</td>\n",
       "      <td>...</td>\n",
       "      <td>...</td>\n",
       "      <td>...</td>\n",
       "      <td>...</td>\n",
       "    </tr>\n",
       "    <tr>\n",
       "      <th>221508</th>\n",
       "      <td>443024</td>\n",
       "      <td>T</td>\n",
       "      <td>Crude And Steel Still In Sync</td>\n",
       "      <td>opinion</td>\n",
       "      <td>We have been reporting on the trade off betwee...</td>\n",
       "      <td>2012-10-04</td>\n",
       "      <td>Ivan Kitov</td>\n",
       "      <td>We reporting trade producer price index crude ...</td>\n",
       "    </tr>\n",
       "    <tr>\n",
       "      <th>221509</th>\n",
       "      <td>443025</td>\n",
       "      <td>T</td>\n",
       "      <td>Forget AT T  This Is The Telecom Stock You Sho...</td>\n",
       "      <td>opinion</td>\n",
       "      <td>It s the largest cell phone provider in the wo...</td>\n",
       "      <td>2012-05-30</td>\n",
       "      <td>StreetAuthority</td>\n",
       "      <td>It largest cell phone provider world It custom...</td>\n",
       "    </tr>\n",
       "    <tr>\n",
       "      <th>221510</th>\n",
       "      <td>443026</td>\n",
       "      <td>T</td>\n",
       "      <td>Wall Street Exposed   Part 3   How Dividends C...</td>\n",
       "      <td>opinion</td>\n",
       "      <td>Before we dicuss how the mechanism of dividend...</td>\n",
       "      <td>2012-07-16</td>\n",
       "      <td>Portfolio Cafe</td>\n",
       "      <td>Before dicuss mechanism dividends keeps stock ...</td>\n",
       "    </tr>\n",
       "    <tr>\n",
       "      <th>221511</th>\n",
       "      <td>443027</td>\n",
       "      <td>T</td>\n",
       "      <td>Weighing The Week Ahead  It s All About Jobs</td>\n",
       "      <td>opinion</td>\n",
       "      <td>From start to finish  the coming week will hav...</td>\n",
       "      <td>2012-09-02</td>\n",
       "      <td>Jeff Miller</td>\n",
       "      <td>From start finish coming week heightened focus...</td>\n",
       "    </tr>\n",
       "    <tr>\n",
       "      <th>221512</th>\n",
       "      <td>443028</td>\n",
       "      <td>T</td>\n",
       "      <td>Leap Wireless  LEAP    JPM Note and AT T   T M...</td>\n",
       "      <td>opinion</td>\n",
       "      <td>Leap Wireless International  Inc   Leap  is a ...</td>\n",
       "      <td>2011-12-31</td>\n",
       "      <td>Ophir Gottlieb</td>\n",
       "      <td>Leap Wireless International Inc Leap wireless ...</td>\n",
       "    </tr>\n",
       "  </tbody>\n",
       "</table>\n",
       "<p>221504 rows × 8 columns</p>\n",
       "</div>"
      ],
      "text/plain": [
       "            id ticker                                              title  \\\n",
       "0       221515    NIO  Why Shares of Chinese Electric Car Maker NIO A...   \n",
       "2       221517    NIO  NIO leads consumer gainers  Beyond Meat and Ma...   \n",
       "3       221518    NIO                  NIO  NVAX among premarket gainers   \n",
       "4       221519    NIO                  PLUG  NIO among premarket gainers   \n",
       "5       221520    NIO  NIO leads consumer gainers  Origin Agritech on...   \n",
       "...        ...    ...                                                ...   \n",
       "221508  443024      T                     Crude And Steel Still In Sync    \n",
       "221509  443025      T  Forget AT T  This Is The Telecom Stock You Sho...   \n",
       "221510  443026      T  Wall Street Exposed   Part 3   How Dividends C...   \n",
       "221511  443027      T       Weighing The Week Ahead  It s All About Jobs   \n",
       "221512  443028      T  Leap Wireless  LEAP    JPM Note and AT T   T M...   \n",
       "\n",
       "       category                                            content  \\\n",
       "0          news  What s happening\\nShares of Chinese electric c...   \n",
       "2          news  Gainers  NIO  NYSE NIO   14   Village Farms In...   \n",
       "3          news  Cemtrex  NASDAQ CETX   85  after FY results \\n...   \n",
       "4          news  aTyr Pharma  NASDAQ LIFE   63  on Kyorin Pharm...   \n",
       "5          news  Gainers  NIO  NYSE NIO   14   Meritor  NYSE MT...   \n",
       "...         ...                                                ...   \n",
       "221508  opinion  We have been reporting on the trade off betwee...   \n",
       "221509  opinion  It s the largest cell phone provider in the wo...   \n",
       "221510  opinion  Before we dicuss how the mechanism of dividend...   \n",
       "221511  opinion  From start to finish  the coming week will hav...   \n",
       "221512  opinion  Leap Wireless International  Inc   Leap  is a ...   \n",
       "\n",
       "       release_date         provider  \\\n",
       "0        2020-01-15  The Motley Fool   \n",
       "2        2020-01-15    Seeking Alpha   \n",
       "3        2020-01-15    Seeking Alpha   \n",
       "4        2020-01-06    Seeking Alpha   \n",
       "5        2019-12-31    Seeking Alpha   \n",
       "...             ...              ...   \n",
       "221508   2012-10-04       Ivan Kitov   \n",
       "221509   2012-05-30  StreetAuthority   \n",
       "221510   2012-07-16   Portfolio Cafe   \n",
       "221511   2012-09-02      Jeff Miller   \n",
       "221512   2011-12-31   Ophir Gottlieb   \n",
       "\n",
       "                                                    words  \n",
       "0       What happening Shares Chinese electric car mak...  \n",
       "2       Gainers NIO NYSE NIO Village Farms Internation...  \n",
       "3       Cemtrex NASDAQ CETX FY results Fluent NASDAQ F...  \n",
       "4       aTyr Pharma NASDAQ LIFE Kyorin Pharma deal Tow...  \n",
       "5       Gainers NIO NYSE NIO Meritor NYSE MTOR Eastman...  \n",
       "...                                                   ...  \n",
       "221508  We reporting trade producer price index crude ...  \n",
       "221509  It largest cell phone provider world It custom...  \n",
       "221510  Before dicuss mechanism dividends keeps stock ...  \n",
       "221511  From start finish coming week heightened focus...  \n",
       "221512  Leap Wireless International Inc Leap wireless ...  \n",
       "\n",
       "[221504 rows x 8 columns]"
      ]
     },
     "execution_count": 10,
     "metadata": {},
     "output_type": "execute_result"
    }
   ],
   "source": [
    "word_list =[]\n",
    "for text in data['content']:\n",
    "    sentences = sent_tokenize(str(text))\n",
    "    tokens = word_tokenize(text)\n",
    "    words = [word for word in tokens if word.isalpha()]\n",
    "    stop_words = set(stopwords.words('english'))\n",
    "    words = [w for w in words if not w in stop_words]\n",
    "    str1 = ''\n",
    "    for i in words:\n",
    "        str1 = str1+i+\" \"\n",
    "    word_list.append(str1)\n",
    "data['words'] = word_list\n",
    "data"
   ]
  },
  {
   "cell_type": "code",
   "execution_count": 55,
   "metadata": {},
   "outputs": [],
   "source": [
    "bar_data = data.groupby(by = 'ticker').count()['id'].sort_values(ascending=False)"
   ]
  },
  {
   "cell_type": "code",
   "execution_count": 56,
   "metadata": {},
   "outputs": [],
   "source": [
    "bar_df = pd.DataFrame()"
   ]
  },
  {
   "cell_type": "code",
   "execution_count": 57,
   "metadata": {},
   "outputs": [
    {
     "data": {
      "text/html": [
       "<div>\n",
       "<style scoped>\n",
       "    .dataframe tbody tr th:only-of-type {\n",
       "        vertical-align: middle;\n",
       "    }\n",
       "\n",
       "    .dataframe tbody tr th {\n",
       "        vertical-align: top;\n",
       "    }\n",
       "\n",
       "    .dataframe thead th {\n",
       "        text-align: right;\n",
       "    }\n",
       "</style>\n",
       "<table border=\"1\" class=\"dataframe\">\n",
       "  <thead>\n",
       "    <tr style=\"text-align: right;\">\n",
       "      <th></th>\n",
       "      <th>Stock Symbol</th>\n",
       "      <th>Data Points</th>\n",
       "    </tr>\n",
       "  </thead>\n",
       "  <tbody>\n",
       "    <tr>\n",
       "      <th>0</th>\n",
       "      <td>AAPL</td>\n",
       "      <td>20231</td>\n",
       "    </tr>\n",
       "    <tr>\n",
       "      <th>1</th>\n",
       "      <td>MSFT</td>\n",
       "      <td>8110</td>\n",
       "    </tr>\n",
       "    <tr>\n",
       "      <th>2</th>\n",
       "      <td>BAC</td>\n",
       "      <td>7408</td>\n",
       "    </tr>\n",
       "    <tr>\n",
       "      <th>3</th>\n",
       "      <td>AMZN</td>\n",
       "      <td>6330</td>\n",
       "    </tr>\n",
       "    <tr>\n",
       "      <th>4</th>\n",
       "      <td>NWSA</td>\n",
       "      <td>5914</td>\n",
       "    </tr>\n",
       "    <tr>\n",
       "      <th>...</th>\n",
       "      <td>...</td>\n",
       "      <td>...</td>\n",
       "    </tr>\n",
       "    <tr>\n",
       "      <th>797</th>\n",
       "      <td>BUSE</td>\n",
       "      <td>1</td>\n",
       "    </tr>\n",
       "    <tr>\n",
       "      <th>798</th>\n",
       "      <td>CHCI</td>\n",
       "      <td>1</td>\n",
       "    </tr>\n",
       "    <tr>\n",
       "      <th>799</th>\n",
       "      <td>ATLO</td>\n",
       "      <td>1</td>\n",
       "    </tr>\n",
       "    <tr>\n",
       "      <th>800</th>\n",
       "      <td>CFNB</td>\n",
       "      <td>1</td>\n",
       "    </tr>\n",
       "    <tr>\n",
       "      <th>801</th>\n",
       "      <td>CIZN</td>\n",
       "      <td>1</td>\n",
       "    </tr>\n",
       "  </tbody>\n",
       "</table>\n",
       "<p>802 rows × 2 columns</p>\n",
       "</div>"
      ],
      "text/plain": [
       "    Stock Symbol  Data Points\n",
       "0           AAPL        20231\n",
       "1           MSFT         8110\n",
       "2            BAC         7408\n",
       "3           AMZN         6330\n",
       "4           NWSA         5914\n",
       "..           ...          ...\n",
       "797         BUSE            1\n",
       "798         CHCI            1\n",
       "799         ATLO            1\n",
       "800         CFNB            1\n",
       "801         CIZN            1\n",
       "\n",
       "[802 rows x 2 columns]"
      ]
     },
     "execution_count": 57,
     "metadata": {},
     "output_type": "execute_result"
    }
   ],
   "source": [
    "bar_df['Stock Symbol'] = bar_data.index\n",
    "bar_df['Data Points'] = bar_data.values\n",
    "bar_df"
   ]
  },
  {
   "cell_type": "code",
   "execution_count": 70,
   "metadata": {},
   "outputs": [],
   "source": [
    "#Some stock points have a very few data due to which is not recommended for analysis"
   ]
  },
  {
   "cell_type": "code",
   "execution_count": 71,
   "metadata": {},
   "outputs": [],
   "source": [
    "bar_df = bar_df[bar_df['Data Points'] > 362]"
   ]
  },
  {
   "cell_type": "code",
   "execution_count": 72,
   "metadata": {},
   "outputs": [
    {
     "data": {
      "application/vnd.plotly.v1+json": {
       "config": {
        "plotlyServerURL": "https://plot.ly"
       },
       "data": [
        {
         "alignmentgroup": "True",
         "hovertemplate": "Stock Symbol=%{x}<br>Data Points=%{y}<extra></extra>",
         "legendgroup": "",
         "marker": {
          "color": "#636efa",
          "pattern": {
           "shape": ""
          }
         },
         "name": "",
         "offsetgroup": "",
         "orientation": "v",
         "showlegend": false,
         "textposition": "auto",
         "type": "bar",
         "x": [
          "AAPL",
          "MSFT",
          "BAC",
          "AMZN",
          "NWSA",
          "BA",
          "GOOGL",
          "GS",
          "TSLA",
          "NFLX",
          "TGT",
          "INTC",
          "DIS",
          "XOM",
          "JPM",
          "MS",
          "GM",
          "C",
          "GE",
          "MU",
          "TM",
          "WMB",
          "KO",
          "WFC",
          "WMT",
          "IBM",
          "UBER",
          "BLK",
          "CME",
          "CVX",
          "AA",
          "CMG",
          "SO",
          "VZ",
          "LMT",
          "EFX",
          "CAT",
          "BKR",
          "SBUX",
          "AGN",
          "SLB",
          "JNJ",
          "T",
          "NKE",
          "PGR",
          "AMGN",
          "ICE",
          "FCX",
          "HD",
          "FDX",
          "ENGIE",
          "DAL",
          "UBSG",
          "SNE",
          "PG",
          "MRK",
          "CAJ",
          "PFE",
          "ADP",
          "JWN",
          "BHC",
          "AVGO",
          "NLOK",
          "HUM",
          "FMC",
          "COST",
          "BX",
          "MCD",
          "LLY",
          "UAL",
          "STZ",
          "COP",
          "BBY",
          "CMCSA",
          "NOC",
          "DUK",
          "AXP",
          "HMC",
          "BIIB",
          "DXPE",
          "MMM",
          "ASML",
          "NVDA",
          "MYL",
          "DD",
          "GILD",
          "ORCL",
          "ADBE",
          "BIDU",
          "VALE",
          "CSCO",
          "SPGI",
          "KBH",
          "AZO",
          "MA",
          "ANF",
          "PM",
          "URBN",
          "PBR"
         ],
         "xaxis": "x",
         "y": [
          20231,
          8110,
          7408,
          6330,
          5914,
          5879,
          5171,
          4513,
          4283,
          3806,
          3689,
          3188,
          2875,
          2831,
          2600,
          2498,
          2089,
          2081,
          2045,
          1927,
          1820,
          1482,
          1367,
          1359,
          1267,
          1249,
          1222,
          1186,
          1153,
          1105,
          1079,
          1033,
          979,
          941,
          937,
          873,
          872,
          854,
          845,
          823,
          788,
          763,
          759,
          753,
          697,
          688,
          630,
          618,
          614,
          609,
          597,
          597,
          592,
          584,
          584,
          575,
          546,
          545,
          543,
          540,
          526,
          517,
          513,
          500,
          497,
          492,
          489,
          475,
          469,
          461,
          460,
          459,
          457,
          451,
          441,
          440,
          436,
          428,
          425,
          421,
          421,
          417,
          415,
          412,
          408,
          404,
          403,
          403,
          402,
          395,
          390,
          389,
          387,
          382,
          378,
          374,
          372,
          369,
          366
         ],
         "yaxis": "y"
        }
       ],
       "layout": {
        "barmode": "relative",
        "legend": {
         "tracegroupgap": 0
        },
        "template": {
         "data": {
          "bar": [
           {
            "error_x": {
             "color": "#2a3f5f"
            },
            "error_y": {
             "color": "#2a3f5f"
            },
            "marker": {
             "line": {
              "color": "#E5ECF6",
              "width": 0.5
             },
             "pattern": {
              "fillmode": "overlay",
              "size": 10,
              "solidity": 0.2
             }
            },
            "type": "bar"
           }
          ],
          "barpolar": [
           {
            "marker": {
             "line": {
              "color": "#E5ECF6",
              "width": 0.5
             },
             "pattern": {
              "fillmode": "overlay",
              "size": 10,
              "solidity": 0.2
             }
            },
            "type": "barpolar"
           }
          ],
          "carpet": [
           {
            "aaxis": {
             "endlinecolor": "#2a3f5f",
             "gridcolor": "white",
             "linecolor": "white",
             "minorgridcolor": "white",
             "startlinecolor": "#2a3f5f"
            },
            "baxis": {
             "endlinecolor": "#2a3f5f",
             "gridcolor": "white",
             "linecolor": "white",
             "minorgridcolor": "white",
             "startlinecolor": "#2a3f5f"
            },
            "type": "carpet"
           }
          ],
          "choropleth": [
           {
            "colorbar": {
             "outlinewidth": 0,
             "ticks": ""
            },
            "type": "choropleth"
           }
          ],
          "contour": [
           {
            "colorbar": {
             "outlinewidth": 0,
             "ticks": ""
            },
            "colorscale": [
             [
              0,
              "#0d0887"
             ],
             [
              0.1111111111111111,
              "#46039f"
             ],
             [
              0.2222222222222222,
              "#7201a8"
             ],
             [
              0.3333333333333333,
              "#9c179e"
             ],
             [
              0.4444444444444444,
              "#bd3786"
             ],
             [
              0.5555555555555556,
              "#d8576b"
             ],
             [
              0.6666666666666666,
              "#ed7953"
             ],
             [
              0.7777777777777778,
              "#fb9f3a"
             ],
             [
              0.8888888888888888,
              "#fdca26"
             ],
             [
              1,
              "#f0f921"
             ]
            ],
            "type": "contour"
           }
          ],
          "contourcarpet": [
           {
            "colorbar": {
             "outlinewidth": 0,
             "ticks": ""
            },
            "type": "contourcarpet"
           }
          ],
          "heatmap": [
           {
            "colorbar": {
             "outlinewidth": 0,
             "ticks": ""
            },
            "colorscale": [
             [
              0,
              "#0d0887"
             ],
             [
              0.1111111111111111,
              "#46039f"
             ],
             [
              0.2222222222222222,
              "#7201a8"
             ],
             [
              0.3333333333333333,
              "#9c179e"
             ],
             [
              0.4444444444444444,
              "#bd3786"
             ],
             [
              0.5555555555555556,
              "#d8576b"
             ],
             [
              0.6666666666666666,
              "#ed7953"
             ],
             [
              0.7777777777777778,
              "#fb9f3a"
             ],
             [
              0.8888888888888888,
              "#fdca26"
             ],
             [
              1,
              "#f0f921"
             ]
            ],
            "type": "heatmap"
           }
          ],
          "heatmapgl": [
           {
            "colorbar": {
             "outlinewidth": 0,
             "ticks": ""
            },
            "colorscale": [
             [
              0,
              "#0d0887"
             ],
             [
              0.1111111111111111,
              "#46039f"
             ],
             [
              0.2222222222222222,
              "#7201a8"
             ],
             [
              0.3333333333333333,
              "#9c179e"
             ],
             [
              0.4444444444444444,
              "#bd3786"
             ],
             [
              0.5555555555555556,
              "#d8576b"
             ],
             [
              0.6666666666666666,
              "#ed7953"
             ],
             [
              0.7777777777777778,
              "#fb9f3a"
             ],
             [
              0.8888888888888888,
              "#fdca26"
             ],
             [
              1,
              "#f0f921"
             ]
            ],
            "type": "heatmapgl"
           }
          ],
          "histogram": [
           {
            "marker": {
             "pattern": {
              "fillmode": "overlay",
              "size": 10,
              "solidity": 0.2
             }
            },
            "type": "histogram"
           }
          ],
          "histogram2d": [
           {
            "colorbar": {
             "outlinewidth": 0,
             "ticks": ""
            },
            "colorscale": [
             [
              0,
              "#0d0887"
             ],
             [
              0.1111111111111111,
              "#46039f"
             ],
             [
              0.2222222222222222,
              "#7201a8"
             ],
             [
              0.3333333333333333,
              "#9c179e"
             ],
             [
              0.4444444444444444,
              "#bd3786"
             ],
             [
              0.5555555555555556,
              "#d8576b"
             ],
             [
              0.6666666666666666,
              "#ed7953"
             ],
             [
              0.7777777777777778,
              "#fb9f3a"
             ],
             [
              0.8888888888888888,
              "#fdca26"
             ],
             [
              1,
              "#f0f921"
             ]
            ],
            "type": "histogram2d"
           }
          ],
          "histogram2dcontour": [
           {
            "colorbar": {
             "outlinewidth": 0,
             "ticks": ""
            },
            "colorscale": [
             [
              0,
              "#0d0887"
             ],
             [
              0.1111111111111111,
              "#46039f"
             ],
             [
              0.2222222222222222,
              "#7201a8"
             ],
             [
              0.3333333333333333,
              "#9c179e"
             ],
             [
              0.4444444444444444,
              "#bd3786"
             ],
             [
              0.5555555555555556,
              "#d8576b"
             ],
             [
              0.6666666666666666,
              "#ed7953"
             ],
             [
              0.7777777777777778,
              "#fb9f3a"
             ],
             [
              0.8888888888888888,
              "#fdca26"
             ],
             [
              1,
              "#f0f921"
             ]
            ],
            "type": "histogram2dcontour"
           }
          ],
          "mesh3d": [
           {
            "colorbar": {
             "outlinewidth": 0,
             "ticks": ""
            },
            "type": "mesh3d"
           }
          ],
          "parcoords": [
           {
            "line": {
             "colorbar": {
              "outlinewidth": 0,
              "ticks": ""
             }
            },
            "type": "parcoords"
           }
          ],
          "pie": [
           {
            "automargin": true,
            "type": "pie"
           }
          ],
          "scatter": [
           {
            "fillpattern": {
             "fillmode": "overlay",
             "size": 10,
             "solidity": 0.2
            },
            "type": "scatter"
           }
          ],
          "scatter3d": [
           {
            "line": {
             "colorbar": {
              "outlinewidth": 0,
              "ticks": ""
             }
            },
            "marker": {
             "colorbar": {
              "outlinewidth": 0,
              "ticks": ""
             }
            },
            "type": "scatter3d"
           }
          ],
          "scattercarpet": [
           {
            "marker": {
             "colorbar": {
              "outlinewidth": 0,
              "ticks": ""
             }
            },
            "type": "scattercarpet"
           }
          ],
          "scattergeo": [
           {
            "marker": {
             "colorbar": {
              "outlinewidth": 0,
              "ticks": ""
             }
            },
            "type": "scattergeo"
           }
          ],
          "scattergl": [
           {
            "marker": {
             "colorbar": {
              "outlinewidth": 0,
              "ticks": ""
             }
            },
            "type": "scattergl"
           }
          ],
          "scattermapbox": [
           {
            "marker": {
             "colorbar": {
              "outlinewidth": 0,
              "ticks": ""
             }
            },
            "type": "scattermapbox"
           }
          ],
          "scatterpolar": [
           {
            "marker": {
             "colorbar": {
              "outlinewidth": 0,
              "ticks": ""
             }
            },
            "type": "scatterpolar"
           }
          ],
          "scatterpolargl": [
           {
            "marker": {
             "colorbar": {
              "outlinewidth": 0,
              "ticks": ""
             }
            },
            "type": "scatterpolargl"
           }
          ],
          "scatterternary": [
           {
            "marker": {
             "colorbar": {
              "outlinewidth": 0,
              "ticks": ""
             }
            },
            "type": "scatterternary"
           }
          ],
          "surface": [
           {
            "colorbar": {
             "outlinewidth": 0,
             "ticks": ""
            },
            "colorscale": [
             [
              0,
              "#0d0887"
             ],
             [
              0.1111111111111111,
              "#46039f"
             ],
             [
              0.2222222222222222,
              "#7201a8"
             ],
             [
              0.3333333333333333,
              "#9c179e"
             ],
             [
              0.4444444444444444,
              "#bd3786"
             ],
             [
              0.5555555555555556,
              "#d8576b"
             ],
             [
              0.6666666666666666,
              "#ed7953"
             ],
             [
              0.7777777777777778,
              "#fb9f3a"
             ],
             [
              0.8888888888888888,
              "#fdca26"
             ],
             [
              1,
              "#f0f921"
             ]
            ],
            "type": "surface"
           }
          ],
          "table": [
           {
            "cells": {
             "fill": {
              "color": "#EBF0F8"
             },
             "line": {
              "color": "white"
             }
            },
            "header": {
             "fill": {
              "color": "#C8D4E3"
             },
             "line": {
              "color": "white"
             }
            },
            "type": "table"
           }
          ]
         },
         "layout": {
          "annotationdefaults": {
           "arrowcolor": "#2a3f5f",
           "arrowhead": 0,
           "arrowwidth": 1
          },
          "autotypenumbers": "strict",
          "coloraxis": {
           "colorbar": {
            "outlinewidth": 0,
            "ticks": ""
           }
          },
          "colorscale": {
           "diverging": [
            [
             0,
             "#8e0152"
            ],
            [
             0.1,
             "#c51b7d"
            ],
            [
             0.2,
             "#de77ae"
            ],
            [
             0.3,
             "#f1b6da"
            ],
            [
             0.4,
             "#fde0ef"
            ],
            [
             0.5,
             "#f7f7f7"
            ],
            [
             0.6,
             "#e6f5d0"
            ],
            [
             0.7,
             "#b8e186"
            ],
            [
             0.8,
             "#7fbc41"
            ],
            [
             0.9,
             "#4d9221"
            ],
            [
             1,
             "#276419"
            ]
           ],
           "sequential": [
            [
             0,
             "#0d0887"
            ],
            [
             0.1111111111111111,
             "#46039f"
            ],
            [
             0.2222222222222222,
             "#7201a8"
            ],
            [
             0.3333333333333333,
             "#9c179e"
            ],
            [
             0.4444444444444444,
             "#bd3786"
            ],
            [
             0.5555555555555556,
             "#d8576b"
            ],
            [
             0.6666666666666666,
             "#ed7953"
            ],
            [
             0.7777777777777778,
             "#fb9f3a"
            ],
            [
             0.8888888888888888,
             "#fdca26"
            ],
            [
             1,
             "#f0f921"
            ]
           ],
           "sequentialminus": [
            [
             0,
             "#0d0887"
            ],
            [
             0.1111111111111111,
             "#46039f"
            ],
            [
             0.2222222222222222,
             "#7201a8"
            ],
            [
             0.3333333333333333,
             "#9c179e"
            ],
            [
             0.4444444444444444,
             "#bd3786"
            ],
            [
             0.5555555555555556,
             "#d8576b"
            ],
            [
             0.6666666666666666,
             "#ed7953"
            ],
            [
             0.7777777777777778,
             "#fb9f3a"
            ],
            [
             0.8888888888888888,
             "#fdca26"
            ],
            [
             1,
             "#f0f921"
            ]
           ]
          },
          "colorway": [
           "#636efa",
           "#EF553B",
           "#00cc96",
           "#ab63fa",
           "#FFA15A",
           "#19d3f3",
           "#FF6692",
           "#B6E880",
           "#FF97FF",
           "#FECB52"
          ],
          "font": {
           "color": "#2a3f5f"
          },
          "geo": {
           "bgcolor": "white",
           "lakecolor": "white",
           "landcolor": "#E5ECF6",
           "showlakes": true,
           "showland": true,
           "subunitcolor": "white"
          },
          "hoverlabel": {
           "align": "left"
          },
          "hovermode": "closest",
          "mapbox": {
           "style": "light"
          },
          "paper_bgcolor": "white",
          "plot_bgcolor": "#E5ECF6",
          "polar": {
           "angularaxis": {
            "gridcolor": "white",
            "linecolor": "white",
            "ticks": ""
           },
           "bgcolor": "#E5ECF6",
           "radialaxis": {
            "gridcolor": "white",
            "linecolor": "white",
            "ticks": ""
           }
          },
          "scene": {
           "xaxis": {
            "backgroundcolor": "#E5ECF6",
            "gridcolor": "white",
            "gridwidth": 2,
            "linecolor": "white",
            "showbackground": true,
            "ticks": "",
            "zerolinecolor": "white"
           },
           "yaxis": {
            "backgroundcolor": "#E5ECF6",
            "gridcolor": "white",
            "gridwidth": 2,
            "linecolor": "white",
            "showbackground": true,
            "ticks": "",
            "zerolinecolor": "white"
           },
           "zaxis": {
            "backgroundcolor": "#E5ECF6",
            "gridcolor": "white",
            "gridwidth": 2,
            "linecolor": "white",
            "showbackground": true,
            "ticks": "",
            "zerolinecolor": "white"
           }
          },
          "shapedefaults": {
           "line": {
            "color": "#2a3f5f"
           }
          },
          "ternary": {
           "aaxis": {
            "gridcolor": "white",
            "linecolor": "white",
            "ticks": ""
           },
           "baxis": {
            "gridcolor": "white",
            "linecolor": "white",
            "ticks": ""
           },
           "bgcolor": "#E5ECF6",
           "caxis": {
            "gridcolor": "white",
            "linecolor": "white",
            "ticks": ""
           }
          },
          "title": {
           "x": 0.05
          },
          "xaxis": {
           "automargin": true,
           "gridcolor": "white",
           "linecolor": "white",
           "ticks": "",
           "title": {
            "standoff": 15
           },
           "zerolinecolor": "white",
           "zerolinewidth": 2
          },
          "yaxis": {
           "automargin": true,
           "gridcolor": "white",
           "linecolor": "white",
           "ticks": "",
           "title": {
            "standoff": 15
           },
           "zerolinecolor": "white",
           "zerolinewidth": 2
          }
         }
        },
        "title": {
         "text": "Data Points for each stock"
        },
        "xaxis": {
         "anchor": "y",
         "domain": [
          0,
          1
         ],
         "title": {
          "text": "Stock Symbol"
         }
        },
        "yaxis": {
         "anchor": "x",
         "domain": [
          0,
          1
         ],
         "title": {
          "text": "Data Points"
         }
        }
       }
      },
      "text/html": [
       "<div>                            <div id=\"7b52c910-c52f-4541-80a2-cd395c06d9cf\" class=\"plotly-graph-div\" style=\"height:525px; width:100%;\"></div>            <script type=\"text/javascript\">                require([\"plotly\"], function(Plotly) {                    window.PLOTLYENV=window.PLOTLYENV || {};                                    if (document.getElementById(\"7b52c910-c52f-4541-80a2-cd395c06d9cf\")) {                    Plotly.newPlot(                        \"7b52c910-c52f-4541-80a2-cd395c06d9cf\",                        [{\"alignmentgroup\":\"True\",\"hovertemplate\":\"Stock Symbol=%{x}<br>Data Points=%{y}<extra></extra>\",\"legendgroup\":\"\",\"marker\":{\"color\":\"#636efa\",\"pattern\":{\"shape\":\"\"}},\"name\":\"\",\"offsetgroup\":\"\",\"orientation\":\"v\",\"showlegend\":false,\"textposition\":\"auto\",\"x\":[\"AAPL\",\"MSFT\",\"BAC\",\"AMZN\",\"NWSA\",\"BA\",\"GOOGL\",\"GS\",\"TSLA\",\"NFLX\",\"TGT\",\"INTC\",\"DIS\",\"XOM\",\"JPM\",\"MS\",\"GM\",\"C\",\"GE\",\"MU\",\"TM\",\"WMB\",\"KO\",\"WFC\",\"WMT\",\"IBM\",\"UBER\",\"BLK\",\"CME\",\"CVX\",\"AA\",\"CMG\",\"SO\",\"VZ\",\"LMT\",\"EFX\",\"CAT\",\"BKR\",\"SBUX\",\"AGN\",\"SLB\",\"JNJ\",\"T\",\"NKE\",\"PGR\",\"AMGN\",\"ICE\",\"FCX\",\"HD\",\"FDX\",\"ENGIE\",\"DAL\",\"UBSG\",\"SNE\",\"PG\",\"MRK\",\"CAJ\",\"PFE\",\"ADP\",\"JWN\",\"BHC\",\"AVGO\",\"NLOK\",\"HUM\",\"FMC\",\"COST\",\"BX\",\"MCD\",\"LLY\",\"UAL\",\"STZ\",\"COP\",\"BBY\",\"CMCSA\",\"NOC\",\"DUK\",\"AXP\",\"HMC\",\"BIIB\",\"DXPE\",\"MMM\",\"ASML\",\"NVDA\",\"MYL\",\"DD\",\"GILD\",\"ORCL\",\"ADBE\",\"BIDU\",\"VALE\",\"CSCO\",\"SPGI\",\"KBH\",\"AZO\",\"MA\",\"ANF\",\"PM\",\"URBN\",\"PBR\"],\"xaxis\":\"x\",\"y\":[20231,8110,7408,6330,5914,5879,5171,4513,4283,3806,3689,3188,2875,2831,2600,2498,2089,2081,2045,1927,1820,1482,1367,1359,1267,1249,1222,1186,1153,1105,1079,1033,979,941,937,873,872,854,845,823,788,763,759,753,697,688,630,618,614,609,597,597,592,584,584,575,546,545,543,540,526,517,513,500,497,492,489,475,469,461,460,459,457,451,441,440,436,428,425,421,421,417,415,412,408,404,403,403,402,395,390,389,387,382,378,374,372,369,366],\"yaxis\":\"y\",\"type\":\"bar\"}],                        {\"template\":{\"data\":{\"histogram2dcontour\":[{\"type\":\"histogram2dcontour\",\"colorbar\":{\"outlinewidth\":0,\"ticks\":\"\"},\"colorscale\":[[0.0,\"#0d0887\"],[0.1111111111111111,\"#46039f\"],[0.2222222222222222,\"#7201a8\"],[0.3333333333333333,\"#9c179e\"],[0.4444444444444444,\"#bd3786\"],[0.5555555555555556,\"#d8576b\"],[0.6666666666666666,\"#ed7953\"],[0.7777777777777778,\"#fb9f3a\"],[0.8888888888888888,\"#fdca26\"],[1.0,\"#f0f921\"]]}],\"choropleth\":[{\"type\":\"choropleth\",\"colorbar\":{\"outlinewidth\":0,\"ticks\":\"\"}}],\"histogram2d\":[{\"type\":\"histogram2d\",\"colorbar\":{\"outlinewidth\":0,\"ticks\":\"\"},\"colorscale\":[[0.0,\"#0d0887\"],[0.1111111111111111,\"#46039f\"],[0.2222222222222222,\"#7201a8\"],[0.3333333333333333,\"#9c179e\"],[0.4444444444444444,\"#bd3786\"],[0.5555555555555556,\"#d8576b\"],[0.6666666666666666,\"#ed7953\"],[0.7777777777777778,\"#fb9f3a\"],[0.8888888888888888,\"#fdca26\"],[1.0,\"#f0f921\"]]}],\"heatmap\":[{\"type\":\"heatmap\",\"colorbar\":{\"outlinewidth\":0,\"ticks\":\"\"},\"colorscale\":[[0.0,\"#0d0887\"],[0.1111111111111111,\"#46039f\"],[0.2222222222222222,\"#7201a8\"],[0.3333333333333333,\"#9c179e\"],[0.4444444444444444,\"#bd3786\"],[0.5555555555555556,\"#d8576b\"],[0.6666666666666666,\"#ed7953\"],[0.7777777777777778,\"#fb9f3a\"],[0.8888888888888888,\"#fdca26\"],[1.0,\"#f0f921\"]]}],\"heatmapgl\":[{\"type\":\"heatmapgl\",\"colorbar\":{\"outlinewidth\":0,\"ticks\":\"\"},\"colorscale\":[[0.0,\"#0d0887\"],[0.1111111111111111,\"#46039f\"],[0.2222222222222222,\"#7201a8\"],[0.3333333333333333,\"#9c179e\"],[0.4444444444444444,\"#bd3786\"],[0.5555555555555556,\"#d8576b\"],[0.6666666666666666,\"#ed7953\"],[0.7777777777777778,\"#fb9f3a\"],[0.8888888888888888,\"#fdca26\"],[1.0,\"#f0f921\"]]}],\"contourcarpet\":[{\"type\":\"contourcarpet\",\"colorbar\":{\"outlinewidth\":0,\"ticks\":\"\"}}],\"contour\":[{\"type\":\"contour\",\"colorbar\":{\"outlinewidth\":0,\"ticks\":\"\"},\"colorscale\":[[0.0,\"#0d0887\"],[0.1111111111111111,\"#46039f\"],[0.2222222222222222,\"#7201a8\"],[0.3333333333333333,\"#9c179e\"],[0.4444444444444444,\"#bd3786\"],[0.5555555555555556,\"#d8576b\"],[0.6666666666666666,\"#ed7953\"],[0.7777777777777778,\"#fb9f3a\"],[0.8888888888888888,\"#fdca26\"],[1.0,\"#f0f921\"]]}],\"surface\":[{\"type\":\"surface\",\"colorbar\":{\"outlinewidth\":0,\"ticks\":\"\"},\"colorscale\":[[0.0,\"#0d0887\"],[0.1111111111111111,\"#46039f\"],[0.2222222222222222,\"#7201a8\"],[0.3333333333333333,\"#9c179e\"],[0.4444444444444444,\"#bd3786\"],[0.5555555555555556,\"#d8576b\"],[0.6666666666666666,\"#ed7953\"],[0.7777777777777778,\"#fb9f3a\"],[0.8888888888888888,\"#fdca26\"],[1.0,\"#f0f921\"]]}],\"mesh3d\":[{\"type\":\"mesh3d\",\"colorbar\":{\"outlinewidth\":0,\"ticks\":\"\"}}],\"scatter\":[{\"fillpattern\":{\"fillmode\":\"overlay\",\"size\":10,\"solidity\":0.2},\"type\":\"scatter\"}],\"parcoords\":[{\"type\":\"parcoords\",\"line\":{\"colorbar\":{\"outlinewidth\":0,\"ticks\":\"\"}}}],\"scatterpolargl\":[{\"type\":\"scatterpolargl\",\"marker\":{\"colorbar\":{\"outlinewidth\":0,\"ticks\":\"\"}}}],\"bar\":[{\"error_x\":{\"color\":\"#2a3f5f\"},\"error_y\":{\"color\":\"#2a3f5f\"},\"marker\":{\"line\":{\"color\":\"#E5ECF6\",\"width\":0.5},\"pattern\":{\"fillmode\":\"overlay\",\"size\":10,\"solidity\":0.2}},\"type\":\"bar\"}],\"scattergeo\":[{\"type\":\"scattergeo\",\"marker\":{\"colorbar\":{\"outlinewidth\":0,\"ticks\":\"\"}}}],\"scatterpolar\":[{\"type\":\"scatterpolar\",\"marker\":{\"colorbar\":{\"outlinewidth\":0,\"ticks\":\"\"}}}],\"histogram\":[{\"marker\":{\"pattern\":{\"fillmode\":\"overlay\",\"size\":10,\"solidity\":0.2}},\"type\":\"histogram\"}],\"scattergl\":[{\"type\":\"scattergl\",\"marker\":{\"colorbar\":{\"outlinewidth\":0,\"ticks\":\"\"}}}],\"scatter3d\":[{\"type\":\"scatter3d\",\"line\":{\"colorbar\":{\"outlinewidth\":0,\"ticks\":\"\"}},\"marker\":{\"colorbar\":{\"outlinewidth\":0,\"ticks\":\"\"}}}],\"scattermapbox\":[{\"type\":\"scattermapbox\",\"marker\":{\"colorbar\":{\"outlinewidth\":0,\"ticks\":\"\"}}}],\"scatterternary\":[{\"type\":\"scatterternary\",\"marker\":{\"colorbar\":{\"outlinewidth\":0,\"ticks\":\"\"}}}],\"scattercarpet\":[{\"type\":\"scattercarpet\",\"marker\":{\"colorbar\":{\"outlinewidth\":0,\"ticks\":\"\"}}}],\"carpet\":[{\"aaxis\":{\"endlinecolor\":\"#2a3f5f\",\"gridcolor\":\"white\",\"linecolor\":\"white\",\"minorgridcolor\":\"white\",\"startlinecolor\":\"#2a3f5f\"},\"baxis\":{\"endlinecolor\":\"#2a3f5f\",\"gridcolor\":\"white\",\"linecolor\":\"white\",\"minorgridcolor\":\"white\",\"startlinecolor\":\"#2a3f5f\"},\"type\":\"carpet\"}],\"table\":[{\"cells\":{\"fill\":{\"color\":\"#EBF0F8\"},\"line\":{\"color\":\"white\"}},\"header\":{\"fill\":{\"color\":\"#C8D4E3\"},\"line\":{\"color\":\"white\"}},\"type\":\"table\"}],\"barpolar\":[{\"marker\":{\"line\":{\"color\":\"#E5ECF6\",\"width\":0.5},\"pattern\":{\"fillmode\":\"overlay\",\"size\":10,\"solidity\":0.2}},\"type\":\"barpolar\"}],\"pie\":[{\"automargin\":true,\"type\":\"pie\"}]},\"layout\":{\"autotypenumbers\":\"strict\",\"colorway\":[\"#636efa\",\"#EF553B\",\"#00cc96\",\"#ab63fa\",\"#FFA15A\",\"#19d3f3\",\"#FF6692\",\"#B6E880\",\"#FF97FF\",\"#FECB52\"],\"font\":{\"color\":\"#2a3f5f\"},\"hovermode\":\"closest\",\"hoverlabel\":{\"align\":\"left\"},\"paper_bgcolor\":\"white\",\"plot_bgcolor\":\"#E5ECF6\",\"polar\":{\"bgcolor\":\"#E5ECF6\",\"angularaxis\":{\"gridcolor\":\"white\",\"linecolor\":\"white\",\"ticks\":\"\"},\"radialaxis\":{\"gridcolor\":\"white\",\"linecolor\":\"white\",\"ticks\":\"\"}},\"ternary\":{\"bgcolor\":\"#E5ECF6\",\"aaxis\":{\"gridcolor\":\"white\",\"linecolor\":\"white\",\"ticks\":\"\"},\"baxis\":{\"gridcolor\":\"white\",\"linecolor\":\"white\",\"ticks\":\"\"},\"caxis\":{\"gridcolor\":\"white\",\"linecolor\":\"white\",\"ticks\":\"\"}},\"coloraxis\":{\"colorbar\":{\"outlinewidth\":0,\"ticks\":\"\"}},\"colorscale\":{\"sequential\":[[0.0,\"#0d0887\"],[0.1111111111111111,\"#46039f\"],[0.2222222222222222,\"#7201a8\"],[0.3333333333333333,\"#9c179e\"],[0.4444444444444444,\"#bd3786\"],[0.5555555555555556,\"#d8576b\"],[0.6666666666666666,\"#ed7953\"],[0.7777777777777778,\"#fb9f3a\"],[0.8888888888888888,\"#fdca26\"],[1.0,\"#f0f921\"]],\"sequentialminus\":[[0.0,\"#0d0887\"],[0.1111111111111111,\"#46039f\"],[0.2222222222222222,\"#7201a8\"],[0.3333333333333333,\"#9c179e\"],[0.4444444444444444,\"#bd3786\"],[0.5555555555555556,\"#d8576b\"],[0.6666666666666666,\"#ed7953\"],[0.7777777777777778,\"#fb9f3a\"],[0.8888888888888888,\"#fdca26\"],[1.0,\"#f0f921\"]],\"diverging\":[[0,\"#8e0152\"],[0.1,\"#c51b7d\"],[0.2,\"#de77ae\"],[0.3,\"#f1b6da\"],[0.4,\"#fde0ef\"],[0.5,\"#f7f7f7\"],[0.6,\"#e6f5d0\"],[0.7,\"#b8e186\"],[0.8,\"#7fbc41\"],[0.9,\"#4d9221\"],[1,\"#276419\"]]},\"xaxis\":{\"gridcolor\":\"white\",\"linecolor\":\"white\",\"ticks\":\"\",\"title\":{\"standoff\":15},\"zerolinecolor\":\"white\",\"automargin\":true,\"zerolinewidth\":2},\"yaxis\":{\"gridcolor\":\"white\",\"linecolor\":\"white\",\"ticks\":\"\",\"title\":{\"standoff\":15},\"zerolinecolor\":\"white\",\"automargin\":true,\"zerolinewidth\":2},\"scene\":{\"xaxis\":{\"backgroundcolor\":\"#E5ECF6\",\"gridcolor\":\"white\",\"linecolor\":\"white\",\"showbackground\":true,\"ticks\":\"\",\"zerolinecolor\":\"white\",\"gridwidth\":2},\"yaxis\":{\"backgroundcolor\":\"#E5ECF6\",\"gridcolor\":\"white\",\"linecolor\":\"white\",\"showbackground\":true,\"ticks\":\"\",\"zerolinecolor\":\"white\",\"gridwidth\":2},\"zaxis\":{\"backgroundcolor\":\"#E5ECF6\",\"gridcolor\":\"white\",\"linecolor\":\"white\",\"showbackground\":true,\"ticks\":\"\",\"zerolinecolor\":\"white\",\"gridwidth\":2}},\"shapedefaults\":{\"line\":{\"color\":\"#2a3f5f\"}},\"annotationdefaults\":{\"arrowcolor\":\"#2a3f5f\",\"arrowhead\":0,\"arrowwidth\":1},\"geo\":{\"bgcolor\":\"white\",\"landcolor\":\"#E5ECF6\",\"subunitcolor\":\"white\",\"showland\":true,\"showlakes\":true,\"lakecolor\":\"white\"},\"title\":{\"x\":0.05},\"mapbox\":{\"style\":\"light\"}}},\"xaxis\":{\"anchor\":\"y\",\"domain\":[0.0,1.0],\"title\":{\"text\":\"Stock Symbol\"}},\"yaxis\":{\"anchor\":\"x\",\"domain\":[0.0,1.0],\"title\":{\"text\":\"Data Points\"}},\"legend\":{\"tracegroupgap\":0},\"title\":{\"text\":\"Data Points for each stock\"},\"barmode\":\"relative\"},                        {\"responsive\": true}                    ).then(function(){\n",
       "                            \n",
       "var gd = document.getElementById('7b52c910-c52f-4541-80a2-cd395c06d9cf');\n",
       "var x = new MutationObserver(function (mutations, observer) {{\n",
       "        var display = window.getComputedStyle(gd).display;\n",
       "        if (!display || display === 'none') {{\n",
       "            console.log([gd, 'removed!']);\n",
       "            Plotly.purge(gd);\n",
       "            observer.disconnect();\n",
       "        }}\n",
       "}});\n",
       "\n",
       "// Listen for the removal of the full notebook cells\n",
       "var notebookContainer = gd.closest('#notebook-container');\n",
       "if (notebookContainer) {{\n",
       "    x.observe(notebookContainer, {childList: true});\n",
       "}}\n",
       "\n",
       "// Listen for the clearing of the current output cell\n",
       "var outputEl = gd.closest('.output');\n",
       "if (outputEl) {{\n",
       "    x.observe(outputEl, {childList: true});\n",
       "}}\n",
       "\n",
       "                        })                };                });            </script>        </div>"
      ]
     },
     "metadata": {},
     "output_type": "display_data"
    }
   ],
   "source": [
    "fig = px.bar(bar_df, x='Stock Symbol', y='Data Points', title = \"Data Points for each stock\")\n",
    "fig.show()"
   ]
  },
  {
   "cell_type": "code",
   "execution_count": 87,
   "metadata": {},
   "outputs": [],
   "source": [
    "#Masked the dataframe by selecting only top 100 stocks for which we have more than 350 data points"
   ]
  },
  {
   "cell_type": "code",
   "execution_count": 83,
   "metadata": {},
   "outputs": [],
   "source": [
    "mask = data[data['ticker'].isin(bar_df['Stock Symbol'].to_list())]"
   ]
  },
  {
   "cell_type": "code",
   "execution_count": 85,
   "metadata": {},
   "outputs": [],
   "source": [
    "data = mask"
   ]
  },
  {
   "cell_type": "markdown",
   "metadata": {},
   "source": [
    "Used Sentiment Intensity analyser to return the sentiment in the text data"
   ]
  },
  {
   "cell_type": "code",
   "execution_count": 86,
   "metadata": {},
   "outputs": [],
   "source": [
    "vader = SentimentIntensityAnalyzer()\n",
    "scores = data['words'].apply(vader.polarity_scores).tolist()\n",
    "data['Score'] = scores"
   ]
  },
  {
   "cell_type": "code",
   "execution_count": 130,
   "metadata": {},
   "outputs": [],
   "source": [
    "neg = []\n",
    "pos = []\n",
    "neu = []\n",
    "comp = []\n",
    "for i in data['Score']:\n",
    "    neg.append(i['neg'])\n",
    "    pos.append(i['pos'])\n",
    "    neu.append(i['neu'])\n",
    "    comp.append(i['compound'])\n",
    "    "
   ]
  },
  {
   "cell_type": "code",
   "execution_count": 134,
   "metadata": {},
   "outputs": [],
   "source": [
    "data['Positive Score'] = pos\n",
    "data['Negative Score'] = neg\n",
    "data['Neutral Score'] = neu\n",
    "data['Compound'] = comp"
   ]
  },
  {
   "cell_type": "code",
   "execution_count": 137,
   "metadata": {},
   "outputs": [],
   "source": [
    "pn = []\n",
    "for i in data['Compound']:\n",
    "    if i > 0:\n",
    "        pn.append(1)\n",
    "    elif i == 0:\n",
    "        pn.append(0)\n",
    "    else:\n",
    "        pn.append(-1)"
   ]
  },
  {
   "cell_type": "code",
   "execution_count": 138,
   "metadata": {},
   "outputs": [],
   "source": [
    "data['PNN Score'] = pn "
   ]
  },
  {
   "cell_type": "code",
   "execution_count": 142,
   "metadata": {},
   "outputs": [],
   "source": [
    "data.drop(['Score'], axis = 1,inplace = True)"
   ]
  },
  {
   "cell_type": "code",
   "execution_count": 143,
   "metadata": {},
   "outputs": [
    {
     "data": {
      "text/html": [
       "<div>\n",
       "<style scoped>\n",
       "    .dataframe tbody tr th:only-of-type {\n",
       "        vertical-align: middle;\n",
       "    }\n",
       "\n",
       "    .dataframe tbody tr th {\n",
       "        vertical-align: top;\n",
       "    }\n",
       "\n",
       "    .dataframe thead th {\n",
       "        text-align: right;\n",
       "    }\n",
       "</style>\n",
       "<table border=\"1\" class=\"dataframe\">\n",
       "  <thead>\n",
       "    <tr style=\"text-align: right;\">\n",
       "      <th></th>\n",
       "      <th>id</th>\n",
       "      <th>ticker</th>\n",
       "      <th>title</th>\n",
       "      <th>category</th>\n",
       "      <th>content</th>\n",
       "      <th>release_date</th>\n",
       "      <th>provider</th>\n",
       "      <th>words</th>\n",
       "      <th>Positive Score</th>\n",
       "      <th>Negative Score</th>\n",
       "      <th>Neutral Score</th>\n",
       "      <th>Compound</th>\n",
       "      <th>PNN Score</th>\n",
       "    </tr>\n",
       "  </thead>\n",
       "  <tbody>\n",
       "    <tr>\n",
       "      <th>76</th>\n",
       "      <td>221591</td>\n",
       "      <td>UBER</td>\n",
       "      <td>Uber Aims At Divesting Indian Food Delivery Un...</td>\n",
       "      <td>opinion</td>\n",
       "      <td>Uber Technologies  Inc    NYSE UBER   is set t...</td>\n",
       "      <td>2020-01-22</td>\n",
       "      <td>Zacks Investment Research</td>\n",
       "      <td>Uber Technologies Inc NYSE UBER set discontinu...</td>\n",
       "      <td>0.132</td>\n",
       "      <td>0.061</td>\n",
       "      <td>0.808</td>\n",
       "      <td>0.9723</td>\n",
       "      <td>1</td>\n",
       "    </tr>\n",
       "    <tr>\n",
       "      <th>77</th>\n",
       "      <td>221592</td>\n",
       "      <td>UBER</td>\n",
       "      <td>Starbucks Vs McDonald s  Which Is A Better Res...</td>\n",
       "      <td>opinion</td>\n",
       "      <td>The Zacks  industry has had a decent run in th...</td>\n",
       "      <td>2020-01-12</td>\n",
       "      <td>Zacks Investment Research</td>\n",
       "      <td>The Zacks industry decent run past year The in...</td>\n",
       "      <td>0.266</td>\n",
       "      <td>0.020</td>\n",
       "      <td>0.713</td>\n",
       "      <td>0.9984</td>\n",
       "      <td>1</td>\n",
       "    </tr>\n",
       "    <tr>\n",
       "      <th>78</th>\n",
       "      <td>221593</td>\n",
       "      <td>UBER</td>\n",
       "      <td>The Zacks Analyst Blog Highlights  Advanced Mi...</td>\n",
       "      <td>opinion</td>\n",
       "      <td>For Immediate ReleaseChicago  IL   January 13 ...</td>\n",
       "      <td>2020-01-12</td>\n",
       "      <td>Zacks Investment Research</td>\n",
       "      <td>For Immediate ReleaseChicago IL January Zacks ...</td>\n",
       "      <td>0.194</td>\n",
       "      <td>0.020</td>\n",
       "      <td>0.786</td>\n",
       "      <td>0.9995</td>\n",
       "      <td>1</td>\n",
       "    </tr>\n",
       "    <tr>\n",
       "      <th>79</th>\n",
       "      <td>221594</td>\n",
       "      <td>UBER</td>\n",
       "      <td>Top Research Reports For UnitedHealth  CVS   M...</td>\n",
       "      <td>opinion</td>\n",
       "      <td>Monday  January 13  2020The Zacks Research Dai...</td>\n",
       "      <td>2020-01-13</td>\n",
       "      <td>Zacks Investment Research</td>\n",
       "      <td>Monday January Zacks Research Daily presents b...</td>\n",
       "      <td>0.249</td>\n",
       "      <td>0.059</td>\n",
       "      <td>0.691</td>\n",
       "      <td>0.9994</td>\n",
       "      <td>1</td>\n",
       "    </tr>\n",
       "    <tr>\n",
       "      <th>80</th>\n",
       "      <td>221595</td>\n",
       "      <td>UBER</td>\n",
       "      <td>The Zacks Analyst Blog Highlights  UnitedHealt...</td>\n",
       "      <td>opinion</td>\n",
       "      <td>For Immediate ReleaseChicago  IL   January 14 ...</td>\n",
       "      <td>2020-01-13</td>\n",
       "      <td>Zacks Investment Research</td>\n",
       "      <td>For Immediate ReleaseChicago IL January Zacks ...</td>\n",
       "      <td>0.213</td>\n",
       "      <td>0.035</td>\n",
       "      <td>0.752</td>\n",
       "      <td>0.9983</td>\n",
       "      <td>1</td>\n",
       "    </tr>\n",
       "    <tr>\n",
       "      <th>...</th>\n",
       "      <td>...</td>\n",
       "      <td>...</td>\n",
       "      <td>...</td>\n",
       "      <td>...</td>\n",
       "      <td>...</td>\n",
       "      <td>...</td>\n",
       "      <td>...</td>\n",
       "      <td>...</td>\n",
       "      <td>...</td>\n",
       "      <td>...</td>\n",
       "      <td>...</td>\n",
       "      <td>...</td>\n",
       "      <td>...</td>\n",
       "    </tr>\n",
       "    <tr>\n",
       "      <th>221508</th>\n",
       "      <td>443024</td>\n",
       "      <td>T</td>\n",
       "      <td>Crude And Steel Still In Sync</td>\n",
       "      <td>opinion</td>\n",
       "      <td>We have been reporting on the trade off betwee...</td>\n",
       "      <td>2012-10-04</td>\n",
       "      <td>Ivan Kitov</td>\n",
       "      <td>We reporting trade producer price index crude ...</td>\n",
       "      <td>0.037</td>\n",
       "      <td>0.152</td>\n",
       "      <td>0.812</td>\n",
       "      <td>-0.9874</td>\n",
       "      <td>-1</td>\n",
       "    </tr>\n",
       "    <tr>\n",
       "      <th>221509</th>\n",
       "      <td>443025</td>\n",
       "      <td>T</td>\n",
       "      <td>Forget AT T  This Is The Telecom Stock You Sho...</td>\n",
       "      <td>opinion</td>\n",
       "      <td>It s the largest cell phone provider in the wo...</td>\n",
       "      <td>2012-05-30</td>\n",
       "      <td>StreetAuthority</td>\n",
       "      <td>It largest cell phone provider world It custom...</td>\n",
       "      <td>0.182</td>\n",
       "      <td>0.080</td>\n",
       "      <td>0.738</td>\n",
       "      <td>0.9899</td>\n",
       "      <td>1</td>\n",
       "    </tr>\n",
       "    <tr>\n",
       "      <th>221510</th>\n",
       "      <td>443026</td>\n",
       "      <td>T</td>\n",
       "      <td>Wall Street Exposed   Part 3   How Dividends C...</td>\n",
       "      <td>opinion</td>\n",
       "      <td>Before we dicuss how the mechanism of dividend...</td>\n",
       "      <td>2012-07-16</td>\n",
       "      <td>Portfolio Cafe</td>\n",
       "      <td>Before dicuss mechanism dividends keeps stock ...</td>\n",
       "      <td>0.261</td>\n",
       "      <td>0.077</td>\n",
       "      <td>0.661</td>\n",
       "      <td>0.9993</td>\n",
       "      <td>1</td>\n",
       "    </tr>\n",
       "    <tr>\n",
       "      <th>221511</th>\n",
       "      <td>443027</td>\n",
       "      <td>T</td>\n",
       "      <td>Weighing The Week Ahead  It s All About Jobs</td>\n",
       "      <td>opinion</td>\n",
       "      <td>From start to finish  the coming week will hav...</td>\n",
       "      <td>2012-09-02</td>\n",
       "      <td>Jeff Miller</td>\n",
       "      <td>From start finish coming week heightened focus...</td>\n",
       "      <td>0.191</td>\n",
       "      <td>0.101</td>\n",
       "      <td>0.708</td>\n",
       "      <td>0.9992</td>\n",
       "      <td>1</td>\n",
       "    </tr>\n",
       "    <tr>\n",
       "      <th>221512</th>\n",
       "      <td>443028</td>\n",
       "      <td>T</td>\n",
       "      <td>Leap Wireless  LEAP    JPM Note and AT T   T M...</td>\n",
       "      <td>opinion</td>\n",
       "      <td>Leap Wireless International  Inc   Leap  is a ...</td>\n",
       "      <td>2011-12-31</td>\n",
       "      <td>Ophir Gottlieb</td>\n",
       "      <td>Leap Wireless International Inc Leap wireless ...</td>\n",
       "      <td>0.053</td>\n",
       "      <td>0.032</td>\n",
       "      <td>0.915</td>\n",
       "      <td>0.7346</td>\n",
       "      <td>1</td>\n",
       "    </tr>\n",
       "  </tbody>\n",
       "</table>\n",
       "<p>149380 rows × 13 columns</p>\n",
       "</div>"
      ],
      "text/plain": [
       "            id ticker                                              title  \\\n",
       "76      221591   UBER  Uber Aims At Divesting Indian Food Delivery Un...   \n",
       "77      221592   UBER  Starbucks Vs McDonald s  Which Is A Better Res...   \n",
       "78      221593   UBER  The Zacks Analyst Blog Highlights  Advanced Mi...   \n",
       "79      221594   UBER  Top Research Reports For UnitedHealth  CVS   M...   \n",
       "80      221595   UBER  The Zacks Analyst Blog Highlights  UnitedHealt...   \n",
       "...        ...    ...                                                ...   \n",
       "221508  443024      T                     Crude And Steel Still In Sync    \n",
       "221509  443025      T  Forget AT T  This Is The Telecom Stock You Sho...   \n",
       "221510  443026      T  Wall Street Exposed   Part 3   How Dividends C...   \n",
       "221511  443027      T       Weighing The Week Ahead  It s All About Jobs   \n",
       "221512  443028      T  Leap Wireless  LEAP    JPM Note and AT T   T M...   \n",
       "\n",
       "       category                                            content  \\\n",
       "76      opinion  Uber Technologies  Inc    NYSE UBER   is set t...   \n",
       "77      opinion  The Zacks  industry has had a decent run in th...   \n",
       "78      opinion  For Immediate ReleaseChicago  IL   January 13 ...   \n",
       "79      opinion  Monday  January 13  2020The Zacks Research Dai...   \n",
       "80      opinion  For Immediate ReleaseChicago  IL   January 14 ...   \n",
       "...         ...                                                ...   \n",
       "221508  opinion  We have been reporting on the trade off betwee...   \n",
       "221509  opinion  It s the largest cell phone provider in the wo...   \n",
       "221510  opinion  Before we dicuss how the mechanism of dividend...   \n",
       "221511  opinion  From start to finish  the coming week will hav...   \n",
       "221512  opinion  Leap Wireless International  Inc   Leap  is a ...   \n",
       "\n",
       "       release_date                   provider  \\\n",
       "76       2020-01-22  Zacks Investment Research   \n",
       "77       2020-01-12  Zacks Investment Research   \n",
       "78       2020-01-12  Zacks Investment Research   \n",
       "79       2020-01-13  Zacks Investment Research   \n",
       "80       2020-01-13  Zacks Investment Research   \n",
       "...             ...                        ...   \n",
       "221508   2012-10-04                 Ivan Kitov   \n",
       "221509   2012-05-30            StreetAuthority   \n",
       "221510   2012-07-16             Portfolio Cafe   \n",
       "221511   2012-09-02                Jeff Miller   \n",
       "221512   2011-12-31             Ophir Gottlieb   \n",
       "\n",
       "                                                    words  Positive Score  \\\n",
       "76      Uber Technologies Inc NYSE UBER set discontinu...           0.132   \n",
       "77      The Zacks industry decent run past year The in...           0.266   \n",
       "78      For Immediate ReleaseChicago IL January Zacks ...           0.194   \n",
       "79      Monday January Zacks Research Daily presents b...           0.249   \n",
       "80      For Immediate ReleaseChicago IL January Zacks ...           0.213   \n",
       "...                                                   ...             ...   \n",
       "221508  We reporting trade producer price index crude ...           0.037   \n",
       "221509  It largest cell phone provider world It custom...           0.182   \n",
       "221510  Before dicuss mechanism dividends keeps stock ...           0.261   \n",
       "221511  From start finish coming week heightened focus...           0.191   \n",
       "221512  Leap Wireless International Inc Leap wireless ...           0.053   \n",
       "\n",
       "        Negative Score  Neutral Score  Compound  PNN Score  \n",
       "76               0.061          0.808    0.9723          1  \n",
       "77               0.020          0.713    0.9984          1  \n",
       "78               0.020          0.786    0.9995          1  \n",
       "79               0.059          0.691    0.9994          1  \n",
       "80               0.035          0.752    0.9983          1  \n",
       "...                ...            ...       ...        ...  \n",
       "221508           0.152          0.812   -0.9874         -1  \n",
       "221509           0.080          0.738    0.9899          1  \n",
       "221510           0.077          0.661    0.9993          1  \n",
       "221511           0.101          0.708    0.9992          1  \n",
       "221512           0.032          0.915    0.7346          1  \n",
       "\n",
       "[149380 rows x 13 columns]"
      ]
     },
     "execution_count": 143,
     "metadata": {},
     "output_type": "execute_result"
    }
   ],
   "source": [
    "data"
   ]
  },
  {
   "cell_type": "markdown",
   "metadata": {},
   "source": [
    "If the PNN score is 1 it has a positive sentiment and if its zero its neutral, and -1 for negative"
   ]
  },
  {
   "cell_type": "markdown",
   "metadata": {},
   "source": [
    "Appending these sentiment scores to the dataframe "
   ]
  },
  {
   "cell_type": "markdown",
   "metadata": {},
   "source": [
    "Basic cleaning"
   ]
  },
  {
   "cell_type": "code",
   "execution_count": 151,
   "metadata": {},
   "outputs": [],
   "source": [
    "tick_list = data['ticker'].unique()"
   ]
  },
  {
   "cell_type": "code",
   "execution_count": 173,
   "metadata": {},
   "outputs": [],
   "source": [
    "data['release_date'] = pd.to_datetime(data['release_date'], format = \"%d/%m/%Y\")"
   ]
  },
  {
   "cell_type": "code",
   "execution_count": 264,
   "metadata": {},
   "outputs": [
    {
     "name": "stdout",
     "output_type": "stream",
     "text": [
      "\n",
      "1 Failed download:\n",
      "- ENGIE: No data found, symbol may be delisted\n",
      "\n",
      "1 Failed download:\n",
      "- AGN: No data found, symbol may be delisted\n",
      "\n",
      "1 Failed download:\n",
      "- SNE: No data found, symbol may be delisted\n",
      "\n",
      "1 Failed download:\n",
      "- UBSG: No data found, symbol may be delisted\n",
      "\n",
      "1 Failed download:\n",
      "- MYL: No data found, symbol may be delisted\n"
     ]
    }
   ],
   "source": [
    "for ticker in tick_list:\n",
    "    stocks = yf.download(ticker, start='2008-10-02',end='2020-02-13',progress=False)\n",
    "    stocks['id'] = ticker\n",
    "    stocks['Release_date'] = stocks.index\n",
    "    stock_df = stock_df.append(stocks,ignore_index=True)"
   ]
  },
  {
   "cell_type": "code",
   "execution_count": 270,
   "metadata": {},
   "outputs": [
    {
     "data": {
      "text/html": [
       "<div>\n",
       "<style scoped>\n",
       "    .dataframe tbody tr th:only-of-type {\n",
       "        vertical-align: middle;\n",
       "    }\n",
       "\n",
       "    .dataframe tbody tr th {\n",
       "        vertical-align: top;\n",
       "    }\n",
       "\n",
       "    .dataframe thead th {\n",
       "        text-align: right;\n",
       "    }\n",
       "</style>\n",
       "<table border=\"1\" class=\"dataframe\">\n",
       "  <thead>\n",
       "    <tr style=\"text-align: right;\">\n",
       "      <th></th>\n",
       "      <th>Open</th>\n",
       "      <th>High</th>\n",
       "      <th>Low</th>\n",
       "      <th>Close</th>\n",
       "      <th>Adj Close</th>\n",
       "      <th>Volume</th>\n",
       "      <th>id</th>\n",
       "      <th>Release_date</th>\n",
       "    </tr>\n",
       "  </thead>\n",
       "  <tbody>\n",
       "    <tr>\n",
       "      <th>0</th>\n",
       "      <td>42.000000</td>\n",
       "      <td>45.000000</td>\n",
       "      <td>41.060001</td>\n",
       "      <td>41.570000</td>\n",
       "      <td>41.570000</td>\n",
       "      <td>186322500.0</td>\n",
       "      <td>UBER</td>\n",
       "      <td>2019-05-10</td>\n",
       "    </tr>\n",
       "    <tr>\n",
       "      <th>1</th>\n",
       "      <td>38.790001</td>\n",
       "      <td>39.240002</td>\n",
       "      <td>36.080002</td>\n",
       "      <td>37.099998</td>\n",
       "      <td>37.099998</td>\n",
       "      <td>79442400.0</td>\n",
       "      <td>UBER</td>\n",
       "      <td>2019-05-13</td>\n",
       "    </tr>\n",
       "    <tr>\n",
       "      <th>2</th>\n",
       "      <td>38.310001</td>\n",
       "      <td>39.959999</td>\n",
       "      <td>36.849998</td>\n",
       "      <td>39.959999</td>\n",
       "      <td>39.959999</td>\n",
       "      <td>46661100.0</td>\n",
       "      <td>UBER</td>\n",
       "      <td>2019-05-14</td>\n",
       "    </tr>\n",
       "    <tr>\n",
       "      <th>3</th>\n",
       "      <td>39.369999</td>\n",
       "      <td>41.880001</td>\n",
       "      <td>38.950001</td>\n",
       "      <td>41.290001</td>\n",
       "      <td>41.290001</td>\n",
       "      <td>36086100.0</td>\n",
       "      <td>UBER</td>\n",
       "      <td>2019-05-15</td>\n",
       "    </tr>\n",
       "    <tr>\n",
       "      <th>4</th>\n",
       "      <td>41.480000</td>\n",
       "      <td>44.060001</td>\n",
       "      <td>41.250000</td>\n",
       "      <td>43.000000</td>\n",
       "      <td>43.000000</td>\n",
       "      <td>38115500.0</td>\n",
       "      <td>UBER</td>\n",
       "      <td>2019-05-16</td>\n",
       "    </tr>\n",
       "    <tr>\n",
       "      <th>...</th>\n",
       "      <td>...</td>\n",
       "      <td>...</td>\n",
       "      <td>...</td>\n",
       "      <td>...</td>\n",
       "      <td>...</td>\n",
       "      <td>...</td>\n",
       "      <td>...</td>\n",
       "      <td>...</td>\n",
       "    </tr>\n",
       "    <tr>\n",
       "      <th>263804</th>\n",
       "      <td>28.595165</td>\n",
       "      <td>29.063444</td>\n",
       "      <td>28.595165</td>\n",
       "      <td>29.033234</td>\n",
       "      <td>23.344145</td>\n",
       "      <td>34705482.0</td>\n",
       "      <td>T</td>\n",
       "      <td>2020-02-06</td>\n",
       "    </tr>\n",
       "    <tr>\n",
       "      <th>263805</th>\n",
       "      <td>29.040785</td>\n",
       "      <td>29.244713</td>\n",
       "      <td>28.972811</td>\n",
       "      <td>29.040785</td>\n",
       "      <td>23.350222</td>\n",
       "      <td>33363079.0</td>\n",
       "      <td>T</td>\n",
       "      <td>2020-02-07</td>\n",
       "    </tr>\n",
       "    <tr>\n",
       "      <th>263806</th>\n",
       "      <td>29.018127</td>\n",
       "      <td>29.108761</td>\n",
       "      <td>28.776436</td>\n",
       "      <td>28.957705</td>\n",
       "      <td>23.283419</td>\n",
       "      <td>24552653.0</td>\n",
       "      <td>T</td>\n",
       "      <td>2020-02-10</td>\n",
       "    </tr>\n",
       "    <tr>\n",
       "      <th>263807</th>\n",
       "      <td>29.070997</td>\n",
       "      <td>29.320242</td>\n",
       "      <td>28.625378</td>\n",
       "      <td>28.829306</td>\n",
       "      <td>23.180182</td>\n",
       "      <td>42338872.0</td>\n",
       "      <td>T</td>\n",
       "      <td>2020-02-11</td>\n",
       "    </tr>\n",
       "    <tr>\n",
       "      <th>263808</th>\n",
       "      <td>28.844412</td>\n",
       "      <td>28.950151</td>\n",
       "      <td>28.716011</td>\n",
       "      <td>28.731117</td>\n",
       "      <td>23.101234</td>\n",
       "      <td>41453646.0</td>\n",
       "      <td>T</td>\n",
       "      <td>2020-02-12</td>\n",
       "    </tr>\n",
       "  </tbody>\n",
       "</table>\n",
       "<p>263809 rows × 8 columns</p>\n",
       "</div>"
      ],
      "text/plain": [
       "             Open       High        Low      Close  Adj Close       Volume  \\\n",
       "0       42.000000  45.000000  41.060001  41.570000  41.570000  186322500.0   \n",
       "1       38.790001  39.240002  36.080002  37.099998  37.099998   79442400.0   \n",
       "2       38.310001  39.959999  36.849998  39.959999  39.959999   46661100.0   \n",
       "3       39.369999  41.880001  38.950001  41.290001  41.290001   36086100.0   \n",
       "4       41.480000  44.060001  41.250000  43.000000  43.000000   38115500.0   \n",
       "...           ...        ...        ...        ...        ...          ...   \n",
       "263804  28.595165  29.063444  28.595165  29.033234  23.344145   34705482.0   \n",
       "263805  29.040785  29.244713  28.972811  29.040785  23.350222   33363079.0   \n",
       "263806  29.018127  29.108761  28.776436  28.957705  23.283419   24552653.0   \n",
       "263807  29.070997  29.320242  28.625378  28.829306  23.180182   42338872.0   \n",
       "263808  28.844412  28.950151  28.716011  28.731117  23.101234   41453646.0   \n",
       "\n",
       "          id Release_date  \n",
       "0       UBER   2019-05-10  \n",
       "1       UBER   2019-05-13  \n",
       "2       UBER   2019-05-14  \n",
       "3       UBER   2019-05-15  \n",
       "4       UBER   2019-05-16  \n",
       "...      ...          ...  \n",
       "263804     T   2020-02-06  \n",
       "263805     T   2020-02-07  \n",
       "263806     T   2020-02-10  \n",
       "263807     T   2020-02-11  \n",
       "263808     T   2020-02-12  \n",
       "\n",
       "[263809 rows x 8 columns]"
      ]
     },
     "execution_count": 270,
     "metadata": {},
     "output_type": "execute_result"
    }
   ],
   "source": [
    "stock_df"
   ]
  },
  {
   "cell_type": "code",
   "execution_count": 271,
   "metadata": {},
   "outputs": [],
   "source": [
    "unlisted_stocks = ['ENGIE','AGN','SNE','UBSG','MYL']"
   ]
  },
  {
   "cell_type": "markdown",
   "metadata": {},
   "source": [
    "Basic cleaning to the stocks data and defining percentage change in the data"
   ]
  },
  {
   "cell_type": "code",
   "execution_count": 272,
   "metadata": {},
   "outputs": [],
   "source": [
    "stock_df['Percentage_change'] = (stock_df['Open'] - stock_df['Close'])"
   ]
  },
  {
   "cell_type": "code",
   "execution_count": 274,
   "metadata": {},
   "outputs": [],
   "source": [
    "stock_df['Percentage_change'] = stock_df['Percentage_change']/stock_df['Open']"
   ]
  },
  {
   "cell_type": "code",
   "execution_count": 276,
   "metadata": {},
   "outputs": [],
   "source": [
    "stock_df['Percentage_change'] = stock_df['Percentage_change']*100"
   ]
  },
  {
   "cell_type": "code",
   "execution_count": 277,
   "metadata": {},
   "outputs": [
    {
     "data": {
      "text/html": [
       "<div>\n",
       "<style scoped>\n",
       "    .dataframe tbody tr th:only-of-type {\n",
       "        vertical-align: middle;\n",
       "    }\n",
       "\n",
       "    .dataframe tbody tr th {\n",
       "        vertical-align: top;\n",
       "    }\n",
       "\n",
       "    .dataframe thead th {\n",
       "        text-align: right;\n",
       "    }\n",
       "</style>\n",
       "<table border=\"1\" class=\"dataframe\">\n",
       "  <thead>\n",
       "    <tr style=\"text-align: right;\">\n",
       "      <th></th>\n",
       "      <th>Open</th>\n",
       "      <th>High</th>\n",
       "      <th>Low</th>\n",
       "      <th>Close</th>\n",
       "      <th>Adj Close</th>\n",
       "      <th>Volume</th>\n",
       "      <th>id</th>\n",
       "      <th>Release_date</th>\n",
       "      <th>Percentage_change</th>\n",
       "    </tr>\n",
       "  </thead>\n",
       "  <tbody>\n",
       "    <tr>\n",
       "      <th>0</th>\n",
       "      <td>42.000000</td>\n",
       "      <td>45.000000</td>\n",
       "      <td>41.060001</td>\n",
       "      <td>41.570000</td>\n",
       "      <td>41.570000</td>\n",
       "      <td>186322500.0</td>\n",
       "      <td>UBER</td>\n",
       "      <td>2019-05-10</td>\n",
       "      <td>1.023810</td>\n",
       "    </tr>\n",
       "    <tr>\n",
       "      <th>1</th>\n",
       "      <td>38.790001</td>\n",
       "      <td>39.240002</td>\n",
       "      <td>36.080002</td>\n",
       "      <td>37.099998</td>\n",
       "      <td>37.099998</td>\n",
       "      <td>79442400.0</td>\n",
       "      <td>UBER</td>\n",
       "      <td>2019-05-13</td>\n",
       "      <td>4.356799</td>\n",
       "    </tr>\n",
       "    <tr>\n",
       "      <th>2</th>\n",
       "      <td>38.310001</td>\n",
       "      <td>39.959999</td>\n",
       "      <td>36.849998</td>\n",
       "      <td>39.959999</td>\n",
       "      <td>39.959999</td>\n",
       "      <td>46661100.0</td>\n",
       "      <td>UBER</td>\n",
       "      <td>2019-05-14</td>\n",
       "      <td>-4.306963</td>\n",
       "    </tr>\n",
       "    <tr>\n",
       "      <th>3</th>\n",
       "      <td>39.369999</td>\n",
       "      <td>41.880001</td>\n",
       "      <td>38.950001</td>\n",
       "      <td>41.290001</td>\n",
       "      <td>41.290001</td>\n",
       "      <td>36086100.0</td>\n",
       "      <td>UBER</td>\n",
       "      <td>2019-05-15</td>\n",
       "      <td>-4.876815</td>\n",
       "    </tr>\n",
       "    <tr>\n",
       "      <th>4</th>\n",
       "      <td>41.480000</td>\n",
       "      <td>44.060001</td>\n",
       "      <td>41.250000</td>\n",
       "      <td>43.000000</td>\n",
       "      <td>43.000000</td>\n",
       "      <td>38115500.0</td>\n",
       "      <td>UBER</td>\n",
       "      <td>2019-05-16</td>\n",
       "      <td>-3.664418</td>\n",
       "    </tr>\n",
       "    <tr>\n",
       "      <th>...</th>\n",
       "      <td>...</td>\n",
       "      <td>...</td>\n",
       "      <td>...</td>\n",
       "      <td>...</td>\n",
       "      <td>...</td>\n",
       "      <td>...</td>\n",
       "      <td>...</td>\n",
       "      <td>...</td>\n",
       "      <td>...</td>\n",
       "    </tr>\n",
       "    <tr>\n",
       "      <th>263804</th>\n",
       "      <td>28.595165</td>\n",
       "      <td>29.063444</td>\n",
       "      <td>28.595165</td>\n",
       "      <td>29.033234</td>\n",
       "      <td>23.344145</td>\n",
       "      <td>34705482.0</td>\n",
       "      <td>T</td>\n",
       "      <td>2020-02-06</td>\n",
       "      <td>-1.531967</td>\n",
       "    </tr>\n",
       "    <tr>\n",
       "      <th>263805</th>\n",
       "      <td>29.040785</td>\n",
       "      <td>29.244713</td>\n",
       "      <td>28.972811</td>\n",
       "      <td>29.040785</td>\n",
       "      <td>23.350222</td>\n",
       "      <td>33363079.0</td>\n",
       "      <td>T</td>\n",
       "      <td>2020-02-07</td>\n",
       "      <td>0.000000</td>\n",
       "    </tr>\n",
       "    <tr>\n",
       "      <th>263806</th>\n",
       "      <td>29.018127</td>\n",
       "      <td>29.108761</td>\n",
       "      <td>28.776436</td>\n",
       "      <td>28.957705</td>\n",
       "      <td>23.283419</td>\n",
       "      <td>24552653.0</td>\n",
       "      <td>T</td>\n",
       "      <td>2020-02-10</td>\n",
       "      <td>0.208225</td>\n",
       "    </tr>\n",
       "    <tr>\n",
       "      <th>263807</th>\n",
       "      <td>29.070997</td>\n",
       "      <td>29.320242</td>\n",
       "      <td>28.625378</td>\n",
       "      <td>28.829306</td>\n",
       "      <td>23.180182</td>\n",
       "      <td>42338872.0</td>\n",
       "      <td>T</td>\n",
       "      <td>2020-02-11</td>\n",
       "      <td>0.831384</td>\n",
       "    </tr>\n",
       "    <tr>\n",
       "      <th>263808</th>\n",
       "      <td>28.844412</td>\n",
       "      <td>28.950151</td>\n",
       "      <td>28.716011</td>\n",
       "      <td>28.731117</td>\n",
       "      <td>23.101234</td>\n",
       "      <td>41453646.0</td>\n",
       "      <td>T</td>\n",
       "      <td>2020-02-12</td>\n",
       "      <td>0.392778</td>\n",
       "    </tr>\n",
       "  </tbody>\n",
       "</table>\n",
       "<p>263809 rows × 9 columns</p>\n",
       "</div>"
      ],
      "text/plain": [
       "             Open       High        Low      Close  Adj Close       Volume  \\\n",
       "0       42.000000  45.000000  41.060001  41.570000  41.570000  186322500.0   \n",
       "1       38.790001  39.240002  36.080002  37.099998  37.099998   79442400.0   \n",
       "2       38.310001  39.959999  36.849998  39.959999  39.959999   46661100.0   \n",
       "3       39.369999  41.880001  38.950001  41.290001  41.290001   36086100.0   \n",
       "4       41.480000  44.060001  41.250000  43.000000  43.000000   38115500.0   \n",
       "...           ...        ...        ...        ...        ...          ...   \n",
       "263804  28.595165  29.063444  28.595165  29.033234  23.344145   34705482.0   \n",
       "263805  29.040785  29.244713  28.972811  29.040785  23.350222   33363079.0   \n",
       "263806  29.018127  29.108761  28.776436  28.957705  23.283419   24552653.0   \n",
       "263807  29.070997  29.320242  28.625378  28.829306  23.180182   42338872.0   \n",
       "263808  28.844412  28.950151  28.716011  28.731117  23.101234   41453646.0   \n",
       "\n",
       "          id Release_date  Percentage_change  \n",
       "0       UBER   2019-05-10           1.023810  \n",
       "1       UBER   2019-05-13           4.356799  \n",
       "2       UBER   2019-05-14          -4.306963  \n",
       "3       UBER   2019-05-15          -4.876815  \n",
       "4       UBER   2019-05-16          -3.664418  \n",
       "...      ...          ...                ...  \n",
       "263804     T   2020-02-06          -1.531967  \n",
       "263805     T   2020-02-07           0.000000  \n",
       "263806     T   2020-02-10           0.208225  \n",
       "263807     T   2020-02-11           0.831384  \n",
       "263808     T   2020-02-12           0.392778  \n",
       "\n",
       "[263809 rows x 9 columns]"
      ]
     },
     "execution_count": 277,
     "metadata": {},
     "output_type": "execute_result"
    }
   ],
   "source": [
    "stock_df"
   ]
  },
  {
   "cell_type": "markdown",
   "metadata": {},
   "source": [
    "Merging stocks and the news dataframes to make a final dataframe"
   ]
  },
  {
   "cell_type": "code",
   "execution_count": 280,
   "metadata": {},
   "outputs": [],
   "source": [
    "Final_data = data.merge(stock_df,how='inner', left_on=['ticker','release_date'], right_on=['id','Release_date'])"
   ]
  },
  {
   "cell_type": "markdown",
   "metadata": {},
   "source": [
    "Downloading data to a csv file which is used in the next part"
   ]
  },
  {
   "cell_type": "code",
   "execution_count": 578,
   "metadata": {},
   "outputs": [],
   "source": [
    "Final_data.to_csv('Final_Sentiment_data.csv')"
   ]
  },
  {
   "cell_type": "markdown",
   "metadata": {},
   "source": [
    "Defining stock op as 1 if stock open price is less than stock close price and 0 if open is more than close"
   ]
  },
  {
   "cell_type": "code",
   "execution_count": 289,
   "metadata": {},
   "outputs": [],
   "source": [
    "i_d = []\n",
    "for i in range(len(Final_data)):\n",
    "    if Final_data['Close'][i]-Final_data['Open'][i] > 0:\n",
    "        i_d.append(1)\n",
    "    else:\n",
    "        i_d.append(0)"
   ]
  },
  {
   "cell_type": "code",
   "execution_count": 290,
   "metadata": {},
   "outputs": [],
   "source": [
    "Final_data['Stock_op'] = i_d"
   ]
  },
  {
   "cell_type": "markdown",
   "metadata": {},
   "source": [
    "Looking at how each feature is"
   ]
  },
  {
   "cell_type": "code",
   "execution_count": 291,
   "metadata": {},
   "outputs": [
    {
     "data": {
      "text/plain": [
       "id_x                                                            221591\n",
       "ticker                                                            UBER\n",
       "title                Uber Aims At Divesting Indian Food Delivery Un...\n",
       "category                                                       opinion\n",
       "content              Uber Technologies  Inc    NYSE UBER   is set t...\n",
       "release_date                                       2020-01-22 00:00:00\n",
       "provider                                     Zacks Investment Research\n",
       "words                Uber Technologies Inc NYSE UBER set discontinu...\n",
       "Positive Score                                                   0.132\n",
       "Negative Score                                                   0.061\n",
       "Neutral Score                                                    0.808\n",
       "Compound                                                        0.9723\n",
       "PNN Score                                                            1\n",
       "Open                                                             37.94\n",
       "High                                                             37.94\n",
       "Low                                                              36.92\n",
       "Close                                                            37.04\n",
       "Adj Close                                                        37.04\n",
       "Volume                                                     2.97652e+07\n",
       "id_y                                                              UBER\n",
       "Release_date                                       2020-01-22 00:00:00\n",
       "Percentage_change                                              2.37216\n",
       "Stock_op                                                             0\n",
       "Name: 0, dtype: object"
      ]
     },
     "execution_count": 291,
     "metadata": {},
     "output_type": "execute_result"
    }
   ],
   "source": [
    "Final_data.iloc[0]"
   ]
  },
  {
   "cell_type": "markdown",
   "metadata": {},
   "source": [
    "Downloaded the final file which will be used in the next part"
   ]
  },
  {
   "cell_type": "code",
   "execution_count": 295,
   "metadata": {},
   "outputs": [],
   "source": [
    "Final_data.to_csv('df_modelling.csv')"
   ]
  },
  {
   "cell_type": "markdown",
   "metadata": {},
   "source": [
    "#Taking only the top 300 stocks because others are too small. Very few data to train with"
   ]
  },
  {
   "cell_type": "code",
   "execution_count": 296,
   "metadata": {},
   "outputs": [],
   "source": [
    "tick_list = Final_data['ticker'].value_counts().head(300).index"
   ]
  },
  {
   "cell_type": "code",
   "execution_count": 297,
   "metadata": {},
   "outputs": [
    {
     "data": {
      "text/plain": [
       "Index(['AAPL', 'MSFT', 'BAC', 'AMZN', 'BA', 'GOOGL', 'GS', 'TSLA', 'NFLX',\n",
       "       'TGT', 'INTC', 'DIS', 'XOM', 'JPM', 'MS', 'C', 'GM', 'GE', 'MU', 'TM',\n",
       "       'WFC', 'KO', 'IBM', 'WMB', 'WMT', 'BLK', 'CME', 'CVX', 'UBER', 'AA',\n",
       "       'CMG', 'VZ', 'LMT', 'SO', 'CAT', 'EFX', 'SBUX', 'JNJ', 'NKE', 'SLB',\n",
       "       'BKR', 'T', 'NWSA', 'AMGN', 'PGR', 'HD', 'FCX', 'ICE', 'DAL', 'FDX',\n",
       "       'PFE', 'MRK', 'PG', 'ADP', 'CAJ', 'BHC', 'JWN', 'BX', 'HUM', 'NLOK',\n",
       "       'MCD', 'AVGO', 'FMC', 'LLY', 'COST', 'UAL', 'CMCSA', 'COP', 'STZ',\n",
       "       'BBY', 'NVDA', 'ASML', 'NOC', 'MMM', 'DD', 'DUK', 'AXP', 'HMC', 'BIIB',\n",
       "       'BIDU', 'SPGI', 'GILD', 'ORCL', 'DXPE', 'ADBE', 'MA', 'KBH', 'VALE',\n",
       "       'CSCO', 'PM', 'AZO', 'URBN', 'ANF', 'PBR'],\n",
       "      dtype='object')"
      ]
     },
     "execution_count": 297,
     "metadata": {},
     "output_type": "execute_result"
    }
   ],
   "source": [
    "tick_list"
   ]
  },
  {
   "cell_type": "markdown",
   "metadata": {},
   "source": [
    "Data display and basic cleaning"
   ]
  },
  {
   "cell_type": "code",
   "execution_count": 294,
   "metadata": {},
   "outputs": [
    {
     "data": {
      "text/html": [
       "<div>\n",
       "<style scoped>\n",
       "    .dataframe tbody tr th:only-of-type {\n",
       "        vertical-align: middle;\n",
       "    }\n",
       "\n",
       "    .dataframe tbody tr th {\n",
       "        vertical-align: top;\n",
       "    }\n",
       "\n",
       "    .dataframe thead th {\n",
       "        text-align: right;\n",
       "    }\n",
       "</style>\n",
       "<table border=\"1\" class=\"dataframe\">\n",
       "  <thead>\n",
       "    <tr style=\"text-align: right;\">\n",
       "      <th></th>\n",
       "      <th>id_x</th>\n",
       "      <th>ticker</th>\n",
       "      <th>title</th>\n",
       "      <th>category</th>\n",
       "      <th>content</th>\n",
       "      <th>release_date</th>\n",
       "      <th>provider</th>\n",
       "      <th>words</th>\n",
       "      <th>Positive Score</th>\n",
       "      <th>Negative Score</th>\n",
       "      <th>...</th>\n",
       "      <th>Open</th>\n",
       "      <th>High</th>\n",
       "      <th>Low</th>\n",
       "      <th>Close</th>\n",
       "      <th>Adj Close</th>\n",
       "      <th>Volume</th>\n",
       "      <th>id_y</th>\n",
       "      <th>Release_date</th>\n",
       "      <th>Percentage_change</th>\n",
       "      <th>Stock_op</th>\n",
       "    </tr>\n",
       "  </thead>\n",
       "  <tbody>\n",
       "    <tr>\n",
       "      <th>0</th>\n",
       "      <td>221591</td>\n",
       "      <td>UBER</td>\n",
       "      <td>Uber Aims At Divesting Indian Food Delivery Un...</td>\n",
       "      <td>opinion</td>\n",
       "      <td>Uber Technologies  Inc    NYSE UBER   is set t...</td>\n",
       "      <td>2020-01-22</td>\n",
       "      <td>Zacks Investment Research</td>\n",
       "      <td>Uber Technologies Inc NYSE UBER set discontinu...</td>\n",
       "      <td>0.132</td>\n",
       "      <td>0.061</td>\n",
       "      <td>...</td>\n",
       "      <td>37.939999</td>\n",
       "      <td>37.939999</td>\n",
       "      <td>36.919998</td>\n",
       "      <td>37.040001</td>\n",
       "      <td>37.040001</td>\n",
       "      <td>29765200.0</td>\n",
       "      <td>UBER</td>\n",
       "      <td>2020-01-22</td>\n",
       "      <td>2.372161</td>\n",
       "      <td>0</td>\n",
       "    </tr>\n",
       "    <tr>\n",
       "      <th>1</th>\n",
       "      <td>221600</td>\n",
       "      <td>UBER</td>\n",
       "      <td>Trump In Davos  Global Economic Outlook  Netfl...</td>\n",
       "      <td>opinion</td>\n",
       "      <td>On today s episode of Free Lunch here at Zacks...</td>\n",
       "      <td>2020-01-22</td>\n",
       "      <td>Zacks Investment Research</td>\n",
       "      <td>On today episode Free Lunch Zacks Associate St...</td>\n",
       "      <td>0.141</td>\n",
       "      <td>0.050</td>\n",
       "      <td>...</td>\n",
       "      <td>37.939999</td>\n",
       "      <td>37.939999</td>\n",
       "      <td>36.919998</td>\n",
       "      <td>37.040001</td>\n",
       "      <td>37.040001</td>\n",
       "      <td>29765200.0</td>\n",
       "      <td>UBER</td>\n",
       "      <td>2020-01-22</td>\n",
       "      <td>2.372161</td>\n",
       "      <td>0</td>\n",
       "    </tr>\n",
       "    <tr>\n",
       "      <th>2</th>\n",
       "      <td>221601</td>\n",
       "      <td>UBER</td>\n",
       "      <td>Uber Hitches a Rise Higher as Eats Sale in Ind...</td>\n",
       "      <td>news</td>\n",
       "      <td>By Yasin Ebrahim \\nInvesting com   Uber  NYSE ...</td>\n",
       "      <td>2020-01-22</td>\n",
       "      <td>Investing.com</td>\n",
       "      <td>By Yasin Ebrahim Investing com Uber NYSE UBER ...</td>\n",
       "      <td>0.165</td>\n",
       "      <td>0.047</td>\n",
       "      <td>...</td>\n",
       "      <td>37.939999</td>\n",
       "      <td>37.939999</td>\n",
       "      <td>36.919998</td>\n",
       "      <td>37.040001</td>\n",
       "      <td>37.040001</td>\n",
       "      <td>29765200.0</td>\n",
       "      <td>UBER</td>\n",
       "      <td>2020-01-22</td>\n",
       "      <td>2.372161</td>\n",
       "      <td>0</td>\n",
       "    </tr>\n",
       "    <tr>\n",
       "      <th>3</th>\n",
       "      <td>221602</td>\n",
       "      <td>UBER</td>\n",
       "      <td>Uber is Morgan Stanley s top internet stock pi...</td>\n",
       "      <td>news</td>\n",
       "      <td>Morgan Stanley analyst Brian Nowak named Uber ...</td>\n",
       "      <td>2020-01-22</td>\n",
       "      <td>MarketWatch</td>\n",
       "      <td>Morgan Stanley analyst Brian Nowak named Uber ...</td>\n",
       "      <td>0.202</td>\n",
       "      <td>0.000</td>\n",
       "      <td>...</td>\n",
       "      <td>37.939999</td>\n",
       "      <td>37.939999</td>\n",
       "      <td>36.919998</td>\n",
       "      <td>37.040001</td>\n",
       "      <td>37.040001</td>\n",
       "      <td>29765200.0</td>\n",
       "      <td>UBER</td>\n",
       "      <td>2020-01-22</td>\n",
       "      <td>2.372161</td>\n",
       "      <td>0</td>\n",
       "    </tr>\n",
       "    <tr>\n",
       "      <th>4</th>\n",
       "      <td>221603</td>\n",
       "      <td>UBER</td>\n",
       "      <td>Uber tests feature allowing some California dr...</td>\n",
       "      <td>news</td>\n",
       "      <td>Reuters     Uber Technologies Inc   N UBER  o...</td>\n",
       "      <td>2020-01-22</td>\n",
       "      <td>Reuters</td>\n",
       "      <td>Reuters Uber Technologies Inc N UBER Tuesday s...</td>\n",
       "      <td>0.060</td>\n",
       "      <td>0.020</td>\n",
       "      <td>...</td>\n",
       "      <td>37.939999</td>\n",
       "      <td>37.939999</td>\n",
       "      <td>36.919998</td>\n",
       "      <td>37.040001</td>\n",
       "      <td>37.040001</td>\n",
       "      <td>29765200.0</td>\n",
       "      <td>UBER</td>\n",
       "      <td>2020-01-22</td>\n",
       "      <td>2.372161</td>\n",
       "      <td>0</td>\n",
       "    </tr>\n",
       "    <tr>\n",
       "      <th>...</th>\n",
       "      <td>...</td>\n",
       "      <td>...</td>\n",
       "      <td>...</td>\n",
       "      <td>...</td>\n",
       "      <td>...</td>\n",
       "      <td>...</td>\n",
       "      <td>...</td>\n",
       "      <td>...</td>\n",
       "      <td>...</td>\n",
       "      <td>...</td>\n",
       "      <td>...</td>\n",
       "      <td>...</td>\n",
       "      <td>...</td>\n",
       "      <td>...</td>\n",
       "      <td>...</td>\n",
       "      <td>...</td>\n",
       "      <td>...</td>\n",
       "      <td>...</td>\n",
       "      <td>...</td>\n",
       "      <td>...</td>\n",
       "      <td>...</td>\n",
       "    </tr>\n",
       "    <tr>\n",
       "      <th>126333</th>\n",
       "      <td>443022</td>\n",
       "      <td>T</td>\n",
       "      <td>A Critical Metals Mixed Bag  Chris Ecclestone</td>\n",
       "      <td>opinion</td>\n",
       "      <td>A flood of companies scrambled to capitalize o...</td>\n",
       "      <td>2012-10-31</td>\n",
       "      <td>The Gold Report</td>\n",
       "      <td>A flood companies scrambled capitalize rare ea...</td>\n",
       "      <td>0.142</td>\n",
       "      <td>0.052</td>\n",
       "      <td>...</td>\n",
       "      <td>26.246223</td>\n",
       "      <td>26.344412</td>\n",
       "      <td>26.004532</td>\n",
       "      <td>26.125378</td>\n",
       "      <td>12.538348</td>\n",
       "      <td>27263014.0</td>\n",
       "      <td>T</td>\n",
       "      <td>2012-10-31</td>\n",
       "      <td>0.460431</td>\n",
       "      <td>0</td>\n",
       "    </tr>\n",
       "    <tr>\n",
       "      <th>126334</th>\n",
       "      <td>443023</td>\n",
       "      <td>T</td>\n",
       "      <td>Weighing The Week Ahead  Time For A Confidence...</td>\n",
       "      <td>opinion</td>\n",
       "      <td>Everyone agrees that the economic recovery has...</td>\n",
       "      <td>2012-09-24</td>\n",
       "      <td>Jeff Miller</td>\n",
       "      <td>Everyone agrees economic recovery disappointin...</td>\n",
       "      <td>0.190</td>\n",
       "      <td>0.108</td>\n",
       "      <td>...</td>\n",
       "      <td>28.927492</td>\n",
       "      <td>29.070997</td>\n",
       "      <td>28.867069</td>\n",
       "      <td>28.889729</td>\n",
       "      <td>13.654369</td>\n",
       "      <td>26647089.0</td>\n",
       "      <td>T</td>\n",
       "      <td>2012-09-24</td>\n",
       "      <td>0.130546</td>\n",
       "      <td>0</td>\n",
       "    </tr>\n",
       "    <tr>\n",
       "      <th>126335</th>\n",
       "      <td>443024</td>\n",
       "      <td>T</td>\n",
       "      <td>Crude And Steel Still In Sync</td>\n",
       "      <td>opinion</td>\n",
       "      <td>We have been reporting on the trade off betwee...</td>\n",
       "      <td>2012-10-04</td>\n",
       "      <td>Ivan Kitov</td>\n",
       "      <td>We reporting trade producer price index crude ...</td>\n",
       "      <td>0.037</td>\n",
       "      <td>0.152</td>\n",
       "      <td>...</td>\n",
       "      <td>28.950151</td>\n",
       "      <td>29.025681</td>\n",
       "      <td>28.867069</td>\n",
       "      <td>28.957705</td>\n",
       "      <td>13.686497</td>\n",
       "      <td>26907255.0</td>\n",
       "      <td>T</td>\n",
       "      <td>2012-10-04</td>\n",
       "      <td>-0.026090</td>\n",
       "      <td>1</td>\n",
       "    </tr>\n",
       "    <tr>\n",
       "      <th>126336</th>\n",
       "      <td>443025</td>\n",
       "      <td>T</td>\n",
       "      <td>Forget AT T  This Is The Telecom Stock You Sho...</td>\n",
       "      <td>opinion</td>\n",
       "      <td>It s the largest cell phone provider in the wo...</td>\n",
       "      <td>2012-05-30</td>\n",
       "      <td>StreetAuthority</td>\n",
       "      <td>It largest cell phone provider world It custom...</td>\n",
       "      <td>0.182</td>\n",
       "      <td>0.080</td>\n",
       "      <td>...</td>\n",
       "      <td>25.468279</td>\n",
       "      <td>25.762840</td>\n",
       "      <td>25.453173</td>\n",
       "      <td>25.558912</td>\n",
       "      <td>11.883363</td>\n",
       "      <td>39932899.0</td>\n",
       "      <td>T</td>\n",
       "      <td>2012-05-30</td>\n",
       "      <td>-0.355868</td>\n",
       "      <td>1</td>\n",
       "    </tr>\n",
       "    <tr>\n",
       "      <th>126337</th>\n",
       "      <td>443026</td>\n",
       "      <td>T</td>\n",
       "      <td>Wall Street Exposed   Part 3   How Dividends C...</td>\n",
       "      <td>opinion</td>\n",
       "      <td>Before we dicuss how the mechanism of dividend...</td>\n",
       "      <td>2012-07-16</td>\n",
       "      <td>Portfolio Cafe</td>\n",
       "      <td>Before dicuss mechanism dividends keeps stock ...</td>\n",
       "      <td>0.261</td>\n",
       "      <td>0.077</td>\n",
       "      <td>...</td>\n",
       "      <td>26.601208</td>\n",
       "      <td>26.858006</td>\n",
       "      <td>26.578550</td>\n",
       "      <td>26.752266</td>\n",
       "      <td>12.644124</td>\n",
       "      <td>23423281.0</td>\n",
       "      <td>T</td>\n",
       "      <td>2012-07-16</td>\n",
       "      <td>-0.567862</td>\n",
       "      <td>1</td>\n",
       "    </tr>\n",
       "  </tbody>\n",
       "</table>\n",
       "<p>126338 rows × 23 columns</p>\n",
       "</div>"
      ],
      "text/plain": [
       "          id_x ticker                                              title  \\\n",
       "0       221591   UBER  Uber Aims At Divesting Indian Food Delivery Un...   \n",
       "1       221600   UBER  Trump In Davos  Global Economic Outlook  Netfl...   \n",
       "2       221601   UBER  Uber Hitches a Rise Higher as Eats Sale in Ind...   \n",
       "3       221602   UBER  Uber is Morgan Stanley s top internet stock pi...   \n",
       "4       221603   UBER  Uber tests feature allowing some California dr...   \n",
       "...        ...    ...                                                ...   \n",
       "126333  443022      T      A Critical Metals Mixed Bag  Chris Ecclestone   \n",
       "126334  443023      T  Weighing The Week Ahead  Time For A Confidence...   \n",
       "126335  443024      T                     Crude And Steel Still In Sync    \n",
       "126336  443025      T  Forget AT T  This Is The Telecom Stock You Sho...   \n",
       "126337  443026      T  Wall Street Exposed   Part 3   How Dividends C...   \n",
       "\n",
       "       category                                            content  \\\n",
       "0       opinion  Uber Technologies  Inc    NYSE UBER   is set t...   \n",
       "1       opinion  On today s episode of Free Lunch here at Zacks...   \n",
       "2          news  By Yasin Ebrahim \\nInvesting com   Uber  NYSE ...   \n",
       "3          news  Morgan Stanley analyst Brian Nowak named Uber ...   \n",
       "4          news   Reuters     Uber Technologies Inc   N UBER  o...   \n",
       "...         ...                                                ...   \n",
       "126333  opinion  A flood of companies scrambled to capitalize o...   \n",
       "126334  opinion  Everyone agrees that the economic recovery has...   \n",
       "126335  opinion  We have been reporting on the trade off betwee...   \n",
       "126336  opinion  It s the largest cell phone provider in the wo...   \n",
       "126337  opinion  Before we dicuss how the mechanism of dividend...   \n",
       "\n",
       "       release_date                   provider  \\\n",
       "0        2020-01-22  Zacks Investment Research   \n",
       "1        2020-01-22  Zacks Investment Research   \n",
       "2        2020-01-22              Investing.com   \n",
       "3        2020-01-22                MarketWatch   \n",
       "4        2020-01-22                    Reuters   \n",
       "...             ...                        ...   \n",
       "126333   2012-10-31            The Gold Report   \n",
       "126334   2012-09-24                Jeff Miller   \n",
       "126335   2012-10-04                 Ivan Kitov   \n",
       "126336   2012-05-30            StreetAuthority   \n",
       "126337   2012-07-16             Portfolio Cafe   \n",
       "\n",
       "                                                    words  Positive Score  \\\n",
       "0       Uber Technologies Inc NYSE UBER set discontinu...           0.132   \n",
       "1       On today episode Free Lunch Zacks Associate St...           0.141   \n",
       "2       By Yasin Ebrahim Investing com Uber NYSE UBER ...           0.165   \n",
       "3       Morgan Stanley analyst Brian Nowak named Uber ...           0.202   \n",
       "4       Reuters Uber Technologies Inc N UBER Tuesday s...           0.060   \n",
       "...                                                   ...             ...   \n",
       "126333  A flood companies scrambled capitalize rare ea...           0.142   \n",
       "126334  Everyone agrees economic recovery disappointin...           0.190   \n",
       "126335  We reporting trade producer price index crude ...           0.037   \n",
       "126336  It largest cell phone provider world It custom...           0.182   \n",
       "126337  Before dicuss mechanism dividends keeps stock ...           0.261   \n",
       "\n",
       "        Negative Score  ...       Open       High        Low      Close  \\\n",
       "0                0.061  ...  37.939999  37.939999  36.919998  37.040001   \n",
       "1                0.050  ...  37.939999  37.939999  36.919998  37.040001   \n",
       "2                0.047  ...  37.939999  37.939999  36.919998  37.040001   \n",
       "3                0.000  ...  37.939999  37.939999  36.919998  37.040001   \n",
       "4                0.020  ...  37.939999  37.939999  36.919998  37.040001   \n",
       "...                ...  ...        ...        ...        ...        ...   \n",
       "126333           0.052  ...  26.246223  26.344412  26.004532  26.125378   \n",
       "126334           0.108  ...  28.927492  29.070997  28.867069  28.889729   \n",
       "126335           0.152  ...  28.950151  29.025681  28.867069  28.957705   \n",
       "126336           0.080  ...  25.468279  25.762840  25.453173  25.558912   \n",
       "126337           0.077  ...  26.601208  26.858006  26.578550  26.752266   \n",
       "\n",
       "        Adj Close      Volume  id_y  Release_date  Percentage_change Stock_op  \n",
       "0       37.040001  29765200.0  UBER    2020-01-22           2.372161        0  \n",
       "1       37.040001  29765200.0  UBER    2020-01-22           2.372161        0  \n",
       "2       37.040001  29765200.0  UBER    2020-01-22           2.372161        0  \n",
       "3       37.040001  29765200.0  UBER    2020-01-22           2.372161        0  \n",
       "4       37.040001  29765200.0  UBER    2020-01-22           2.372161        0  \n",
       "...           ...         ...   ...           ...                ...      ...  \n",
       "126333  12.538348  27263014.0     T    2012-10-31           0.460431        0  \n",
       "126334  13.654369  26647089.0     T    2012-09-24           0.130546        0  \n",
       "126335  13.686497  26907255.0     T    2012-10-04          -0.026090        1  \n",
       "126336  11.883363  39932899.0     T    2012-05-30          -0.355868        1  \n",
       "126337  12.644124  23423281.0     T    2012-07-16          -0.567862        1  \n",
       "\n",
       "[126338 rows x 23 columns]"
      ]
     },
     "execution_count": 294,
     "metadata": {},
     "output_type": "execute_result"
    }
   ],
   "source": [
    "Final_data"
   ]
  },
  {
   "cell_type": "code",
   "execution_count": 306,
   "metadata": {},
   "outputs": [],
   "source": [
    "bar_df = pd.DataFrame()\n",
    "bar_df['Data Points'] = Final_data['ticker'].value_counts().values\n",
    "bar_df['Stock Symbol'] = Final_data['ticker'].value_counts().index"
   ]
  },
  {
   "cell_type": "code",
   "execution_count": 307,
   "metadata": {},
   "outputs": [
    {
     "data": {
      "text/html": [
       "<div>\n",
       "<style scoped>\n",
       "    .dataframe tbody tr th:only-of-type {\n",
       "        vertical-align: middle;\n",
       "    }\n",
       "\n",
       "    .dataframe tbody tr th {\n",
       "        vertical-align: top;\n",
       "    }\n",
       "\n",
       "    .dataframe thead th {\n",
       "        text-align: right;\n",
       "    }\n",
       "</style>\n",
       "<table border=\"1\" class=\"dataframe\">\n",
       "  <thead>\n",
       "    <tr style=\"text-align: right;\">\n",
       "      <th></th>\n",
       "      <th>Data Points</th>\n",
       "      <th>Stock Symbol</th>\n",
       "    </tr>\n",
       "  </thead>\n",
       "  <tbody>\n",
       "    <tr>\n",
       "      <th>0</th>\n",
       "      <td>17648</td>\n",
       "      <td>AAPL</td>\n",
       "    </tr>\n",
       "    <tr>\n",
       "      <th>1</th>\n",
       "      <td>7255</td>\n",
       "      <td>MSFT</td>\n",
       "    </tr>\n",
       "    <tr>\n",
       "      <th>2</th>\n",
       "      <td>6815</td>\n",
       "      <td>BAC</td>\n",
       "    </tr>\n",
       "    <tr>\n",
       "      <th>3</th>\n",
       "      <td>5623</td>\n",
       "      <td>AMZN</td>\n",
       "    </tr>\n",
       "    <tr>\n",
       "      <th>4</th>\n",
       "      <td>5278</td>\n",
       "      <td>BA</td>\n",
       "    </tr>\n",
       "    <tr>\n",
       "      <th>...</th>\n",
       "      <td>...</td>\n",
       "      <td>...</td>\n",
       "    </tr>\n",
       "    <tr>\n",
       "      <th>89</th>\n",
       "      <td>341</td>\n",
       "      <td>PM</td>\n",
       "    </tr>\n",
       "    <tr>\n",
       "      <th>90</th>\n",
       "      <td>330</td>\n",
       "      <td>AZO</td>\n",
       "    </tr>\n",
       "    <tr>\n",
       "      <th>91</th>\n",
       "      <td>326</td>\n",
       "      <td>URBN</td>\n",
       "    </tr>\n",
       "    <tr>\n",
       "      <th>92</th>\n",
       "      <td>319</td>\n",
       "      <td>ANF</td>\n",
       "    </tr>\n",
       "    <tr>\n",
       "      <th>93</th>\n",
       "      <td>314</td>\n",
       "      <td>PBR</td>\n",
       "    </tr>\n",
       "  </tbody>\n",
       "</table>\n",
       "<p>94 rows × 2 columns</p>\n",
       "</div>"
      ],
      "text/plain": [
       "    Data Points Stock Symbol\n",
       "0         17648         AAPL\n",
       "1          7255         MSFT\n",
       "2          6815          BAC\n",
       "3          5623         AMZN\n",
       "4          5278           BA\n",
       "..          ...          ...\n",
       "89          341           PM\n",
       "90          330          AZO\n",
       "91          326         URBN\n",
       "92          319          ANF\n",
       "93          314          PBR\n",
       "\n",
       "[94 rows x 2 columns]"
      ]
     },
     "execution_count": 307,
     "metadata": {},
     "output_type": "execute_result"
    }
   ],
   "source": [
    "bar_df"
   ]
  },
  {
   "cell_type": "code",
   "execution_count": 308,
   "metadata": {},
   "outputs": [
    {
     "data": {
      "application/vnd.plotly.v1+json": {
       "config": {
        "plotlyServerURL": "https://plot.ly"
       },
       "data": [
        {
         "alignmentgroup": "True",
         "hovertemplate": "Stock Symbol=%{x}<br>Data Points=%{y}<extra></extra>",
         "legendgroup": "",
         "marker": {
          "color": "#636efa",
          "pattern": {
           "shape": ""
          }
         },
         "name": "",
         "offsetgroup": "",
         "orientation": "v",
         "showlegend": false,
         "textposition": "auto",
         "type": "bar",
         "x": [
          "AAPL",
          "MSFT",
          "BAC",
          "AMZN",
          "BA",
          "GOOGL",
          "GS",
          "TSLA",
          "NFLX",
          "TGT",
          "INTC",
          "DIS",
          "XOM",
          "JPM",
          "MS",
          "C",
          "GM",
          "GE",
          "MU",
          "TM",
          "WFC",
          "KO",
          "IBM",
          "WMB",
          "WMT",
          "BLK",
          "CME",
          "CVX",
          "UBER",
          "AA",
          "CMG",
          "VZ",
          "LMT",
          "SO",
          "CAT",
          "EFX",
          "SBUX",
          "JNJ",
          "NKE",
          "SLB",
          "BKR",
          "T",
          "NWSA",
          "AMGN",
          "PGR",
          "HD",
          "FCX",
          "ICE",
          "DAL",
          "FDX",
          "PFE",
          "MRK",
          "PG",
          "ADP",
          "CAJ",
          "BHC",
          "JWN",
          "BX",
          "HUM",
          "NLOK",
          "MCD",
          "AVGO",
          "FMC",
          "LLY",
          "COST",
          "UAL",
          "CMCSA",
          "COP",
          "STZ",
          "BBY",
          "NVDA",
          "ASML",
          "NOC",
          "MMM",
          "DD",
          "DUK",
          "AXP",
          "HMC",
          "BIIB",
          "BIDU",
          "SPGI",
          "GILD",
          "ORCL",
          "DXPE",
          "ADBE",
          "MA",
          "KBH",
          "VALE",
          "CSCO",
          "PM",
          "AZO",
          "URBN",
          "ANF",
          "PBR"
         ],
         "xaxis": "x",
         "y": [
          17648,
          7255,
          6815,
          5623,
          5278,
          4721,
          4159,
          3919,
          3413,
          3345,
          2930,
          2604,
          2510,
          2383,
          2316,
          1899,
          1898,
          1807,
          1726,
          1620,
          1262,
          1209,
          1154,
          1137,
          1126,
          1074,
          1069,
          1019,
          1005,
          986,
          940,
          867,
          852,
          827,
          811,
          785,
          751,
          681,
          677,
          674,
          673,
          669,
          635,
          598,
          590,
          563,
          561,
          552,
          534,
          526,
          515,
          514,
          507,
          504,
          504,
          495,
          473,
          457,
          448,
          444,
          435,
          435,
          425,
          425,
          418,
          411,
          407,
          406,
          405,
          403,
          400,
          394,
          389,
          388,
          383,
          383,
          382,
          382,
          370,
          365,
          361,
          360,
          358,
          352,
          352,
          351,
          345,
          345,
          341,
          341,
          330,
          326,
          319,
          314
         ],
         "yaxis": "y"
        }
       ],
       "layout": {
        "barmode": "relative",
        "legend": {
         "tracegroupgap": 0
        },
        "template": {
         "data": {
          "bar": [
           {
            "error_x": {
             "color": "#2a3f5f"
            },
            "error_y": {
             "color": "#2a3f5f"
            },
            "marker": {
             "line": {
              "color": "#E5ECF6",
              "width": 0.5
             },
             "pattern": {
              "fillmode": "overlay",
              "size": 10,
              "solidity": 0.2
             }
            },
            "type": "bar"
           }
          ],
          "barpolar": [
           {
            "marker": {
             "line": {
              "color": "#E5ECF6",
              "width": 0.5
             },
             "pattern": {
              "fillmode": "overlay",
              "size": 10,
              "solidity": 0.2
             }
            },
            "type": "barpolar"
           }
          ],
          "carpet": [
           {
            "aaxis": {
             "endlinecolor": "#2a3f5f",
             "gridcolor": "white",
             "linecolor": "white",
             "minorgridcolor": "white",
             "startlinecolor": "#2a3f5f"
            },
            "baxis": {
             "endlinecolor": "#2a3f5f",
             "gridcolor": "white",
             "linecolor": "white",
             "minorgridcolor": "white",
             "startlinecolor": "#2a3f5f"
            },
            "type": "carpet"
           }
          ],
          "choropleth": [
           {
            "colorbar": {
             "outlinewidth": 0,
             "ticks": ""
            },
            "type": "choropleth"
           }
          ],
          "contour": [
           {
            "colorbar": {
             "outlinewidth": 0,
             "ticks": ""
            },
            "colorscale": [
             [
              0,
              "#0d0887"
             ],
             [
              0.1111111111111111,
              "#46039f"
             ],
             [
              0.2222222222222222,
              "#7201a8"
             ],
             [
              0.3333333333333333,
              "#9c179e"
             ],
             [
              0.4444444444444444,
              "#bd3786"
             ],
             [
              0.5555555555555556,
              "#d8576b"
             ],
             [
              0.6666666666666666,
              "#ed7953"
             ],
             [
              0.7777777777777778,
              "#fb9f3a"
             ],
             [
              0.8888888888888888,
              "#fdca26"
             ],
             [
              1,
              "#f0f921"
             ]
            ],
            "type": "contour"
           }
          ],
          "contourcarpet": [
           {
            "colorbar": {
             "outlinewidth": 0,
             "ticks": ""
            },
            "type": "contourcarpet"
           }
          ],
          "heatmap": [
           {
            "colorbar": {
             "outlinewidth": 0,
             "ticks": ""
            },
            "colorscale": [
             [
              0,
              "#0d0887"
             ],
             [
              0.1111111111111111,
              "#46039f"
             ],
             [
              0.2222222222222222,
              "#7201a8"
             ],
             [
              0.3333333333333333,
              "#9c179e"
             ],
             [
              0.4444444444444444,
              "#bd3786"
             ],
             [
              0.5555555555555556,
              "#d8576b"
             ],
             [
              0.6666666666666666,
              "#ed7953"
             ],
             [
              0.7777777777777778,
              "#fb9f3a"
             ],
             [
              0.8888888888888888,
              "#fdca26"
             ],
             [
              1,
              "#f0f921"
             ]
            ],
            "type": "heatmap"
           }
          ],
          "heatmapgl": [
           {
            "colorbar": {
             "outlinewidth": 0,
             "ticks": ""
            },
            "colorscale": [
             [
              0,
              "#0d0887"
             ],
             [
              0.1111111111111111,
              "#46039f"
             ],
             [
              0.2222222222222222,
              "#7201a8"
             ],
             [
              0.3333333333333333,
              "#9c179e"
             ],
             [
              0.4444444444444444,
              "#bd3786"
             ],
             [
              0.5555555555555556,
              "#d8576b"
             ],
             [
              0.6666666666666666,
              "#ed7953"
             ],
             [
              0.7777777777777778,
              "#fb9f3a"
             ],
             [
              0.8888888888888888,
              "#fdca26"
             ],
             [
              1,
              "#f0f921"
             ]
            ],
            "type": "heatmapgl"
           }
          ],
          "histogram": [
           {
            "marker": {
             "pattern": {
              "fillmode": "overlay",
              "size": 10,
              "solidity": 0.2
             }
            },
            "type": "histogram"
           }
          ],
          "histogram2d": [
           {
            "colorbar": {
             "outlinewidth": 0,
             "ticks": ""
            },
            "colorscale": [
             [
              0,
              "#0d0887"
             ],
             [
              0.1111111111111111,
              "#46039f"
             ],
             [
              0.2222222222222222,
              "#7201a8"
             ],
             [
              0.3333333333333333,
              "#9c179e"
             ],
             [
              0.4444444444444444,
              "#bd3786"
             ],
             [
              0.5555555555555556,
              "#d8576b"
             ],
             [
              0.6666666666666666,
              "#ed7953"
             ],
             [
              0.7777777777777778,
              "#fb9f3a"
             ],
             [
              0.8888888888888888,
              "#fdca26"
             ],
             [
              1,
              "#f0f921"
             ]
            ],
            "type": "histogram2d"
           }
          ],
          "histogram2dcontour": [
           {
            "colorbar": {
             "outlinewidth": 0,
             "ticks": ""
            },
            "colorscale": [
             [
              0,
              "#0d0887"
             ],
             [
              0.1111111111111111,
              "#46039f"
             ],
             [
              0.2222222222222222,
              "#7201a8"
             ],
             [
              0.3333333333333333,
              "#9c179e"
             ],
             [
              0.4444444444444444,
              "#bd3786"
             ],
             [
              0.5555555555555556,
              "#d8576b"
             ],
             [
              0.6666666666666666,
              "#ed7953"
             ],
             [
              0.7777777777777778,
              "#fb9f3a"
             ],
             [
              0.8888888888888888,
              "#fdca26"
             ],
             [
              1,
              "#f0f921"
             ]
            ],
            "type": "histogram2dcontour"
           }
          ],
          "mesh3d": [
           {
            "colorbar": {
             "outlinewidth": 0,
             "ticks": ""
            },
            "type": "mesh3d"
           }
          ],
          "parcoords": [
           {
            "line": {
             "colorbar": {
              "outlinewidth": 0,
              "ticks": ""
             }
            },
            "type": "parcoords"
           }
          ],
          "pie": [
           {
            "automargin": true,
            "type": "pie"
           }
          ],
          "scatter": [
           {
            "fillpattern": {
             "fillmode": "overlay",
             "size": 10,
             "solidity": 0.2
            },
            "type": "scatter"
           }
          ],
          "scatter3d": [
           {
            "line": {
             "colorbar": {
              "outlinewidth": 0,
              "ticks": ""
             }
            },
            "marker": {
             "colorbar": {
              "outlinewidth": 0,
              "ticks": ""
             }
            },
            "type": "scatter3d"
           }
          ],
          "scattercarpet": [
           {
            "marker": {
             "colorbar": {
              "outlinewidth": 0,
              "ticks": ""
             }
            },
            "type": "scattercarpet"
           }
          ],
          "scattergeo": [
           {
            "marker": {
             "colorbar": {
              "outlinewidth": 0,
              "ticks": ""
             }
            },
            "type": "scattergeo"
           }
          ],
          "scattergl": [
           {
            "marker": {
             "colorbar": {
              "outlinewidth": 0,
              "ticks": ""
             }
            },
            "type": "scattergl"
           }
          ],
          "scattermapbox": [
           {
            "marker": {
             "colorbar": {
              "outlinewidth": 0,
              "ticks": ""
             }
            },
            "type": "scattermapbox"
           }
          ],
          "scatterpolar": [
           {
            "marker": {
             "colorbar": {
              "outlinewidth": 0,
              "ticks": ""
             }
            },
            "type": "scatterpolar"
           }
          ],
          "scatterpolargl": [
           {
            "marker": {
             "colorbar": {
              "outlinewidth": 0,
              "ticks": ""
             }
            },
            "type": "scatterpolargl"
           }
          ],
          "scatterternary": [
           {
            "marker": {
             "colorbar": {
              "outlinewidth": 0,
              "ticks": ""
             }
            },
            "type": "scatterternary"
           }
          ],
          "surface": [
           {
            "colorbar": {
             "outlinewidth": 0,
             "ticks": ""
            },
            "colorscale": [
             [
              0,
              "#0d0887"
             ],
             [
              0.1111111111111111,
              "#46039f"
             ],
             [
              0.2222222222222222,
              "#7201a8"
             ],
             [
              0.3333333333333333,
              "#9c179e"
             ],
             [
              0.4444444444444444,
              "#bd3786"
             ],
             [
              0.5555555555555556,
              "#d8576b"
             ],
             [
              0.6666666666666666,
              "#ed7953"
             ],
             [
              0.7777777777777778,
              "#fb9f3a"
             ],
             [
              0.8888888888888888,
              "#fdca26"
             ],
             [
              1,
              "#f0f921"
             ]
            ],
            "type": "surface"
           }
          ],
          "table": [
           {
            "cells": {
             "fill": {
              "color": "#EBF0F8"
             },
             "line": {
              "color": "white"
             }
            },
            "header": {
             "fill": {
              "color": "#C8D4E3"
             },
             "line": {
              "color": "white"
             }
            },
            "type": "table"
           }
          ]
         },
         "layout": {
          "annotationdefaults": {
           "arrowcolor": "#2a3f5f",
           "arrowhead": 0,
           "arrowwidth": 1
          },
          "autotypenumbers": "strict",
          "coloraxis": {
           "colorbar": {
            "outlinewidth": 0,
            "ticks": ""
           }
          },
          "colorscale": {
           "diverging": [
            [
             0,
             "#8e0152"
            ],
            [
             0.1,
             "#c51b7d"
            ],
            [
             0.2,
             "#de77ae"
            ],
            [
             0.3,
             "#f1b6da"
            ],
            [
             0.4,
             "#fde0ef"
            ],
            [
             0.5,
             "#f7f7f7"
            ],
            [
             0.6,
             "#e6f5d0"
            ],
            [
             0.7,
             "#b8e186"
            ],
            [
             0.8,
             "#7fbc41"
            ],
            [
             0.9,
             "#4d9221"
            ],
            [
             1,
             "#276419"
            ]
           ],
           "sequential": [
            [
             0,
             "#0d0887"
            ],
            [
             0.1111111111111111,
             "#46039f"
            ],
            [
             0.2222222222222222,
             "#7201a8"
            ],
            [
             0.3333333333333333,
             "#9c179e"
            ],
            [
             0.4444444444444444,
             "#bd3786"
            ],
            [
             0.5555555555555556,
             "#d8576b"
            ],
            [
             0.6666666666666666,
             "#ed7953"
            ],
            [
             0.7777777777777778,
             "#fb9f3a"
            ],
            [
             0.8888888888888888,
             "#fdca26"
            ],
            [
             1,
             "#f0f921"
            ]
           ],
           "sequentialminus": [
            [
             0,
             "#0d0887"
            ],
            [
             0.1111111111111111,
             "#46039f"
            ],
            [
             0.2222222222222222,
             "#7201a8"
            ],
            [
             0.3333333333333333,
             "#9c179e"
            ],
            [
             0.4444444444444444,
             "#bd3786"
            ],
            [
             0.5555555555555556,
             "#d8576b"
            ],
            [
             0.6666666666666666,
             "#ed7953"
            ],
            [
             0.7777777777777778,
             "#fb9f3a"
            ],
            [
             0.8888888888888888,
             "#fdca26"
            ],
            [
             1,
             "#f0f921"
            ]
           ]
          },
          "colorway": [
           "#636efa",
           "#EF553B",
           "#00cc96",
           "#ab63fa",
           "#FFA15A",
           "#19d3f3",
           "#FF6692",
           "#B6E880",
           "#FF97FF",
           "#FECB52"
          ],
          "font": {
           "color": "#2a3f5f"
          },
          "geo": {
           "bgcolor": "white",
           "lakecolor": "white",
           "landcolor": "#E5ECF6",
           "showlakes": true,
           "showland": true,
           "subunitcolor": "white"
          },
          "hoverlabel": {
           "align": "left"
          },
          "hovermode": "closest",
          "mapbox": {
           "style": "light"
          },
          "paper_bgcolor": "white",
          "plot_bgcolor": "#E5ECF6",
          "polar": {
           "angularaxis": {
            "gridcolor": "white",
            "linecolor": "white",
            "ticks": ""
           },
           "bgcolor": "#E5ECF6",
           "radialaxis": {
            "gridcolor": "white",
            "linecolor": "white",
            "ticks": ""
           }
          },
          "scene": {
           "xaxis": {
            "backgroundcolor": "#E5ECF6",
            "gridcolor": "white",
            "gridwidth": 2,
            "linecolor": "white",
            "showbackground": true,
            "ticks": "",
            "zerolinecolor": "white"
           },
           "yaxis": {
            "backgroundcolor": "#E5ECF6",
            "gridcolor": "white",
            "gridwidth": 2,
            "linecolor": "white",
            "showbackground": true,
            "ticks": "",
            "zerolinecolor": "white"
           },
           "zaxis": {
            "backgroundcolor": "#E5ECF6",
            "gridcolor": "white",
            "gridwidth": 2,
            "linecolor": "white",
            "showbackground": true,
            "ticks": "",
            "zerolinecolor": "white"
           }
          },
          "shapedefaults": {
           "line": {
            "color": "#2a3f5f"
           }
          },
          "ternary": {
           "aaxis": {
            "gridcolor": "white",
            "linecolor": "white",
            "ticks": ""
           },
           "baxis": {
            "gridcolor": "white",
            "linecolor": "white",
            "ticks": ""
           },
           "bgcolor": "#E5ECF6",
           "caxis": {
            "gridcolor": "white",
            "linecolor": "white",
            "ticks": ""
           }
          },
          "title": {
           "x": 0.05
          },
          "xaxis": {
           "automargin": true,
           "gridcolor": "white",
           "linecolor": "white",
           "ticks": "",
           "title": {
            "standoff": 15
           },
           "zerolinecolor": "white",
           "zerolinewidth": 2
          },
          "yaxis": {
           "automargin": true,
           "gridcolor": "white",
           "linecolor": "white",
           "ticks": "",
           "title": {
            "standoff": 15
           },
           "zerolinecolor": "white",
           "zerolinewidth": 2
          }
         }
        },
        "title": {
         "text": "Data Points for each stock"
        },
        "xaxis": {
         "anchor": "y",
         "domain": [
          0,
          1
         ],
         "title": {
          "text": "Stock Symbol"
         }
        },
        "yaxis": {
         "anchor": "x",
         "domain": [
          0,
          1
         ],
         "title": {
          "text": "Data Points"
         }
        }
       }
      },
      "text/html": [
       "<div>                            <div id=\"bc8b9be6-c3d9-4e32-ba85-183ac90065c6\" class=\"plotly-graph-div\" style=\"height:525px; width:100%;\"></div>            <script type=\"text/javascript\">                require([\"plotly\"], function(Plotly) {                    window.PLOTLYENV=window.PLOTLYENV || {};                                    if (document.getElementById(\"bc8b9be6-c3d9-4e32-ba85-183ac90065c6\")) {                    Plotly.newPlot(                        \"bc8b9be6-c3d9-4e32-ba85-183ac90065c6\",                        [{\"alignmentgroup\":\"True\",\"hovertemplate\":\"Stock Symbol=%{x}<br>Data Points=%{y}<extra></extra>\",\"legendgroup\":\"\",\"marker\":{\"color\":\"#636efa\",\"pattern\":{\"shape\":\"\"}},\"name\":\"\",\"offsetgroup\":\"\",\"orientation\":\"v\",\"showlegend\":false,\"textposition\":\"auto\",\"x\":[\"AAPL\",\"MSFT\",\"BAC\",\"AMZN\",\"BA\",\"GOOGL\",\"GS\",\"TSLA\",\"NFLX\",\"TGT\",\"INTC\",\"DIS\",\"XOM\",\"JPM\",\"MS\",\"C\",\"GM\",\"GE\",\"MU\",\"TM\",\"WFC\",\"KO\",\"IBM\",\"WMB\",\"WMT\",\"BLK\",\"CME\",\"CVX\",\"UBER\",\"AA\",\"CMG\",\"VZ\",\"LMT\",\"SO\",\"CAT\",\"EFX\",\"SBUX\",\"JNJ\",\"NKE\",\"SLB\",\"BKR\",\"T\",\"NWSA\",\"AMGN\",\"PGR\",\"HD\",\"FCX\",\"ICE\",\"DAL\",\"FDX\",\"PFE\",\"MRK\",\"PG\",\"ADP\",\"CAJ\",\"BHC\",\"JWN\",\"BX\",\"HUM\",\"NLOK\",\"MCD\",\"AVGO\",\"FMC\",\"LLY\",\"COST\",\"UAL\",\"CMCSA\",\"COP\",\"STZ\",\"BBY\",\"NVDA\",\"ASML\",\"NOC\",\"MMM\",\"DD\",\"DUK\",\"AXP\",\"HMC\",\"BIIB\",\"BIDU\",\"SPGI\",\"GILD\",\"ORCL\",\"DXPE\",\"ADBE\",\"MA\",\"KBH\",\"VALE\",\"CSCO\",\"PM\",\"AZO\",\"URBN\",\"ANF\",\"PBR\"],\"xaxis\":\"x\",\"y\":[17648,7255,6815,5623,5278,4721,4159,3919,3413,3345,2930,2604,2510,2383,2316,1899,1898,1807,1726,1620,1262,1209,1154,1137,1126,1074,1069,1019,1005,986,940,867,852,827,811,785,751,681,677,674,673,669,635,598,590,563,561,552,534,526,515,514,507,504,504,495,473,457,448,444,435,435,425,425,418,411,407,406,405,403,400,394,389,388,383,383,382,382,370,365,361,360,358,352,352,351,345,345,341,341,330,326,319,314],\"yaxis\":\"y\",\"type\":\"bar\"}],                        {\"template\":{\"data\":{\"histogram2dcontour\":[{\"type\":\"histogram2dcontour\",\"colorbar\":{\"outlinewidth\":0,\"ticks\":\"\"},\"colorscale\":[[0.0,\"#0d0887\"],[0.1111111111111111,\"#46039f\"],[0.2222222222222222,\"#7201a8\"],[0.3333333333333333,\"#9c179e\"],[0.4444444444444444,\"#bd3786\"],[0.5555555555555556,\"#d8576b\"],[0.6666666666666666,\"#ed7953\"],[0.7777777777777778,\"#fb9f3a\"],[0.8888888888888888,\"#fdca26\"],[1.0,\"#f0f921\"]]}],\"choropleth\":[{\"type\":\"choropleth\",\"colorbar\":{\"outlinewidth\":0,\"ticks\":\"\"}}],\"histogram2d\":[{\"type\":\"histogram2d\",\"colorbar\":{\"outlinewidth\":0,\"ticks\":\"\"},\"colorscale\":[[0.0,\"#0d0887\"],[0.1111111111111111,\"#46039f\"],[0.2222222222222222,\"#7201a8\"],[0.3333333333333333,\"#9c179e\"],[0.4444444444444444,\"#bd3786\"],[0.5555555555555556,\"#d8576b\"],[0.6666666666666666,\"#ed7953\"],[0.7777777777777778,\"#fb9f3a\"],[0.8888888888888888,\"#fdca26\"],[1.0,\"#f0f921\"]]}],\"heatmap\":[{\"type\":\"heatmap\",\"colorbar\":{\"outlinewidth\":0,\"ticks\":\"\"},\"colorscale\":[[0.0,\"#0d0887\"],[0.1111111111111111,\"#46039f\"],[0.2222222222222222,\"#7201a8\"],[0.3333333333333333,\"#9c179e\"],[0.4444444444444444,\"#bd3786\"],[0.5555555555555556,\"#d8576b\"],[0.6666666666666666,\"#ed7953\"],[0.7777777777777778,\"#fb9f3a\"],[0.8888888888888888,\"#fdca26\"],[1.0,\"#f0f921\"]]}],\"heatmapgl\":[{\"type\":\"heatmapgl\",\"colorbar\":{\"outlinewidth\":0,\"ticks\":\"\"},\"colorscale\":[[0.0,\"#0d0887\"],[0.1111111111111111,\"#46039f\"],[0.2222222222222222,\"#7201a8\"],[0.3333333333333333,\"#9c179e\"],[0.4444444444444444,\"#bd3786\"],[0.5555555555555556,\"#d8576b\"],[0.6666666666666666,\"#ed7953\"],[0.7777777777777778,\"#fb9f3a\"],[0.8888888888888888,\"#fdca26\"],[1.0,\"#f0f921\"]]}],\"contourcarpet\":[{\"type\":\"contourcarpet\",\"colorbar\":{\"outlinewidth\":0,\"ticks\":\"\"}}],\"contour\":[{\"type\":\"contour\",\"colorbar\":{\"outlinewidth\":0,\"ticks\":\"\"},\"colorscale\":[[0.0,\"#0d0887\"],[0.1111111111111111,\"#46039f\"],[0.2222222222222222,\"#7201a8\"],[0.3333333333333333,\"#9c179e\"],[0.4444444444444444,\"#bd3786\"],[0.5555555555555556,\"#d8576b\"],[0.6666666666666666,\"#ed7953\"],[0.7777777777777778,\"#fb9f3a\"],[0.8888888888888888,\"#fdca26\"],[1.0,\"#f0f921\"]]}],\"surface\":[{\"type\":\"surface\",\"colorbar\":{\"outlinewidth\":0,\"ticks\":\"\"},\"colorscale\":[[0.0,\"#0d0887\"],[0.1111111111111111,\"#46039f\"],[0.2222222222222222,\"#7201a8\"],[0.3333333333333333,\"#9c179e\"],[0.4444444444444444,\"#bd3786\"],[0.5555555555555556,\"#d8576b\"],[0.6666666666666666,\"#ed7953\"],[0.7777777777777778,\"#fb9f3a\"],[0.8888888888888888,\"#fdca26\"],[1.0,\"#f0f921\"]]}],\"mesh3d\":[{\"type\":\"mesh3d\",\"colorbar\":{\"outlinewidth\":0,\"ticks\":\"\"}}],\"scatter\":[{\"fillpattern\":{\"fillmode\":\"overlay\",\"size\":10,\"solidity\":0.2},\"type\":\"scatter\"}],\"parcoords\":[{\"type\":\"parcoords\",\"line\":{\"colorbar\":{\"outlinewidth\":0,\"ticks\":\"\"}}}],\"scatterpolargl\":[{\"type\":\"scatterpolargl\",\"marker\":{\"colorbar\":{\"outlinewidth\":0,\"ticks\":\"\"}}}],\"bar\":[{\"error_x\":{\"color\":\"#2a3f5f\"},\"error_y\":{\"color\":\"#2a3f5f\"},\"marker\":{\"line\":{\"color\":\"#E5ECF6\",\"width\":0.5},\"pattern\":{\"fillmode\":\"overlay\",\"size\":10,\"solidity\":0.2}},\"type\":\"bar\"}],\"scattergeo\":[{\"type\":\"scattergeo\",\"marker\":{\"colorbar\":{\"outlinewidth\":0,\"ticks\":\"\"}}}],\"scatterpolar\":[{\"type\":\"scatterpolar\",\"marker\":{\"colorbar\":{\"outlinewidth\":0,\"ticks\":\"\"}}}],\"histogram\":[{\"marker\":{\"pattern\":{\"fillmode\":\"overlay\",\"size\":10,\"solidity\":0.2}},\"type\":\"histogram\"}],\"scattergl\":[{\"type\":\"scattergl\",\"marker\":{\"colorbar\":{\"outlinewidth\":0,\"ticks\":\"\"}}}],\"scatter3d\":[{\"type\":\"scatter3d\",\"line\":{\"colorbar\":{\"outlinewidth\":0,\"ticks\":\"\"}},\"marker\":{\"colorbar\":{\"outlinewidth\":0,\"ticks\":\"\"}}}],\"scattermapbox\":[{\"type\":\"scattermapbox\",\"marker\":{\"colorbar\":{\"outlinewidth\":0,\"ticks\":\"\"}}}],\"scatterternary\":[{\"type\":\"scatterternary\",\"marker\":{\"colorbar\":{\"outlinewidth\":0,\"ticks\":\"\"}}}],\"scattercarpet\":[{\"type\":\"scattercarpet\",\"marker\":{\"colorbar\":{\"outlinewidth\":0,\"ticks\":\"\"}}}],\"carpet\":[{\"aaxis\":{\"endlinecolor\":\"#2a3f5f\",\"gridcolor\":\"white\",\"linecolor\":\"white\",\"minorgridcolor\":\"white\",\"startlinecolor\":\"#2a3f5f\"},\"baxis\":{\"endlinecolor\":\"#2a3f5f\",\"gridcolor\":\"white\",\"linecolor\":\"white\",\"minorgridcolor\":\"white\",\"startlinecolor\":\"#2a3f5f\"},\"type\":\"carpet\"}],\"table\":[{\"cells\":{\"fill\":{\"color\":\"#EBF0F8\"},\"line\":{\"color\":\"white\"}},\"header\":{\"fill\":{\"color\":\"#C8D4E3\"},\"line\":{\"color\":\"white\"}},\"type\":\"table\"}],\"barpolar\":[{\"marker\":{\"line\":{\"color\":\"#E5ECF6\",\"width\":0.5},\"pattern\":{\"fillmode\":\"overlay\",\"size\":10,\"solidity\":0.2}},\"type\":\"barpolar\"}],\"pie\":[{\"automargin\":true,\"type\":\"pie\"}]},\"layout\":{\"autotypenumbers\":\"strict\",\"colorway\":[\"#636efa\",\"#EF553B\",\"#00cc96\",\"#ab63fa\",\"#FFA15A\",\"#19d3f3\",\"#FF6692\",\"#B6E880\",\"#FF97FF\",\"#FECB52\"],\"font\":{\"color\":\"#2a3f5f\"},\"hovermode\":\"closest\",\"hoverlabel\":{\"align\":\"left\"},\"paper_bgcolor\":\"white\",\"plot_bgcolor\":\"#E5ECF6\",\"polar\":{\"bgcolor\":\"#E5ECF6\",\"angularaxis\":{\"gridcolor\":\"white\",\"linecolor\":\"white\",\"ticks\":\"\"},\"radialaxis\":{\"gridcolor\":\"white\",\"linecolor\":\"white\",\"ticks\":\"\"}},\"ternary\":{\"bgcolor\":\"#E5ECF6\",\"aaxis\":{\"gridcolor\":\"white\",\"linecolor\":\"white\",\"ticks\":\"\"},\"baxis\":{\"gridcolor\":\"white\",\"linecolor\":\"white\",\"ticks\":\"\"},\"caxis\":{\"gridcolor\":\"white\",\"linecolor\":\"white\",\"ticks\":\"\"}},\"coloraxis\":{\"colorbar\":{\"outlinewidth\":0,\"ticks\":\"\"}},\"colorscale\":{\"sequential\":[[0.0,\"#0d0887\"],[0.1111111111111111,\"#46039f\"],[0.2222222222222222,\"#7201a8\"],[0.3333333333333333,\"#9c179e\"],[0.4444444444444444,\"#bd3786\"],[0.5555555555555556,\"#d8576b\"],[0.6666666666666666,\"#ed7953\"],[0.7777777777777778,\"#fb9f3a\"],[0.8888888888888888,\"#fdca26\"],[1.0,\"#f0f921\"]],\"sequentialminus\":[[0.0,\"#0d0887\"],[0.1111111111111111,\"#46039f\"],[0.2222222222222222,\"#7201a8\"],[0.3333333333333333,\"#9c179e\"],[0.4444444444444444,\"#bd3786\"],[0.5555555555555556,\"#d8576b\"],[0.6666666666666666,\"#ed7953\"],[0.7777777777777778,\"#fb9f3a\"],[0.8888888888888888,\"#fdca26\"],[1.0,\"#f0f921\"]],\"diverging\":[[0,\"#8e0152\"],[0.1,\"#c51b7d\"],[0.2,\"#de77ae\"],[0.3,\"#f1b6da\"],[0.4,\"#fde0ef\"],[0.5,\"#f7f7f7\"],[0.6,\"#e6f5d0\"],[0.7,\"#b8e186\"],[0.8,\"#7fbc41\"],[0.9,\"#4d9221\"],[1,\"#276419\"]]},\"xaxis\":{\"gridcolor\":\"white\",\"linecolor\":\"white\",\"ticks\":\"\",\"title\":{\"standoff\":15},\"zerolinecolor\":\"white\",\"automargin\":true,\"zerolinewidth\":2},\"yaxis\":{\"gridcolor\":\"white\",\"linecolor\":\"white\",\"ticks\":\"\",\"title\":{\"standoff\":15},\"zerolinecolor\":\"white\",\"automargin\":true,\"zerolinewidth\":2},\"scene\":{\"xaxis\":{\"backgroundcolor\":\"#E5ECF6\",\"gridcolor\":\"white\",\"linecolor\":\"white\",\"showbackground\":true,\"ticks\":\"\",\"zerolinecolor\":\"white\",\"gridwidth\":2},\"yaxis\":{\"backgroundcolor\":\"#E5ECF6\",\"gridcolor\":\"white\",\"linecolor\":\"white\",\"showbackground\":true,\"ticks\":\"\",\"zerolinecolor\":\"white\",\"gridwidth\":2},\"zaxis\":{\"backgroundcolor\":\"#E5ECF6\",\"gridcolor\":\"white\",\"linecolor\":\"white\",\"showbackground\":true,\"ticks\":\"\",\"zerolinecolor\":\"white\",\"gridwidth\":2}},\"shapedefaults\":{\"line\":{\"color\":\"#2a3f5f\"}},\"annotationdefaults\":{\"arrowcolor\":\"#2a3f5f\",\"arrowhead\":0,\"arrowwidth\":1},\"geo\":{\"bgcolor\":\"white\",\"landcolor\":\"#E5ECF6\",\"subunitcolor\":\"white\",\"showland\":true,\"showlakes\":true,\"lakecolor\":\"white\"},\"title\":{\"x\":0.05},\"mapbox\":{\"style\":\"light\"}}},\"xaxis\":{\"anchor\":\"y\",\"domain\":[0.0,1.0],\"title\":{\"text\":\"Stock Symbol\"}},\"yaxis\":{\"anchor\":\"x\",\"domain\":[0.0,1.0],\"title\":{\"text\":\"Data Points\"}},\"legend\":{\"tracegroupgap\":0},\"title\":{\"text\":\"Data Points for each stock\"},\"barmode\":\"relative\"},                        {\"responsive\": true}                    ).then(function(){\n",
       "                            \n",
       "var gd = document.getElementById('bc8b9be6-c3d9-4e32-ba85-183ac90065c6');\n",
       "var x = new MutationObserver(function (mutations, observer) {{\n",
       "        var display = window.getComputedStyle(gd).display;\n",
       "        if (!display || display === 'none') {{\n",
       "            console.log([gd, 'removed!']);\n",
       "            Plotly.purge(gd);\n",
       "            observer.disconnect();\n",
       "        }}\n",
       "}});\n",
       "\n",
       "// Listen for the removal of the full notebook cells\n",
       "var notebookContainer = gd.closest('#notebook-container');\n",
       "if (notebookContainer) {{\n",
       "    x.observe(notebookContainer, {childList: true});\n",
       "}}\n",
       "\n",
       "// Listen for the clearing of the current output cell\n",
       "var outputEl = gd.closest('.output');\n",
       "if (outputEl) {{\n",
       "    x.observe(outputEl, {childList: true});\n",
       "}}\n",
       "\n",
       "                        })                };                });            </script>        </div>"
      ]
     },
     "metadata": {},
     "output_type": "display_data"
    }
   ],
   "source": [
    "fig = px.bar(bar_df, x='Stock Symbol', y='Data Points', title = \"Data Points for each stock\")\n",
    "fig.show()"
   ]
  },
  {
   "cell_type": "code",
   "execution_count": 312,
   "metadata": {},
   "outputs": [],
   "source": [
    "Performance = Final_data[['ticker','Compound','Positive Score','Negative Score','Neutral Score']].groupby(by = 'ticker').mean()\n",
    "Performance['Symbol'] = Performance.index"
   ]
  },
  {
   "cell_type": "code",
   "execution_count": 320,
   "metadata": {},
   "outputs": [
    {
     "data": {
      "text/html": [
       "<div>\n",
       "<style scoped>\n",
       "    .dataframe tbody tr th:only-of-type {\n",
       "        vertical-align: middle;\n",
       "    }\n",
       "\n",
       "    .dataframe tbody tr th {\n",
       "        vertical-align: top;\n",
       "    }\n",
       "\n",
       "    .dataframe thead th {\n",
       "        text-align: right;\n",
       "    }\n",
       "</style>\n",
       "<table border=\"1\" class=\"dataframe\">\n",
       "  <thead>\n",
       "    <tr style=\"text-align: right;\">\n",
       "      <th></th>\n",
       "      <th>Compound</th>\n",
       "      <th>Positive Score</th>\n",
       "      <th>Negative Score</th>\n",
       "      <th>Neutral Score</th>\n",
       "      <th>Symbol</th>\n",
       "    </tr>\n",
       "    <tr>\n",
       "      <th>ticker</th>\n",
       "      <th></th>\n",
       "      <th></th>\n",
       "      <th></th>\n",
       "      <th></th>\n",
       "      <th></th>\n",
       "    </tr>\n",
       "  </thead>\n",
       "  <tbody>\n",
       "    <tr>\n",
       "      <th>BBY</th>\n",
       "      <td>0.866075</td>\n",
       "      <td>0.200722</td>\n",
       "      <td>0.050491</td>\n",
       "      <td>0.748801</td>\n",
       "      <td>BBY</td>\n",
       "    </tr>\n",
       "    <tr>\n",
       "      <th>FMC</th>\n",
       "      <td>0.950399</td>\n",
       "      <td>0.200181</td>\n",
       "      <td>0.036322</td>\n",
       "      <td>0.763456</td>\n",
       "      <td>FMC</td>\n",
       "    </tr>\n",
       "    <tr>\n",
       "      <th>DXPE</th>\n",
       "      <td>0.948268</td>\n",
       "      <td>0.198827</td>\n",
       "      <td>0.041324</td>\n",
       "      <td>0.759838</td>\n",
       "      <td>DXPE</td>\n",
       "    </tr>\n",
       "    <tr>\n",
       "      <th>DUK</th>\n",
       "      <td>0.831309</td>\n",
       "      <td>0.187128</td>\n",
       "      <td>0.051932</td>\n",
       "      <td>0.760943</td>\n",
       "      <td>DUK</td>\n",
       "    </tr>\n",
       "    <tr>\n",
       "      <th>URBN</th>\n",
       "      <td>0.836517</td>\n",
       "      <td>0.182218</td>\n",
       "      <td>0.046589</td>\n",
       "      <td>0.771153</td>\n",
       "      <td>URBN</td>\n",
       "    </tr>\n",
       "    <tr>\n",
       "      <th>...</th>\n",
       "      <td>...</td>\n",
       "      <td>...</td>\n",
       "      <td>...</td>\n",
       "      <td>...</td>\n",
       "      <td>...</td>\n",
       "    </tr>\n",
       "    <tr>\n",
       "      <th>ICE</th>\n",
       "      <td>0.130891</td>\n",
       "      <td>0.121082</td>\n",
       "      <td>0.095482</td>\n",
       "      <td>0.783453</td>\n",
       "      <td>ICE</td>\n",
       "    </tr>\n",
       "    <tr>\n",
       "      <th>GM</th>\n",
       "      <td>0.439671</td>\n",
       "      <td>0.120543</td>\n",
       "      <td>0.072565</td>\n",
       "      <td>0.806887</td>\n",
       "      <td>GM</td>\n",
       "    </tr>\n",
       "    <tr>\n",
       "      <th>NVDA</th>\n",
       "      <td>0.345609</td>\n",
       "      <td>0.120453</td>\n",
       "      <td>0.062905</td>\n",
       "      <td>0.816642</td>\n",
       "      <td>NVDA</td>\n",
       "    </tr>\n",
       "    <tr>\n",
       "      <th>BKR</th>\n",
       "      <td>-0.066210</td>\n",
       "      <td>0.119487</td>\n",
       "      <td>0.115091</td>\n",
       "      <td>0.765401</td>\n",
       "      <td>BKR</td>\n",
       "    </tr>\n",
       "    <tr>\n",
       "      <th>ASML</th>\n",
       "      <td>0.077599</td>\n",
       "      <td>0.096957</td>\n",
       "      <td>0.079665</td>\n",
       "      <td>0.823322</td>\n",
       "      <td>ASML</td>\n",
       "    </tr>\n",
       "  </tbody>\n",
       "</table>\n",
       "<p>94 rows × 5 columns</p>\n",
       "</div>"
      ],
      "text/plain": [
       "        Compound  Positive Score  Negative Score  Neutral Score Symbol\n",
       "ticker                                                                \n",
       "BBY     0.866075        0.200722        0.050491       0.748801    BBY\n",
       "FMC     0.950399        0.200181        0.036322       0.763456    FMC\n",
       "DXPE    0.948268        0.198827        0.041324       0.759838   DXPE\n",
       "DUK     0.831309        0.187128        0.051932       0.760943    DUK\n",
       "URBN    0.836517        0.182218        0.046589       0.771153   URBN\n",
       "...          ...             ...             ...            ...    ...\n",
       "ICE     0.130891        0.121082        0.095482       0.783453    ICE\n",
       "GM      0.439671        0.120543        0.072565       0.806887     GM\n",
       "NVDA    0.345609        0.120453        0.062905       0.816642   NVDA\n",
       "BKR    -0.066210        0.119487        0.115091       0.765401    BKR\n",
       "ASML    0.077599        0.096957        0.079665       0.823322   ASML\n",
       "\n",
       "[94 rows x 5 columns]"
      ]
     },
     "execution_count": 320,
     "metadata": {},
     "output_type": "execute_result"
    }
   ],
   "source": [
    "Performance.sort_values(by = ['Positive Score','Compound','Negative Score'], ascending = False)"
   ]
  },
  {
   "cell_type": "code",
   "execution_count": 321,
   "metadata": {},
   "outputs": [],
   "source": [
    "pd.options.plotting.backend = \"plotly\""
   ]
  },
  {
   "cell_type": "code",
   "execution_count": 345,
   "metadata": {},
   "outputs": [
    {
     "data": {
      "application/vnd.plotly.v1+json": {
       "config": {
        "plotlyServerURL": "https://plot.ly"
       },
       "data": [
        {
         "alignmentgroup": "True",
         "hovertemplate": "variable=Positive Score<br>Symbol=%{x}<br>value=%{y}<extra></extra>",
         "legendgroup": "Positive Score",
         "marker": {
          "color": "#636efa",
          "pattern": {
           "shape": ""
          }
         },
         "name": "Positive Score",
         "offsetgroup": "Positive Score",
         "orientation": "v",
         "showlegend": true,
         "textposition": "auto",
         "type": "bar",
         "x": [
          "BBY",
          "FMC",
          "DXPE",
          "DUK",
          "URBN",
          "KBH",
          "EFX",
          "STZ",
          "HUM",
          "ANF",
          "AMZN",
          "NOC",
          "PGR",
          "UAL",
          "PG",
          "COST",
          "NLOK",
          "SPGI",
          "AMGN",
          "AZO",
          "AVGO",
          "COP",
          "HD",
          "GILD",
          "MSFT",
          "JWN",
          "CMG",
          "KO",
          "AAPL",
          "AXP",
          "MRK",
          "WFC",
          "BIIB",
          "LLY",
          "JNJ",
          "WMB",
          "ADBE",
          "SLB",
          "BLK",
          "MU",
          "LMT",
          "DIS",
          "TGT",
          "PFE",
          "SBUX",
          "CAT",
          "FDX",
          "ADP",
          "CSCO",
          "DAL",
          "CAJ",
          "UBER",
          "XOM",
          "MA",
          "IBM",
          "NKE",
          "T",
          "NFLX",
          "DD",
          "MCD",
          "CVX",
          "BAC",
          "BX",
          "ORCL",
          "JPM",
          "AA",
          "NWSA",
          "INTC",
          "GE",
          "GOOGL",
          "BIDU",
          "MMM",
          "WMT",
          "CME",
          "PBR",
          "MS",
          "TSLA",
          "TM",
          "C",
          "PM",
          "BA",
          "CMCSA",
          "VZ",
          "GS",
          "FCX",
          "HMC",
          "SO",
          "VALE",
          "BHC",
          "ICE",
          "GM",
          "NVDA",
          "BKR",
          "ASML"
         ],
         "xaxis": "x",
         "y": [
          0.2007220843672456,
          0.20018117647058808,
          0.19882670454545462,
          0.1871279373368145,
          0.18221779141104302,
          0.18132173913043487,
          0.18085732484076453,
          0.17897037037037053,
          0.17776339285714257,
          0.17633855799373047,
          0.1756569446914456,
          0.17290231362467878,
          0.17172203389830534,
          0.17014355231143558,
          0.1696429980276135,
          0.16768421052631596,
          0.16723423423423445,
          0.1662354570637119,
          0.16570066889632107,
          0.1625272727272728,
          0.16156091954022977,
          0.1609630541871921,
          0.15960213143872112,
          0.15889722222222216,
          0.15835837353549276,
          0.158262156448203,
          0.15774361702127643,
          0.1575500413564932,
          0.15725509972801482,
          0.15667015706806287,
          0.15583073929961083,
          0.1557012678288429,
          0.1550135135135134,
          0.1542305882352941,
          0.15372980910425849,
          0.15320580474934023,
          0.15302556818181817,
          0.1522418397626113,
          0.1520670391061452,
          0.15192062572421788,
          0.15113380281690134,
          0.15064324116743474,
          0.1495437967115099,
          0.14951650485436901,
          0.1493182423435419,
          0.14786436498150418,
          0.14762357414448649,
          0.14737698412698422,
          0.14583870967741938,
          0.14536329588014976,
          0.14524206349206367,
          0.14517412935323373,
          0.14486972111553795,
          0.14398575498575503,
          0.14232235701906412,
          0.14144460856720828,
          0.1413886397608371,
          0.14095399941400524,
          0.14084334203655352,
          0.14051954022988514,
          0.13992934249263989,
          0.13947483492296378,
          0.13945733041575492,
          0.13808379888268152,
          0.13792950062945827,
          0.1369837728194727,
          0.13692125984251965,
          0.13653105802047763,
          0.1356413945766464,
          0.1355507307773779,
          0.13553150684931495,
          0.1355257731958764,
          0.13449200710479559,
          0.13428905519176812,
          0.1337802547770701,
          0.13259024179620005,
          0.13228629752487864,
          0.13190740740740725,
          0.13123538704581353,
          0.13119061583577712,
          0.13115536187949958,
          0.13051842751842757,
          0.12996770472895045,
          0.12954075498918044,
          0.1290659536541889,
          0.12809685863874343,
          0.12620918984280521,
          0.12315362318840584,
          0.1228929292929293,
          0.12108152173913034,
          0.1205432033719707,
          0.12045250000000009,
          0.1194873699851411,
          0.0969568527918781
         ],
         "yaxis": "y"
        },
        {
         "alignmentgroup": "True",
         "hovertemplate": "variable=Negative Score<br>Symbol=%{x}<br>value=%{y}<extra></extra>",
         "legendgroup": "Negative Score",
         "marker": {
          "color": "#EF553B",
          "pattern": {
           "shape": ""
          }
         },
         "name": "Negative Score",
         "offsetgroup": "Negative Score",
         "orientation": "v",
         "showlegend": true,
         "textposition": "auto",
         "type": "bar",
         "x": [
          "BBY",
          "FMC",
          "DXPE",
          "DUK",
          "URBN",
          "KBH",
          "EFX",
          "STZ",
          "HUM",
          "ANF",
          "AMZN",
          "NOC",
          "PGR",
          "UAL",
          "PG",
          "COST",
          "NLOK",
          "SPGI",
          "AMGN",
          "AZO",
          "AVGO",
          "COP",
          "HD",
          "GILD",
          "MSFT",
          "JWN",
          "CMG",
          "KO",
          "AAPL",
          "AXP",
          "MRK",
          "WFC",
          "BIIB",
          "LLY",
          "JNJ",
          "WMB",
          "ADBE",
          "SLB",
          "BLK",
          "MU",
          "LMT",
          "DIS",
          "TGT",
          "PFE",
          "SBUX",
          "CAT",
          "FDX",
          "ADP",
          "CSCO",
          "DAL",
          "CAJ",
          "UBER",
          "XOM",
          "MA",
          "IBM",
          "NKE",
          "T",
          "NFLX",
          "DD",
          "MCD",
          "CVX",
          "BAC",
          "BX",
          "ORCL",
          "JPM",
          "AA",
          "NWSA",
          "INTC",
          "GE",
          "GOOGL",
          "BIDU",
          "MMM",
          "WMT",
          "CME",
          "PBR",
          "MS",
          "TSLA",
          "TM",
          "C",
          "PM",
          "BA",
          "CMCSA",
          "VZ",
          "GS",
          "FCX",
          "HMC",
          "SO",
          "VALE",
          "BHC",
          "ICE",
          "GM",
          "NVDA",
          "BKR",
          "ASML"
         ],
         "xaxis": "x",
         "y": [
          0.050491315136476436,
          0.036322352941176465,
          0.041323863636363624,
          0.0519321148825065,
          0.04658895705521472,
          0.05004927536231884,
          0.05655923566878987,
          0.04486172839506171,
          0.048691964285714255,
          0.053134796238244526,
          0.053608216254668065,
          0.05030334190231361,
          0.06864745762711871,
          0.06595133819951335,
          0.05708086785009862,
          0.05216028708133971,
          0.06093918918918915,
          0.07245983379501386,
          0.0642157190635452,
          0.053842424242424226,
          0.06005057471264363,
          0.07051231527093597,
          0.06935701598579043,
          0.0549444444444444,
          0.051648104755341005,
          0.05585835095137424,
          0.06414468085106381,
          0.05940446650124071,
          0.05973158431550293,
          0.05584554973821986,
          0.08233657587548639,
          0.08662995245641843,
          0.05321621621621626,
          0.06728705882352942,
          0.07255653450807635,
          0.08562796833773093,
          0.05123579545454544,
          0.07593471810089017,
          0.06616573556797027,
          0.06390672074159913,
          0.06408450704225342,
          0.06206451612903242,
          0.07500597907324369,
          0.07089902912621356,
          0.05615312916111855,
          0.07491985203452535,
          0.07398479087452477,
          0.08252777777777776,
          0.0636920821114369,
          0.06348127340823967,
          0.08602380952380956,
          0.0664915422885572,
          0.07597091633466134,
          0.05671509971509971,
          0.05856325823223581,
          0.0753929098966028,
          0.06738863976083706,
          0.054019630823323124,
          0.054877284595300196,
          0.06162068965517235,
          0.08480471050049068,
          0.08231548055759381,
          0.054054704595185944,
          0.056748603351955314,
          0.08641502308015106,
          0.08968458417849892,
          0.08315275590551177,
          0.06562047781569968,
          0.06649750968456014,
          0.06822283414530798,
          0.05369315068493148,
          0.07692010309278349,
          0.07788809946714025,
          0.06644153414405982,
          0.086859872611465,
          0.08713082901554413,
          0.0639778004593006,
          0.07571975308641969,
          0.08929963138493947,
          0.059964809384164174,
          0.07315990905646055,
          0.05615233415233412,
          0.06562168396770476,
          0.08404905025246472,
          0.07775222816399291,
          0.07969371727748684,
          0.10009552599758156,
          0.07989275362318843,
          0.08354747474747484,
          0.09548188405797103,
          0.07256533192834565,
          0.06290499999999997,
          0.11509063893016337,
          0.0796649746192893
         ],
         "yaxis": "y"
        }
       ],
       "layout": {
        "barmode": "relative",
        "legend": {
         "title": {
          "text": "variable"
         },
         "tracegroupgap": 0
        },
        "margin": {
         "t": 60
        },
        "template": {
         "data": {
          "bar": [
           {
            "error_x": {
             "color": "#2a3f5f"
            },
            "error_y": {
             "color": "#2a3f5f"
            },
            "marker": {
             "line": {
              "color": "#E5ECF6",
              "width": 0.5
             },
             "pattern": {
              "fillmode": "overlay",
              "size": 10,
              "solidity": 0.2
             }
            },
            "type": "bar"
           }
          ],
          "barpolar": [
           {
            "marker": {
             "line": {
              "color": "#E5ECF6",
              "width": 0.5
             },
             "pattern": {
              "fillmode": "overlay",
              "size": 10,
              "solidity": 0.2
             }
            },
            "type": "barpolar"
           }
          ],
          "carpet": [
           {
            "aaxis": {
             "endlinecolor": "#2a3f5f",
             "gridcolor": "white",
             "linecolor": "white",
             "minorgridcolor": "white",
             "startlinecolor": "#2a3f5f"
            },
            "baxis": {
             "endlinecolor": "#2a3f5f",
             "gridcolor": "white",
             "linecolor": "white",
             "minorgridcolor": "white",
             "startlinecolor": "#2a3f5f"
            },
            "type": "carpet"
           }
          ],
          "choropleth": [
           {
            "colorbar": {
             "outlinewidth": 0,
             "ticks": ""
            },
            "type": "choropleth"
           }
          ],
          "contour": [
           {
            "colorbar": {
             "outlinewidth": 0,
             "ticks": ""
            },
            "colorscale": [
             [
              0,
              "#0d0887"
             ],
             [
              0.1111111111111111,
              "#46039f"
             ],
             [
              0.2222222222222222,
              "#7201a8"
             ],
             [
              0.3333333333333333,
              "#9c179e"
             ],
             [
              0.4444444444444444,
              "#bd3786"
             ],
             [
              0.5555555555555556,
              "#d8576b"
             ],
             [
              0.6666666666666666,
              "#ed7953"
             ],
             [
              0.7777777777777778,
              "#fb9f3a"
             ],
             [
              0.8888888888888888,
              "#fdca26"
             ],
             [
              1,
              "#f0f921"
             ]
            ],
            "type": "contour"
           }
          ],
          "contourcarpet": [
           {
            "colorbar": {
             "outlinewidth": 0,
             "ticks": ""
            },
            "type": "contourcarpet"
           }
          ],
          "heatmap": [
           {
            "colorbar": {
             "outlinewidth": 0,
             "ticks": ""
            },
            "colorscale": [
             [
              0,
              "#0d0887"
             ],
             [
              0.1111111111111111,
              "#46039f"
             ],
             [
              0.2222222222222222,
              "#7201a8"
             ],
             [
              0.3333333333333333,
              "#9c179e"
             ],
             [
              0.4444444444444444,
              "#bd3786"
             ],
             [
              0.5555555555555556,
              "#d8576b"
             ],
             [
              0.6666666666666666,
              "#ed7953"
             ],
             [
              0.7777777777777778,
              "#fb9f3a"
             ],
             [
              0.8888888888888888,
              "#fdca26"
             ],
             [
              1,
              "#f0f921"
             ]
            ],
            "type": "heatmap"
           }
          ],
          "heatmapgl": [
           {
            "colorbar": {
             "outlinewidth": 0,
             "ticks": ""
            },
            "colorscale": [
             [
              0,
              "#0d0887"
             ],
             [
              0.1111111111111111,
              "#46039f"
             ],
             [
              0.2222222222222222,
              "#7201a8"
             ],
             [
              0.3333333333333333,
              "#9c179e"
             ],
             [
              0.4444444444444444,
              "#bd3786"
             ],
             [
              0.5555555555555556,
              "#d8576b"
             ],
             [
              0.6666666666666666,
              "#ed7953"
             ],
             [
              0.7777777777777778,
              "#fb9f3a"
             ],
             [
              0.8888888888888888,
              "#fdca26"
             ],
             [
              1,
              "#f0f921"
             ]
            ],
            "type": "heatmapgl"
           }
          ],
          "histogram": [
           {
            "marker": {
             "pattern": {
              "fillmode": "overlay",
              "size": 10,
              "solidity": 0.2
             }
            },
            "type": "histogram"
           }
          ],
          "histogram2d": [
           {
            "colorbar": {
             "outlinewidth": 0,
             "ticks": ""
            },
            "colorscale": [
             [
              0,
              "#0d0887"
             ],
             [
              0.1111111111111111,
              "#46039f"
             ],
             [
              0.2222222222222222,
              "#7201a8"
             ],
             [
              0.3333333333333333,
              "#9c179e"
             ],
             [
              0.4444444444444444,
              "#bd3786"
             ],
             [
              0.5555555555555556,
              "#d8576b"
             ],
             [
              0.6666666666666666,
              "#ed7953"
             ],
             [
              0.7777777777777778,
              "#fb9f3a"
             ],
             [
              0.8888888888888888,
              "#fdca26"
             ],
             [
              1,
              "#f0f921"
             ]
            ],
            "type": "histogram2d"
           }
          ],
          "histogram2dcontour": [
           {
            "colorbar": {
             "outlinewidth": 0,
             "ticks": ""
            },
            "colorscale": [
             [
              0,
              "#0d0887"
             ],
             [
              0.1111111111111111,
              "#46039f"
             ],
             [
              0.2222222222222222,
              "#7201a8"
             ],
             [
              0.3333333333333333,
              "#9c179e"
             ],
             [
              0.4444444444444444,
              "#bd3786"
             ],
             [
              0.5555555555555556,
              "#d8576b"
             ],
             [
              0.6666666666666666,
              "#ed7953"
             ],
             [
              0.7777777777777778,
              "#fb9f3a"
             ],
             [
              0.8888888888888888,
              "#fdca26"
             ],
             [
              1,
              "#f0f921"
             ]
            ],
            "type": "histogram2dcontour"
           }
          ],
          "mesh3d": [
           {
            "colorbar": {
             "outlinewidth": 0,
             "ticks": ""
            },
            "type": "mesh3d"
           }
          ],
          "parcoords": [
           {
            "line": {
             "colorbar": {
              "outlinewidth": 0,
              "ticks": ""
             }
            },
            "type": "parcoords"
           }
          ],
          "pie": [
           {
            "automargin": true,
            "type": "pie"
           }
          ],
          "scatter": [
           {
            "fillpattern": {
             "fillmode": "overlay",
             "size": 10,
             "solidity": 0.2
            },
            "type": "scatter"
           }
          ],
          "scatter3d": [
           {
            "line": {
             "colorbar": {
              "outlinewidth": 0,
              "ticks": ""
             }
            },
            "marker": {
             "colorbar": {
              "outlinewidth": 0,
              "ticks": ""
             }
            },
            "type": "scatter3d"
           }
          ],
          "scattercarpet": [
           {
            "marker": {
             "colorbar": {
              "outlinewidth": 0,
              "ticks": ""
             }
            },
            "type": "scattercarpet"
           }
          ],
          "scattergeo": [
           {
            "marker": {
             "colorbar": {
              "outlinewidth": 0,
              "ticks": ""
             }
            },
            "type": "scattergeo"
           }
          ],
          "scattergl": [
           {
            "marker": {
             "colorbar": {
              "outlinewidth": 0,
              "ticks": ""
             }
            },
            "type": "scattergl"
           }
          ],
          "scattermapbox": [
           {
            "marker": {
             "colorbar": {
              "outlinewidth": 0,
              "ticks": ""
             }
            },
            "type": "scattermapbox"
           }
          ],
          "scatterpolar": [
           {
            "marker": {
             "colorbar": {
              "outlinewidth": 0,
              "ticks": ""
             }
            },
            "type": "scatterpolar"
           }
          ],
          "scatterpolargl": [
           {
            "marker": {
             "colorbar": {
              "outlinewidth": 0,
              "ticks": ""
             }
            },
            "type": "scatterpolargl"
           }
          ],
          "scatterternary": [
           {
            "marker": {
             "colorbar": {
              "outlinewidth": 0,
              "ticks": ""
             }
            },
            "type": "scatterternary"
           }
          ],
          "surface": [
           {
            "colorbar": {
             "outlinewidth": 0,
             "ticks": ""
            },
            "colorscale": [
             [
              0,
              "#0d0887"
             ],
             [
              0.1111111111111111,
              "#46039f"
             ],
             [
              0.2222222222222222,
              "#7201a8"
             ],
             [
              0.3333333333333333,
              "#9c179e"
             ],
             [
              0.4444444444444444,
              "#bd3786"
             ],
             [
              0.5555555555555556,
              "#d8576b"
             ],
             [
              0.6666666666666666,
              "#ed7953"
             ],
             [
              0.7777777777777778,
              "#fb9f3a"
             ],
             [
              0.8888888888888888,
              "#fdca26"
             ],
             [
              1,
              "#f0f921"
             ]
            ],
            "type": "surface"
           }
          ],
          "table": [
           {
            "cells": {
             "fill": {
              "color": "#EBF0F8"
             },
             "line": {
              "color": "white"
             }
            },
            "header": {
             "fill": {
              "color": "#C8D4E3"
             },
             "line": {
              "color": "white"
             }
            },
            "type": "table"
           }
          ]
         },
         "layout": {
          "annotationdefaults": {
           "arrowcolor": "#2a3f5f",
           "arrowhead": 0,
           "arrowwidth": 1
          },
          "autotypenumbers": "strict",
          "coloraxis": {
           "colorbar": {
            "outlinewidth": 0,
            "ticks": ""
           }
          },
          "colorscale": {
           "diverging": [
            [
             0,
             "#8e0152"
            ],
            [
             0.1,
             "#c51b7d"
            ],
            [
             0.2,
             "#de77ae"
            ],
            [
             0.3,
             "#f1b6da"
            ],
            [
             0.4,
             "#fde0ef"
            ],
            [
             0.5,
             "#f7f7f7"
            ],
            [
             0.6,
             "#e6f5d0"
            ],
            [
             0.7,
             "#b8e186"
            ],
            [
             0.8,
             "#7fbc41"
            ],
            [
             0.9,
             "#4d9221"
            ],
            [
             1,
             "#276419"
            ]
           ],
           "sequential": [
            [
             0,
             "#0d0887"
            ],
            [
             0.1111111111111111,
             "#46039f"
            ],
            [
             0.2222222222222222,
             "#7201a8"
            ],
            [
             0.3333333333333333,
             "#9c179e"
            ],
            [
             0.4444444444444444,
             "#bd3786"
            ],
            [
             0.5555555555555556,
             "#d8576b"
            ],
            [
             0.6666666666666666,
             "#ed7953"
            ],
            [
             0.7777777777777778,
             "#fb9f3a"
            ],
            [
             0.8888888888888888,
             "#fdca26"
            ],
            [
             1,
             "#f0f921"
            ]
           ],
           "sequentialminus": [
            [
             0,
             "#0d0887"
            ],
            [
             0.1111111111111111,
             "#46039f"
            ],
            [
             0.2222222222222222,
             "#7201a8"
            ],
            [
             0.3333333333333333,
             "#9c179e"
            ],
            [
             0.4444444444444444,
             "#bd3786"
            ],
            [
             0.5555555555555556,
             "#d8576b"
            ],
            [
             0.6666666666666666,
             "#ed7953"
            ],
            [
             0.7777777777777778,
             "#fb9f3a"
            ],
            [
             0.8888888888888888,
             "#fdca26"
            ],
            [
             1,
             "#f0f921"
            ]
           ]
          },
          "colorway": [
           "#636efa",
           "#EF553B",
           "#00cc96",
           "#ab63fa",
           "#FFA15A",
           "#19d3f3",
           "#FF6692",
           "#B6E880",
           "#FF97FF",
           "#FECB52"
          ],
          "font": {
           "color": "#2a3f5f"
          },
          "geo": {
           "bgcolor": "white",
           "lakecolor": "white",
           "landcolor": "#E5ECF6",
           "showlakes": true,
           "showland": true,
           "subunitcolor": "white"
          },
          "hoverlabel": {
           "align": "left"
          },
          "hovermode": "closest",
          "mapbox": {
           "style": "light"
          },
          "paper_bgcolor": "white",
          "plot_bgcolor": "#E5ECF6",
          "polar": {
           "angularaxis": {
            "gridcolor": "white",
            "linecolor": "white",
            "ticks": ""
           },
           "bgcolor": "#E5ECF6",
           "radialaxis": {
            "gridcolor": "white",
            "linecolor": "white",
            "ticks": ""
           }
          },
          "scene": {
           "xaxis": {
            "backgroundcolor": "#E5ECF6",
            "gridcolor": "white",
            "gridwidth": 2,
            "linecolor": "white",
            "showbackground": true,
            "ticks": "",
            "zerolinecolor": "white"
           },
           "yaxis": {
            "backgroundcolor": "#E5ECF6",
            "gridcolor": "white",
            "gridwidth": 2,
            "linecolor": "white",
            "showbackground": true,
            "ticks": "",
            "zerolinecolor": "white"
           },
           "zaxis": {
            "backgroundcolor": "#E5ECF6",
            "gridcolor": "white",
            "gridwidth": 2,
            "linecolor": "white",
            "showbackground": true,
            "ticks": "",
            "zerolinecolor": "white"
           }
          },
          "shapedefaults": {
           "line": {
            "color": "#2a3f5f"
           }
          },
          "ternary": {
           "aaxis": {
            "gridcolor": "white",
            "linecolor": "white",
            "ticks": ""
           },
           "baxis": {
            "gridcolor": "white",
            "linecolor": "white",
            "ticks": ""
           },
           "bgcolor": "#E5ECF6",
           "caxis": {
            "gridcolor": "white",
            "linecolor": "white",
            "ticks": ""
           }
          },
          "title": {
           "x": 0.05
          },
          "xaxis": {
           "automargin": true,
           "gridcolor": "white",
           "linecolor": "white",
           "ticks": "",
           "title": {
            "standoff": 15
           },
           "zerolinecolor": "white",
           "zerolinewidth": 2
          },
          "yaxis": {
           "automargin": true,
           "gridcolor": "white",
           "linecolor": "white",
           "ticks": "",
           "title": {
            "standoff": 15
           },
           "zerolinecolor": "white",
           "zerolinewidth": 2
          }
         }
        },
        "width": 5000,
        "xaxis": {
         "anchor": "y",
         "domain": [
          0,
          1
         ],
         "tickangle": 0,
         "title": {
          "text": "Symbol"
         }
        },
        "yaxis": {
         "anchor": "x",
         "domain": [
          0,
          1
         ],
         "title": {
          "text": "value"
         }
        }
       }
      },
      "text/html": [
       "<div>                            <div id=\"51e91c22-d437-4b7d-acda-11beecadc46c\" class=\"plotly-graph-div\" style=\"height:525px; width:5000px;\"></div>            <script type=\"text/javascript\">                require([\"plotly\"], function(Plotly) {                    window.PLOTLYENV=window.PLOTLYENV || {};                                    if (document.getElementById(\"51e91c22-d437-4b7d-acda-11beecadc46c\")) {                    Plotly.newPlot(                        \"51e91c22-d437-4b7d-acda-11beecadc46c\",                        [{\"alignmentgroup\":\"True\",\"hovertemplate\":\"variable=Positive Score<br>Symbol=%{x}<br>value=%{y}<extra></extra>\",\"legendgroup\":\"Positive Score\",\"marker\":{\"color\":\"#636efa\",\"pattern\":{\"shape\":\"\"}},\"name\":\"Positive Score\",\"offsetgroup\":\"Positive Score\",\"orientation\":\"v\",\"showlegend\":true,\"textposition\":\"auto\",\"x\":[\"BBY\",\"FMC\",\"DXPE\",\"DUK\",\"URBN\",\"KBH\",\"EFX\",\"STZ\",\"HUM\",\"ANF\",\"AMZN\",\"NOC\",\"PGR\",\"UAL\",\"PG\",\"COST\",\"NLOK\",\"SPGI\",\"AMGN\",\"AZO\",\"AVGO\",\"COP\",\"HD\",\"GILD\",\"MSFT\",\"JWN\",\"CMG\",\"KO\",\"AAPL\",\"AXP\",\"MRK\",\"WFC\",\"BIIB\",\"LLY\",\"JNJ\",\"WMB\",\"ADBE\",\"SLB\",\"BLK\",\"MU\",\"LMT\",\"DIS\",\"TGT\",\"PFE\",\"SBUX\",\"CAT\",\"FDX\",\"ADP\",\"CSCO\",\"DAL\",\"CAJ\",\"UBER\",\"XOM\",\"MA\",\"IBM\",\"NKE\",\"T\",\"NFLX\",\"DD\",\"MCD\",\"CVX\",\"BAC\",\"BX\",\"ORCL\",\"JPM\",\"AA\",\"NWSA\",\"INTC\",\"GE\",\"GOOGL\",\"BIDU\",\"MMM\",\"WMT\",\"CME\",\"PBR\",\"MS\",\"TSLA\",\"TM\",\"C\",\"PM\",\"BA\",\"CMCSA\",\"VZ\",\"GS\",\"FCX\",\"HMC\",\"SO\",\"VALE\",\"BHC\",\"ICE\",\"GM\",\"NVDA\",\"BKR\",\"ASML\"],\"xaxis\":\"x\",\"y\":[0.2007220843672456,0.20018117647058808,0.19882670454545462,0.1871279373368145,0.18221779141104302,0.18132173913043487,0.18085732484076453,0.17897037037037053,0.17776339285714257,0.17633855799373047,0.1756569446914456,0.17290231362467878,0.17172203389830534,0.17014355231143558,0.1696429980276135,0.16768421052631596,0.16723423423423445,0.1662354570637119,0.16570066889632107,0.1625272727272728,0.16156091954022977,0.1609630541871921,0.15960213143872112,0.15889722222222216,0.15835837353549276,0.158262156448203,0.15774361702127643,0.1575500413564932,0.15725509972801482,0.15667015706806287,0.15583073929961083,0.1557012678288429,0.1550135135135134,0.1542305882352941,0.15372980910425849,0.15320580474934023,0.15302556818181817,0.1522418397626113,0.1520670391061452,0.15192062572421788,0.15113380281690134,0.15064324116743474,0.1495437967115099,0.14951650485436901,0.1493182423435419,0.14786436498150418,0.14762357414448649,0.14737698412698422,0.14583870967741938,0.14536329588014976,0.14524206349206367,0.14517412935323373,0.14486972111553795,0.14398575498575503,0.14232235701906412,0.14144460856720828,0.1413886397608371,0.14095399941400524,0.14084334203655352,0.14051954022988514,0.13992934249263989,0.13947483492296378,0.13945733041575492,0.13808379888268152,0.13792950062945827,0.1369837728194727,0.13692125984251965,0.13653105802047763,0.1356413945766464,0.1355507307773779,0.13553150684931495,0.1355257731958764,0.13449200710479559,0.13428905519176812,0.1337802547770701,0.13259024179620005,0.13228629752487864,0.13190740740740725,0.13123538704581353,0.13119061583577712,0.13115536187949958,0.13051842751842757,0.12996770472895045,0.12954075498918044,0.1290659536541889,0.12809685863874343,0.12620918984280521,0.12315362318840584,0.1228929292929293,0.12108152173913034,0.1205432033719707,0.12045250000000009,0.1194873699851411,0.0969568527918781],\"yaxis\":\"y\",\"type\":\"bar\"},{\"alignmentgroup\":\"True\",\"hovertemplate\":\"variable=Negative Score<br>Symbol=%{x}<br>value=%{y}<extra></extra>\",\"legendgroup\":\"Negative Score\",\"marker\":{\"color\":\"#EF553B\",\"pattern\":{\"shape\":\"\"}},\"name\":\"Negative Score\",\"offsetgroup\":\"Negative Score\",\"orientation\":\"v\",\"showlegend\":true,\"textposition\":\"auto\",\"x\":[\"BBY\",\"FMC\",\"DXPE\",\"DUK\",\"URBN\",\"KBH\",\"EFX\",\"STZ\",\"HUM\",\"ANF\",\"AMZN\",\"NOC\",\"PGR\",\"UAL\",\"PG\",\"COST\",\"NLOK\",\"SPGI\",\"AMGN\",\"AZO\",\"AVGO\",\"COP\",\"HD\",\"GILD\",\"MSFT\",\"JWN\",\"CMG\",\"KO\",\"AAPL\",\"AXP\",\"MRK\",\"WFC\",\"BIIB\",\"LLY\",\"JNJ\",\"WMB\",\"ADBE\",\"SLB\",\"BLK\",\"MU\",\"LMT\",\"DIS\",\"TGT\",\"PFE\",\"SBUX\",\"CAT\",\"FDX\",\"ADP\",\"CSCO\",\"DAL\",\"CAJ\",\"UBER\",\"XOM\",\"MA\",\"IBM\",\"NKE\",\"T\",\"NFLX\",\"DD\",\"MCD\",\"CVX\",\"BAC\",\"BX\",\"ORCL\",\"JPM\",\"AA\",\"NWSA\",\"INTC\",\"GE\",\"GOOGL\",\"BIDU\",\"MMM\",\"WMT\",\"CME\",\"PBR\",\"MS\",\"TSLA\",\"TM\",\"C\",\"PM\",\"BA\",\"CMCSA\",\"VZ\",\"GS\",\"FCX\",\"HMC\",\"SO\",\"VALE\",\"BHC\",\"ICE\",\"GM\",\"NVDA\",\"BKR\",\"ASML\"],\"xaxis\":\"x\",\"y\":[0.050491315136476436,0.036322352941176465,0.041323863636363624,0.0519321148825065,0.04658895705521472,0.05004927536231884,0.05655923566878987,0.04486172839506171,0.048691964285714255,0.053134796238244526,0.053608216254668065,0.05030334190231361,0.06864745762711871,0.06595133819951335,0.05708086785009862,0.05216028708133971,0.06093918918918915,0.07245983379501386,0.0642157190635452,0.053842424242424226,0.06005057471264363,0.07051231527093597,0.06935701598579043,0.0549444444444444,0.051648104755341005,0.05585835095137424,0.06414468085106381,0.05940446650124071,0.05973158431550293,0.05584554973821986,0.08233657587548639,0.08662995245641843,0.05321621621621626,0.06728705882352942,0.07255653450807635,0.08562796833773093,0.05123579545454544,0.07593471810089017,0.06616573556797027,0.06390672074159913,0.06408450704225342,0.06206451612903242,0.07500597907324369,0.07089902912621356,0.05615312916111855,0.07491985203452535,0.07398479087452477,0.08252777777777776,0.0636920821114369,0.06348127340823967,0.08602380952380956,0.0664915422885572,0.07597091633466134,0.05671509971509971,0.05856325823223581,0.0753929098966028,0.06738863976083706,0.054019630823323124,0.054877284595300196,0.06162068965517235,0.08480471050049068,0.08231548055759381,0.054054704595185944,0.056748603351955314,0.08641502308015106,0.08968458417849892,0.08315275590551177,0.06562047781569968,0.06649750968456014,0.06822283414530798,0.05369315068493148,0.07692010309278349,0.07788809946714025,0.06644153414405982,0.086859872611465,0.08713082901554413,0.0639778004593006,0.07571975308641969,0.08929963138493947,0.059964809384164174,0.07315990905646055,0.05615233415233412,0.06562168396770476,0.08404905025246472,0.07775222816399291,0.07969371727748684,0.10009552599758156,0.07989275362318843,0.08354747474747484,0.09548188405797103,0.07256533192834565,0.06290499999999997,0.11509063893016337,0.0796649746192893],\"yaxis\":\"y\",\"type\":\"bar\"}],                        {\"template\":{\"data\":{\"histogram2dcontour\":[{\"type\":\"histogram2dcontour\",\"colorbar\":{\"outlinewidth\":0,\"ticks\":\"\"},\"colorscale\":[[0.0,\"#0d0887\"],[0.1111111111111111,\"#46039f\"],[0.2222222222222222,\"#7201a8\"],[0.3333333333333333,\"#9c179e\"],[0.4444444444444444,\"#bd3786\"],[0.5555555555555556,\"#d8576b\"],[0.6666666666666666,\"#ed7953\"],[0.7777777777777778,\"#fb9f3a\"],[0.8888888888888888,\"#fdca26\"],[1.0,\"#f0f921\"]]}],\"choropleth\":[{\"type\":\"choropleth\",\"colorbar\":{\"outlinewidth\":0,\"ticks\":\"\"}}],\"histogram2d\":[{\"type\":\"histogram2d\",\"colorbar\":{\"outlinewidth\":0,\"ticks\":\"\"},\"colorscale\":[[0.0,\"#0d0887\"],[0.1111111111111111,\"#46039f\"],[0.2222222222222222,\"#7201a8\"],[0.3333333333333333,\"#9c179e\"],[0.4444444444444444,\"#bd3786\"],[0.5555555555555556,\"#d8576b\"],[0.6666666666666666,\"#ed7953\"],[0.7777777777777778,\"#fb9f3a\"],[0.8888888888888888,\"#fdca26\"],[1.0,\"#f0f921\"]]}],\"heatmap\":[{\"type\":\"heatmap\",\"colorbar\":{\"outlinewidth\":0,\"ticks\":\"\"},\"colorscale\":[[0.0,\"#0d0887\"],[0.1111111111111111,\"#46039f\"],[0.2222222222222222,\"#7201a8\"],[0.3333333333333333,\"#9c179e\"],[0.4444444444444444,\"#bd3786\"],[0.5555555555555556,\"#d8576b\"],[0.6666666666666666,\"#ed7953\"],[0.7777777777777778,\"#fb9f3a\"],[0.8888888888888888,\"#fdca26\"],[1.0,\"#f0f921\"]]}],\"heatmapgl\":[{\"type\":\"heatmapgl\",\"colorbar\":{\"outlinewidth\":0,\"ticks\":\"\"},\"colorscale\":[[0.0,\"#0d0887\"],[0.1111111111111111,\"#46039f\"],[0.2222222222222222,\"#7201a8\"],[0.3333333333333333,\"#9c179e\"],[0.4444444444444444,\"#bd3786\"],[0.5555555555555556,\"#d8576b\"],[0.6666666666666666,\"#ed7953\"],[0.7777777777777778,\"#fb9f3a\"],[0.8888888888888888,\"#fdca26\"],[1.0,\"#f0f921\"]]}],\"contourcarpet\":[{\"type\":\"contourcarpet\",\"colorbar\":{\"outlinewidth\":0,\"ticks\":\"\"}}],\"contour\":[{\"type\":\"contour\",\"colorbar\":{\"outlinewidth\":0,\"ticks\":\"\"},\"colorscale\":[[0.0,\"#0d0887\"],[0.1111111111111111,\"#46039f\"],[0.2222222222222222,\"#7201a8\"],[0.3333333333333333,\"#9c179e\"],[0.4444444444444444,\"#bd3786\"],[0.5555555555555556,\"#d8576b\"],[0.6666666666666666,\"#ed7953\"],[0.7777777777777778,\"#fb9f3a\"],[0.8888888888888888,\"#fdca26\"],[1.0,\"#f0f921\"]]}],\"surface\":[{\"type\":\"surface\",\"colorbar\":{\"outlinewidth\":0,\"ticks\":\"\"},\"colorscale\":[[0.0,\"#0d0887\"],[0.1111111111111111,\"#46039f\"],[0.2222222222222222,\"#7201a8\"],[0.3333333333333333,\"#9c179e\"],[0.4444444444444444,\"#bd3786\"],[0.5555555555555556,\"#d8576b\"],[0.6666666666666666,\"#ed7953\"],[0.7777777777777778,\"#fb9f3a\"],[0.8888888888888888,\"#fdca26\"],[1.0,\"#f0f921\"]]}],\"mesh3d\":[{\"type\":\"mesh3d\",\"colorbar\":{\"outlinewidth\":0,\"ticks\":\"\"}}],\"scatter\":[{\"fillpattern\":{\"fillmode\":\"overlay\",\"size\":10,\"solidity\":0.2},\"type\":\"scatter\"}],\"parcoords\":[{\"type\":\"parcoords\",\"line\":{\"colorbar\":{\"outlinewidth\":0,\"ticks\":\"\"}}}],\"scatterpolargl\":[{\"type\":\"scatterpolargl\",\"marker\":{\"colorbar\":{\"outlinewidth\":0,\"ticks\":\"\"}}}],\"bar\":[{\"error_x\":{\"color\":\"#2a3f5f\"},\"error_y\":{\"color\":\"#2a3f5f\"},\"marker\":{\"line\":{\"color\":\"#E5ECF6\",\"width\":0.5},\"pattern\":{\"fillmode\":\"overlay\",\"size\":10,\"solidity\":0.2}},\"type\":\"bar\"}],\"scattergeo\":[{\"type\":\"scattergeo\",\"marker\":{\"colorbar\":{\"outlinewidth\":0,\"ticks\":\"\"}}}],\"scatterpolar\":[{\"type\":\"scatterpolar\",\"marker\":{\"colorbar\":{\"outlinewidth\":0,\"ticks\":\"\"}}}],\"histogram\":[{\"marker\":{\"pattern\":{\"fillmode\":\"overlay\",\"size\":10,\"solidity\":0.2}},\"type\":\"histogram\"}],\"scattergl\":[{\"type\":\"scattergl\",\"marker\":{\"colorbar\":{\"outlinewidth\":0,\"ticks\":\"\"}}}],\"scatter3d\":[{\"type\":\"scatter3d\",\"line\":{\"colorbar\":{\"outlinewidth\":0,\"ticks\":\"\"}},\"marker\":{\"colorbar\":{\"outlinewidth\":0,\"ticks\":\"\"}}}],\"scattermapbox\":[{\"type\":\"scattermapbox\",\"marker\":{\"colorbar\":{\"outlinewidth\":0,\"ticks\":\"\"}}}],\"scatterternary\":[{\"type\":\"scatterternary\",\"marker\":{\"colorbar\":{\"outlinewidth\":0,\"ticks\":\"\"}}}],\"scattercarpet\":[{\"type\":\"scattercarpet\",\"marker\":{\"colorbar\":{\"outlinewidth\":0,\"ticks\":\"\"}}}],\"carpet\":[{\"aaxis\":{\"endlinecolor\":\"#2a3f5f\",\"gridcolor\":\"white\",\"linecolor\":\"white\",\"minorgridcolor\":\"white\",\"startlinecolor\":\"#2a3f5f\"},\"baxis\":{\"endlinecolor\":\"#2a3f5f\",\"gridcolor\":\"white\",\"linecolor\":\"white\",\"minorgridcolor\":\"white\",\"startlinecolor\":\"#2a3f5f\"},\"type\":\"carpet\"}],\"table\":[{\"cells\":{\"fill\":{\"color\":\"#EBF0F8\"},\"line\":{\"color\":\"white\"}},\"header\":{\"fill\":{\"color\":\"#C8D4E3\"},\"line\":{\"color\":\"white\"}},\"type\":\"table\"}],\"barpolar\":[{\"marker\":{\"line\":{\"color\":\"#E5ECF6\",\"width\":0.5},\"pattern\":{\"fillmode\":\"overlay\",\"size\":10,\"solidity\":0.2}},\"type\":\"barpolar\"}],\"pie\":[{\"automargin\":true,\"type\":\"pie\"}]},\"layout\":{\"autotypenumbers\":\"strict\",\"colorway\":[\"#636efa\",\"#EF553B\",\"#00cc96\",\"#ab63fa\",\"#FFA15A\",\"#19d3f3\",\"#FF6692\",\"#B6E880\",\"#FF97FF\",\"#FECB52\"],\"font\":{\"color\":\"#2a3f5f\"},\"hovermode\":\"closest\",\"hoverlabel\":{\"align\":\"left\"},\"paper_bgcolor\":\"white\",\"plot_bgcolor\":\"#E5ECF6\",\"polar\":{\"bgcolor\":\"#E5ECF6\",\"angularaxis\":{\"gridcolor\":\"white\",\"linecolor\":\"white\",\"ticks\":\"\"},\"radialaxis\":{\"gridcolor\":\"white\",\"linecolor\":\"white\",\"ticks\":\"\"}},\"ternary\":{\"bgcolor\":\"#E5ECF6\",\"aaxis\":{\"gridcolor\":\"white\",\"linecolor\":\"white\",\"ticks\":\"\"},\"baxis\":{\"gridcolor\":\"white\",\"linecolor\":\"white\",\"ticks\":\"\"},\"caxis\":{\"gridcolor\":\"white\",\"linecolor\":\"white\",\"ticks\":\"\"}},\"coloraxis\":{\"colorbar\":{\"outlinewidth\":0,\"ticks\":\"\"}},\"colorscale\":{\"sequential\":[[0.0,\"#0d0887\"],[0.1111111111111111,\"#46039f\"],[0.2222222222222222,\"#7201a8\"],[0.3333333333333333,\"#9c179e\"],[0.4444444444444444,\"#bd3786\"],[0.5555555555555556,\"#d8576b\"],[0.6666666666666666,\"#ed7953\"],[0.7777777777777778,\"#fb9f3a\"],[0.8888888888888888,\"#fdca26\"],[1.0,\"#f0f921\"]],\"sequentialminus\":[[0.0,\"#0d0887\"],[0.1111111111111111,\"#46039f\"],[0.2222222222222222,\"#7201a8\"],[0.3333333333333333,\"#9c179e\"],[0.4444444444444444,\"#bd3786\"],[0.5555555555555556,\"#d8576b\"],[0.6666666666666666,\"#ed7953\"],[0.7777777777777778,\"#fb9f3a\"],[0.8888888888888888,\"#fdca26\"],[1.0,\"#f0f921\"]],\"diverging\":[[0,\"#8e0152\"],[0.1,\"#c51b7d\"],[0.2,\"#de77ae\"],[0.3,\"#f1b6da\"],[0.4,\"#fde0ef\"],[0.5,\"#f7f7f7\"],[0.6,\"#e6f5d0\"],[0.7,\"#b8e186\"],[0.8,\"#7fbc41\"],[0.9,\"#4d9221\"],[1,\"#276419\"]]},\"xaxis\":{\"gridcolor\":\"white\",\"linecolor\":\"white\",\"ticks\":\"\",\"title\":{\"standoff\":15},\"zerolinecolor\":\"white\",\"automargin\":true,\"zerolinewidth\":2},\"yaxis\":{\"gridcolor\":\"white\",\"linecolor\":\"white\",\"ticks\":\"\",\"title\":{\"standoff\":15},\"zerolinecolor\":\"white\",\"automargin\":true,\"zerolinewidth\":2},\"scene\":{\"xaxis\":{\"backgroundcolor\":\"#E5ECF6\",\"gridcolor\":\"white\",\"linecolor\":\"white\",\"showbackground\":true,\"ticks\":\"\",\"zerolinecolor\":\"white\",\"gridwidth\":2},\"yaxis\":{\"backgroundcolor\":\"#E5ECF6\",\"gridcolor\":\"white\",\"linecolor\":\"white\",\"showbackground\":true,\"ticks\":\"\",\"zerolinecolor\":\"white\",\"gridwidth\":2},\"zaxis\":{\"backgroundcolor\":\"#E5ECF6\",\"gridcolor\":\"white\",\"linecolor\":\"white\",\"showbackground\":true,\"ticks\":\"\",\"zerolinecolor\":\"white\",\"gridwidth\":2}},\"shapedefaults\":{\"line\":{\"color\":\"#2a3f5f\"}},\"annotationdefaults\":{\"arrowcolor\":\"#2a3f5f\",\"arrowhead\":0,\"arrowwidth\":1},\"geo\":{\"bgcolor\":\"white\",\"landcolor\":\"#E5ECF6\",\"subunitcolor\":\"white\",\"showland\":true,\"showlakes\":true,\"lakecolor\":\"white\"},\"title\":{\"x\":0.05},\"mapbox\":{\"style\":\"light\"}}},\"xaxis\":{\"anchor\":\"y\",\"domain\":[0.0,1.0],\"title\":{\"text\":\"Symbol\"},\"tickangle\":0},\"yaxis\":{\"anchor\":\"x\",\"domain\":[0.0,1.0],\"title\":{\"text\":\"value\"}},\"legend\":{\"title\":{\"text\":\"variable\"},\"tracegroupgap\":0},\"margin\":{\"t\":60},\"barmode\":\"relative\",\"width\":5000},                        {\"responsive\": true}                    ).then(function(){\n",
       "                            \n",
       "var gd = document.getElementById('51e91c22-d437-4b7d-acda-11beecadc46c');\n",
       "var x = new MutationObserver(function (mutations, observer) {{\n",
       "        var display = window.getComputedStyle(gd).display;\n",
       "        if (!display || display === 'none') {{\n",
       "            console.log([gd, 'removed!']);\n",
       "            Plotly.purge(gd);\n",
       "            observer.disconnect();\n",
       "        }}\n",
       "}});\n",
       "\n",
       "// Listen for the removal of the full notebook cells\n",
       "var notebookContainer = gd.closest('#notebook-container');\n",
       "if (notebookContainer) {{\n",
       "    x.observe(notebookContainer, {childList: true});\n",
       "}}\n",
       "\n",
       "// Listen for the clearing of the current output cell\n",
       "var outputEl = gd.closest('.output');\n",
       "if (outputEl) {{\n",
       "    x.observe(outputEl, {childList: true});\n",
       "}}\n",
       "\n",
       "                        })                };                });            </script>        </div>"
      ]
     },
     "metadata": {},
     "output_type": "display_data"
    }
   ],
   "source": [
    "fig = Performance.sort_values(by = ['Positive Score','Negative Score'], ascending = False).plot.bar(x='Symbol', y=['Positive Score', 'Negative Score'])\n",
    "fig.update_xaxes(tickangle=0)\n",
    "fig.update_layout(width=5000)\n",
    "fig"
   ]
  },
  {
   "cell_type": "code",
   "execution_count": null,
   "metadata": {},
   "outputs": [],
   "source": []
  }
 ],
 "metadata": {
  "kernelspec": {
   "display_name": "Python 3",
   "language": "python",
   "name": "python3"
  },
  "language_info": {
   "codemirror_mode": {
    "name": "ipython",
    "version": 3
   },
   "file_extension": ".py",
   "mimetype": "text/x-python",
   "name": "python",
   "nbconvert_exporter": "python",
   "pygments_lexer": "ipython3",
   "version": "3.8.5"
  }
 },
 "nbformat": 4,
 "nbformat_minor": 4
}
