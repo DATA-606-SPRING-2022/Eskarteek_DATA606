{
  "nbformat": 4,
  "nbformat_minor": 0,
  "metadata": {
    "colab": {
      "name": "inclass_practice_part_3.ipynb",
      "provenance": [],
      "collapsed_sections": [],
      "authorship_tag": "ABX9TyOhGcn0+U06JavtgpPkk5HK",
      "include_colab_link": true
    },
    "kernelspec": {
      "name": "python3",
      "display_name": "Python 3"
    },
    "language_info": {
      "name": "python"
    }
  },
  "cells": [
    {
      "cell_type": "markdown",
      "metadata": {
        "id": "view-in-github",
        "colab_type": "text"
      },
      "source": [
        "<a href=\"https://colab.research.google.com/github/Eskarteek/Eskarteek_DATA606/blob/main/assignment_04/inclass_practice_part_4.ipynb\" target=\"_parent\"><img src=\"https://colab.research.google.com/assets/colab-badge.svg\" alt=\"Open In Colab\"/></a>"
      ]
    },
    {
      "cell_type": "markdown",
      "source": [
        "# In class practice part 3\n",
        "\n",
        "- name: Sai karteek Edumudi\n",
        "-Date: 2/21/22"
      ],
      "metadata": {
        "id": "5YF6ZCtzLthc"
      }
    },
    {
      "cell_type": "code",
      "execution_count": 7,
      "metadata": {
        "colab": {
          "base_uri": "https://localhost:8080/"
        },
        "id": "7zkwb4tkLjCJ",
        "outputId": "a9ae60cb-452b-42aa-eecb-517195679886"
      },
      "outputs": [
        {
          "output_type": "execute_result",
          "data": {
            "text/plain": [
              "['{\\\\rtf1\\\\ansi\\\\ansicpg1252\\\\cocoartf2636\\n',\n",
              " '\\\\cocoatextscaling0\\\\cocoaplatform0{\\\\fonttbl\\\\f0\\\\fmodern\\\\fcharset0 Courier;}\\n',\n",
              " '{\\\\colortbl;\\\\red255\\\\green255\\\\blue255;\\\\red0\\\\green0\\\\blue0;}\\n',\n",
              " '{\\\\*\\\\expandedcolortbl;;\\\\cssrgb\\\\c0\\\\c0\\\\c0;}\\n',\n",
              " '\\\\margl1440\\\\margr1440\\\\vieww11520\\\\viewh8400\\\\viewkind0\\n',\n",
              " '\\\\deftab720\\n',\n",
              " '\\\\pard\\\\pardeftab720\\\\partightenfactor0\\n',\n",
              " '\\n',\n",
              " '\\\\f0\\\\fs26 \\\\cf0 \\\\expnd0\\\\expndtw0\\\\kerning0\\n',\n",
              " '\\\\outl0\\\\strokewidth0 \\\\strokec2 Source: https://www.genealogybranches.com/censuscosts.html\\\\\\n',\n",
              " 'Census Year\\tTotal Population\\tCensus Cost\\tAverage Cost Per Person\\\\\\n',\n",
              " '1790\\t3,929,214\\t$44,377\\t1.13 cents\\\\\\n',\n",
              " '1800\\t5,308,483\\t$66,109\\t1.24 cents\\\\\\n',\n",
              " '1810\\t7,239,881\\t$178,445\\t2.46 cents\\\\\\n',\n",
              " '1820\\t9,633,822\\t$208,526\\t2.16 cents\\\\\\n',\n",
              " '1830\\t12,866,020\\t$378,545\\t2.94 cents\\\\\\n',\n",
              " '1840\\t17,069,458\\t$833,371\\t4.88 cents\\\\\\n',\n",
              " '1850\\t23,191,876\\t$1,423,351\\t6.14 cents\\\\\\n',\n",
              " '1860\\t31,443,321\\t$1,969,377\\t6.26 cents\\\\\\n',\n",
              " '1870\\t38,558,371\\t$3,421,198\\t8.87 cents\\\\\\n',\n",
              " '1880\\t50,155,783\\t$5,790,678\\t11.54 cents\\\\\\n',\n",
              " '1890\\t62,979,766\\t$11,547,127\\t18.33 cents\\\\\\n',\n",
              " '1900\\t76,303,387\\t$11,854,000\\t15.54 cents\\\\\\n',\n",
              " '1910\\t91,972,266\\t$15,968,000\\t17.07 cents\\\\\\n',\n",
              " '1920\\t105,710,620\\t$25,117,000\\t23.76 cents\\\\\\n',\n",
              " '1930\\t122,775,046\\t$40,156,000\\t32.71 cents\\\\\\n',\n",
              " '1940\\t131,669,275\\t$67,527,000\\t51.29 cents\\\\\\n',\n",
              " '1950\\t151,325,798\\t$91,462,000\\t60.44 cents\\\\\\n',\n",
              " '1960\\t179,323,175\\t$127,934,000\\t71.34 cents\\\\\\n',\n",
              " '1970\\t203,302,031\\t$247,653,000\\t$1.22\\\\\\n',\n",
              " '1980\\t226,542,199\\t$1,078,488,000\\t$4.76\\\\\\n',\n",
              " '1990\\t248,718,301\\t$2,492,830,000\\t$10.02\\\\\\n',\n",
              " '2000\\t281,421,906\\t$4.5 Billion\\t$15.99\\\\\\n',\n",
              " '2010*\\t308,745,538\\t$13 Billion\\t$42.11\\\\\\n',\n",
              " '}']"
            ]
          },
          "metadata": {},
          "execution_count": 7
        }
      ],
      "source": [
        "with open(\"/content/690.txt\",'r') as f:\n",
        "  line_list = f.readlines()\n",
        "\n",
        "line_list"
      ]
    },
    {
      "cell_type": "code",
      "source": [
        "len(line_list)"
      ],
      "metadata": {
        "colab": {
          "base_uri": "https://localhost:8080/"
        },
        "id": "kJ5VaMVxOpVT",
        "outputId": "c3e534ef-8fef-4c71-8df9-d9007a5c19e0"
      },
      "execution_count": 8,
      "outputs": [
        {
          "output_type": "execute_result",
          "data": {
            "text/plain": [
              "35"
            ]
          },
          "metadata": {},
          "execution_count": 8
        }
      ]
    },
    {
      "cell_type": "code",
      "source": [
        "top2_list = line_list[0:2]\n",
        "top2_list"
      ],
      "metadata": {
        "colab": {
          "base_uri": "https://localhost:8080/"
        },
        "id": "NXwemIxEOugW",
        "outputId": "6329d04c-b9e5-441f-9c52-4ac6ad668476"
      },
      "execution_count": 9,
      "outputs": [
        {
          "output_type": "execute_result",
          "data": {
            "text/plain": [
              "['{\\\\rtf1\\\\ansi\\\\ansicpg1252\\\\cocoartf2636\\n',\n",
              " '\\\\cocoatextscaling0\\\\cocoaplatform0{\\\\fonttbl\\\\f0\\\\fmodern\\\\fcharset0 Courier;}\\n']"
            ]
          },
          "metadata": {},
          "execution_count": 9
        }
      ]
    },
    {
      "cell_type": "code",
      "source": [
        "line2_list = line_list[-2]"
      ],
      "metadata": {
        "id": "Kc1HuN0CPEq_"
      },
      "execution_count": 10,
      "outputs": []
    },
    {
      "cell_type": "code",
      "source": [
        "line2_list"
      ],
      "metadata": {
        "colab": {
          "base_uri": "https://localhost:8080/",
          "height": 34
        },
        "id": "9fAINnT7PI84",
        "outputId": "1527a877-45d0-4d59-b41a-f7f333665fe9"
      },
      "execution_count": 11,
      "outputs": [
        {
          "output_type": "execute_result",
          "data": {
            "application/vnd.google.colaboratory.intrinsic+json": {
              "type": "string"
            },
            "text/plain": [
              "'2010*\\t308,745,538\\t$13 Billion\\t$42.11\\\\\\n'"
            ]
          },
          "metadata": {},
          "execution_count": 11
        }
      ]
    },
    {
      "cell_type": "code",
      "source": [
        "list2_list = line_list[-2::]\n",
        "list2_list"
      ],
      "metadata": {
        "colab": {
          "base_uri": "https://localhost:8080/"
        },
        "id": "yHwpFfAMPvNW",
        "outputId": "4ae5239b-6982-4f7f-cc6d-946dd9e0c082"
      },
      "execution_count": 12,
      "outputs": [
        {
          "output_type": "execute_result",
          "data": {
            "text/plain": [
              "['2010*\\t308,745,538\\t$13 Billion\\t$42.11\\\\\\n', '}']"
            ]
          },
          "metadata": {},
          "execution_count": 12
        }
      ]
    },
    {
      "cell_type": "code",
      "source": [
        "line_list[-4:-1]"
      ],
      "metadata": {
        "colab": {
          "base_uri": "https://localhost:8080/"
        },
        "id": "XWpvl7XQP8zW",
        "outputId": "a7eaf01d-820e-4c21-bfff-dc2976f8061e"
      },
      "execution_count": 13,
      "outputs": [
        {
          "output_type": "execute_result",
          "data": {
            "text/plain": [
              "['1990\\t248,718,301\\t$2,492,830,000\\t$10.02\\\\\\n',\n",
              " '2000\\t281,421,906\\t$4.5 Billion\\t$15.99\\\\\\n',\n",
              " '2010*\\t308,745,538\\t$13 Billion\\t$42.11\\\\\\n']"
            ]
          },
          "metadata": {},
          "execution_count": 13
        }
      ]
    },
    {
      "cell_type": "code",
      "source": [
        "data_list = line_list[2:]"
      ],
      "metadata": {
        "id": "mbdugCb4QB5m"
      },
      "execution_count": 14,
      "outputs": []
    },
    {
      "cell_type": "code",
      "source": [
        "data_list"
      ],
      "metadata": {
        "colab": {
          "base_uri": "https://localhost:8080/"
        },
        "id": "zeZFlch5QcAw",
        "outputId": "c0205211-3512-4fb2-f3eb-ce22e0bd755e"
      },
      "execution_count": 15,
      "outputs": [
        {
          "output_type": "execute_result",
          "data": {
            "text/plain": [
              "['{\\\\colortbl;\\\\red255\\\\green255\\\\blue255;\\\\red0\\\\green0\\\\blue0;}\\n',\n",
              " '{\\\\*\\\\expandedcolortbl;;\\\\cssrgb\\\\c0\\\\c0\\\\c0;}\\n',\n",
              " '\\\\margl1440\\\\margr1440\\\\vieww11520\\\\viewh8400\\\\viewkind0\\n',\n",
              " '\\\\deftab720\\n',\n",
              " '\\\\pard\\\\pardeftab720\\\\partightenfactor0\\n',\n",
              " '\\n',\n",
              " '\\\\f0\\\\fs26 \\\\cf0 \\\\expnd0\\\\expndtw0\\\\kerning0\\n',\n",
              " '\\\\outl0\\\\strokewidth0 \\\\strokec2 Source: https://www.genealogybranches.com/censuscosts.html\\\\\\n',\n",
              " 'Census Year\\tTotal Population\\tCensus Cost\\tAverage Cost Per Person\\\\\\n',\n",
              " '1790\\t3,929,214\\t$44,377\\t1.13 cents\\\\\\n',\n",
              " '1800\\t5,308,483\\t$66,109\\t1.24 cents\\\\\\n',\n",
              " '1810\\t7,239,881\\t$178,445\\t2.46 cents\\\\\\n',\n",
              " '1820\\t9,633,822\\t$208,526\\t2.16 cents\\\\\\n',\n",
              " '1830\\t12,866,020\\t$378,545\\t2.94 cents\\\\\\n',\n",
              " '1840\\t17,069,458\\t$833,371\\t4.88 cents\\\\\\n',\n",
              " '1850\\t23,191,876\\t$1,423,351\\t6.14 cents\\\\\\n',\n",
              " '1860\\t31,443,321\\t$1,969,377\\t6.26 cents\\\\\\n',\n",
              " '1870\\t38,558,371\\t$3,421,198\\t8.87 cents\\\\\\n',\n",
              " '1880\\t50,155,783\\t$5,790,678\\t11.54 cents\\\\\\n',\n",
              " '1890\\t62,979,766\\t$11,547,127\\t18.33 cents\\\\\\n',\n",
              " '1900\\t76,303,387\\t$11,854,000\\t15.54 cents\\\\\\n',\n",
              " '1910\\t91,972,266\\t$15,968,000\\t17.07 cents\\\\\\n',\n",
              " '1920\\t105,710,620\\t$25,117,000\\t23.76 cents\\\\\\n',\n",
              " '1930\\t122,775,046\\t$40,156,000\\t32.71 cents\\\\\\n',\n",
              " '1940\\t131,669,275\\t$67,527,000\\t51.29 cents\\\\\\n',\n",
              " '1950\\t151,325,798\\t$91,462,000\\t60.44 cents\\\\\\n',\n",
              " '1960\\t179,323,175\\t$127,934,000\\t71.34 cents\\\\\\n',\n",
              " '1970\\t203,302,031\\t$247,653,000\\t$1.22\\\\\\n',\n",
              " '1980\\t226,542,199\\t$1,078,488,000\\t$4.76\\\\\\n',\n",
              " '1990\\t248,718,301\\t$2,492,830,000\\t$10.02\\\\\\n',\n",
              " '2000\\t281,421,906\\t$4.5 Billion\\t$15.99\\\\\\n',\n",
              " '2010*\\t308,745,538\\t$13 Billion\\t$42.11\\\\\\n',\n",
              " '}']"
            ]
          },
          "metadata": {},
          "execution_count": 15
        }
      ]
    },
    {
      "cell_type": "code",
      "source": [
        "year_list = []\n",
        "\n",
        "for line in data_list:\n",
        "  if year = line[0:4]:\n",
        "    year_list.append(year)\n",
        "\n",
        "\n",
        "print(pop_list)"
      ],
      "metadata": {
        "colab": {
          "base_uri": "https://localhost:8080/",
          "height": 125
        },
        "id": "6DQpx0gAQddK",
        "outputId": "9d9662a6-69b2-4b1a-e076-3dd123c2ad8f"
      },
      "execution_count": 16,
      "outputs": [
        {
          "output_type": "error",
          "ename": "SyntaxError",
          "evalue": "ignored",
          "traceback": [
            "\u001b[0;36m  File \u001b[0;32m\"<ipython-input-16-79cfc6c6903e>\"\u001b[0;36m, line \u001b[0;32m4\u001b[0m\n\u001b[0;31m    if year = line[0:4]:\u001b[0m\n\u001b[0m            ^\u001b[0m\n\u001b[0;31mSyntaxError\u001b[0m\u001b[0;31m:\u001b[0m invalid syntax\n"
          ]
        }
      ]
    },
    {
      "cell_type": "code",
      "source": [
        "x = '1790]\\t3,929,214\\t1.13 centa\\n'\n",
        "\n",
        "x.split(\"\\t\")"
      ],
      "metadata": {
        "colab": {
          "base_uri": "https://localhost:8080/"
        },
        "id": "AJt73sluStDj",
        "outputId": "ad7122a9-5fa2-4438-b927-144225aa8ea3"
      },
      "execution_count": 17,
      "outputs": [
        {
          "output_type": "execute_result",
          "data": {
            "text/plain": [
              "['1790]', '3,929,214', '1.13 centa\\n']"
            ]
          },
          "metadata": {},
          "execution_count": 17
        }
      ]
    },
    {
      "cell_type": "code",
      "source": [
        ""
      ],
      "metadata": {
        "id": "n5oux-X1S4N0"
      },
      "execution_count": null,
      "outputs": []
    }
  ]
}